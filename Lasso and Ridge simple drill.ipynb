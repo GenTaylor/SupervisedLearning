{
 "cells": [
  {
   "cell_type": "code",
   "execution_count": 11,
   "metadata": {},
   "outputs": [],
   "source": [
    "import pandas as pd\n",
    "from matplotlib import pyplot as plt\n",
    "import numpy as np\n",
    "import math\n",
    "import seaborn as sns\n",
    "import sklearn\n",
    "from sklearn import linear_model\n",
    "from sklearn import preprocessing\n",
    "%matplotlib inline\n",
    "sns.set_style('white')"
   ]
  },
  {
   "cell_type": "code",
   "execution_count": 12,
   "metadata": {},
   "outputs": [
    {
     "name": "stderr",
     "output_type": "stream",
     "text": [
      "c:\\users\\genta\\appdata\\local\\programs\\python\\python37\\lib\\site-packages\\ipykernel_launcher.py:11: DataConversionWarning: Data with input dtype int32, float64 were all converted to float64 by the scale function.\n",
      "  # This is added back by InteractiveShellApp.init_path()\n"
     ]
    }
   ],
   "source": [
    "# Load the data again. Keep air quality data, drop the index column\n",
    "# and any missing data columns.\n",
    "df = pd.read_csv(\n",
    "    'https://vincentarelbundock.github.io/Rdatasets/csv/ISLR/Default.csv'\n",
    ").iloc[:,1:].dropna()\n",
    "\n",
    "# Recode strings to numeric.\n",
    "df['default'] = np.where(df['default']=='Yes', 1, 0)\n",
    "df['student'] = np.where(df['student']=='Yes', 1, 0)\n",
    "names = df.columns\n",
    "df = pd.DataFrame(preprocessing.scale(df), columns=names)\n",
    "\n",
    "# Define the training and test sizes.\n",
    "trainsize = int(df.shape[0] / 2)\n",
    "df_test = df.iloc[trainsize:, :].copy()\n",
    "df_train = df.iloc[:trainsize, :].copy()\n",
    "\n",
    "Y_train = df_train['income'].values.reshape(-1, 1)\n",
    "X_train = df_train.loc[:, ~(df_train.columns).isin(['income'])]\n",
    "\n",
    "# Make some new features to capture potential quadratic and cubic\n",
    "# relationships between solar radiation and day or temperature.\n",
    "df_train['balance_student'] = df_train['balance'] * df_train['student']\n",
    "df_train['balance_default'] = df_train['balance'] * df_train['default']\n",
    "df_train['student_default'] = df_train['student'] * df_train['default']\n",
    "df_train['balance_sqrt'] = (df_train['balance'] + 100) ** .5\n",
    "df_train['balance2'] = (df_train['balance'] + 100) ** 2\n",
    "df_train['balance3'] = (df_train['balance'] + 100) ** 3\n",
    "\n",
    "X_train2 = df_train.loc[:, ~(df_train.columns).isin(['income'])]\n",
    "\n",
    "# Test the simpler model with smaller coefficients.\n",
    "Y_test = df_test['income'].values.reshape(-1, 1)\n",
    "X_test = df_test.loc[:, ~(df_test.columns).isin(['income'])]\n",
    "\n",
    "# Test the more complex model with larger coefficients.\n",
    "df_test['balance_student'] = df_test['balance'] * df_test['student']\n",
    "df_test['balance_default'] = df_test['balance'] * df_test['default']\n",
    "df_test['student_default'] = df_test['student'] * df_test['default']\n",
    "df_test['balance_sqrt'] = (df_test['balance'] + 100) ** .5\n",
    "df_test['balance2'] = (df_test['balance'] + 100) ** 2\n",
    "df_test['balance3'] = (df_test['balance'] + 100) ** 3\n",
    "X_test2 = df_test.loc[:, ~(df_test.columns).isin(['income'])]\n"
   ]
  },
  {
   "cell_type": "code",
   "execution_count": 14,
   "metadata": {},
   "outputs": [
    {
     "data": {
      "text/plain": [
       "<matplotlib.collections.PathCollection at 0x1e6602ee9b0>"
      ]
     },
     "execution_count": 14,
     "metadata": {},
     "output_type": "execute_result"
    },
    {
     "data": {
      "image/png": "[encoded data removed]",
      "text/plain": [
       "<Figure size 432x288 with 1 Axes>"
      ]
     },
     "metadata": {},
     "output_type": "display_data"
    }
   ],
   "source": [
    "# Large number of parameters.\n",
    "lassBig = linear_model.Lasso(alpha=.5)\n",
    "lassBig.fit(X_train2, Y_train)\n",
    "\n",
    "#lasso\n",
    "ls1 = lassBig.score(X_train2, Y_train)\n",
    "\n",
    "lassmed = linear_model.Lasso(alpha=.25)\n",
    "lassmed.fit(X_train2, Y_train)\n",
    "\n",
    "ls2= lassmed.score(X_train2, Y_train)\n",
    "\n",
    "lasssm = linear_model.Lasso(alpha=.125)\n",
    "lasssm.fit(X_train2, Y_train)\n",
    "\n",
    "ls3=lasssm.score(X_train2, Y_train)\n",
    "\n",
    "\n",
    "ls4 = lassBig.score(X_test2, Y_test)\n",
    "ls5 = lassmed.score(X_test2, Y_test)\n",
    "ls6= lasssm.score(X_test2, Y_test)\n",
    "\n",
    "#ridge\n",
    "ridgeBig=linear_model.Ridge(alpha=.5)\n",
    "ridgeBig.fit(X_train2, Y_train)\n",
    "rd1 = ridgeBig.score(X_train2, Y_train)\n",
    "\n",
    "ridgeMed=linear_model.Ridge(alpha=.25)\n",
    "ridgeMed.fit(X_train2, Y_train)\n",
    "rd2 = ridgeMed.score(X_train2, Y_train)\n",
    "\n",
    "ridgesm=linear_model.Ridge(alpha=.125)\n",
    "ridgesm.fit(X_train2, Y_train)\n",
    "rd3 = ridgesm.score(X_train2, Y_train)\n",
    "\n",
    "rd4= ridgeBig.score(X_test2, Y_test)\n",
    "rd5= ridgeMed.score(X_test2, Y_test)\n",
    "rd6= ridgesm.score(X_test2, Y_test)\n",
    "\n",
    "    \n",
    "\n",
    "\n",
    "\n",
    "x= ls1, ls2, ls3, rd1, rd2, rd3\n",
    "y= ls4, ls5, ls6, rd4, rd5, rd6\n",
    "\n",
    "\n",
    "plt.scatter(x,y)\n"
   ]
  },
  {
   "cell_type": "code",
   "execution_count": 20,
   "metadata": {},
   "outputs": [
    {
     "name": "stdout",
     "output_type": "stream",
     "text": [
      "Lasso Scores\n",
      "Lasso Big Train Score: 0.30824960733096385\n",
      "Lasso Med Train Score: 0.5073444290020297\n",
      "Lasso Small Train Score: 0.5571168470040088\n",
      "Lasso Big Test Score: 0.30273308882996774\n",
      "Lasso Med Test Score: 0.5010305901413674\n",
      "Lasso Small Test Score: 0.54913450708478\n",
      "\n",
      "Ridge Scores:\n",
      "Ridge Big Train Score: 0.5739723094974005\n",
      "Ridge Med Train Score: 0.5739723143241755\n",
      "Ridge Small Train Score: 0.5739723156070178\n",
      "Ridge Big Test Score: 0.5630009659828344\n",
      "Ridge Med Test Score: 0.5630000523604941\n",
      "Ridge Small Test Score: 0.5629995948842128\n"
     ]
    }
   ],
   "source": [
    "#r2 scores\n",
    "print('Lasso Scores')\n",
    "print('Lasso Big Train Score:', ls1)\n",
    "print('Lasso Med Train Score:', ls2)\n",
    "print('Lasso Small Train Score:', ls3)\n",
    "print('Lasso Big Test Score:', ls4)\n",
    "print('Lasso Med Test Score:', ls5)\n",
    "print('Lasso Small Test Score:', ls6)\n",
    "print('')\n",
    "\n",
    "\n",
    "print('Ridge Scores:')\n",
    "print('Ridge Big Train Score:', rd1)\n",
    "print('Ridge Med Train Score:',rd2)\n",
    "print('Ridge Small Train Score:',rd3)\n",
    "print('Ridge Big Test Score:',rd4)\n",
    "print('Ridge Med Test Score:',rd5)\n",
    "print('Ridge Small Test Score:',rd6)\n"
   ]
  },
  {
   "cell_type": "markdown",
   "metadata": {},
   "source": [
    "Do lasso and ridge yield the same  R2R2  for a given lambda value? They vary only slightly. "
   ]
  },
  {
   "cell_type": "code",
   "execution_count": null,
   "metadata": {},
   "outputs": [],
   "source": []
  }
 ],
 "metadata": {
  "kernelspec": {
   "display_name": "Python 3",
   "language": "python",
   "name": "python3"
  },
  "language_info": {
   "codemirror_mode": {
    "name": "ipython",
    "version": 3
   },
   "file_extension": ".py",
   "mimetype": "text/x-python",
   "name": "python",
   "nbconvert_exporter": "python",
   "pygments_lexer": "ipython3",
   "version": "3.7.2"
  }
 },
 "nbformat": 4,
 "nbformat_minor": 2
}
