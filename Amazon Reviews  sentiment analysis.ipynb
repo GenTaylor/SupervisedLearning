{
 "cells": [
  {
   "cell_type": "markdown",
   "metadata": {},
   "source": [
    "### Amazon Reviews: Sentiment Analysis"
   ]
  },
  {
   "cell_type": "markdown",
   "metadata": {},
   "source": [
    "Use one of the following datasets to perform sentiment analysis on the given Amazon reviews. Pick one of the \"small\" datasets that is a reasonable size for your computer. The goal is to create a model to algorithmically predict if a review is positive or negative just based on its text. Try to see how these reviews compare across categories. Does a review classification model for one category work for another?"
   ]
  },
  {
   "cell_type": "code",
   "execution_count": 140,
   "metadata": {},
   "outputs": [],
   "source": [
    "\n",
    "#importing modules and potential modules\n",
    "%matplotlib inline\n",
    "import numpy as np\n",
    "import pandas as pd\n",
    "import scipy\n",
    "import sklearn\n",
    "import matplotlib.pyplot as plt\n",
    "import seaborn as sns\n",
    "import random\n",
    "import  re\n",
    "\n",
    "import nltk\n",
    "from nltk import word_tokenize\n",
    "from nltk.corpus import stopwords\n",
    "from nltk.stem.wordnet import WordNetLemmatizer\n",
    "\n",
    "#stemmers\n",
    "from nltk.stem import PorterStemmer\n",
    "from nltk.stem import LancasterStemmer\n",
    "\n",
    "import json\n",
    "import gzip\n",
    "\n",
    "from sklearn.naive_bayes import BernoulliNB\n",
    "from nltk.corpus import stopwords\n",
    "from sklearn.feature_extraction.text import TfidfVectorizer\n",
    "from sklearn.feature_extraction.text import CountVectorizer\n",
    "from sklearn.model_selection import train_test_split\n",
    "from sklearn import naive_bayes\n",
    "from sklearn.metrics import roc_auc_score"
   ]
  },
  {
   "cell_type": "code",
   "execution_count": 141,
   "metadata": {
    "scrolled": true
   },
   "outputs": [],
   "source": [
    "def parse(path):\n",
    "  g = gzip.open(path, 'rb')\n",
    "  for l in g:\n",
    "    yield eval(l)\n",
    "\n",
    "def getDF(path):\n",
    "  i = 0\n",
    "  df = {}\n",
    "  for d in parse(path):\n",
    "    df[i] = d\n",
    "    i += 1\n",
    "  return pd.DataFrame.from_dict(df, orient='index')\n",
    "\n",
    "df = getDF('C:/Users/genta/Desktop/Thinkful/SupervisedLearning/Datasets/reviews_Amazon_Instant_Video_5.json.gz')"
   ]
  },
  {
   "cell_type": "code",
   "execution_count": 142,
   "metadata": {},
   "outputs": [
    {
     "data": {
      "text/html": [
       "<div>\n",
       "<style scoped>\n",
       "    .dataframe tbody tr th:only-of-type {\n",
       "        vertical-align: middle;\n",
       "    }\n",
       "\n",
       "    .dataframe tbody tr th {\n",
       "        vertical-align: top;\n",
       "    }\n",
       "\n",
       "    .dataframe thead th {\n",
       "        text-align: right;\n",
       "    }\n",
       "</style>\n",
       "<table border=\"1\" class=\"dataframe\">\n",
       "  <thead>\n",
       "    <tr style=\"text-align: right;\">\n",
       "      <th></th>\n",
       "      <th>reviewerID</th>\n",
       "      <th>asin</th>\n",
       "      <th>reviewerName</th>\n",
       "      <th>helpful</th>\n",
       "      <th>reviewText</th>\n",
       "      <th>overall</th>\n",
       "      <th>summary</th>\n",
       "      <th>unixReviewTime</th>\n",
       "      <th>reviewTime</th>\n",
       "    </tr>\n",
       "  </thead>\n",
       "  <tbody>\n",
       "    <tr>\n",
       "      <th>0</th>\n",
       "      <td>A11N155CW1UV02</td>\n",
       "      <td>B000H00VBQ</td>\n",
       "      <td>AdrianaM</td>\n",
       "      <td>[0, 0]</td>\n",
       "      <td>I had big expectations because I love English ...</td>\n",
       "      <td>2.0</td>\n",
       "      <td>A little bit boring for me</td>\n",
       "      <td>1399075200</td>\n",
       "      <td>05 3, 2014</td>\n",
       "    </tr>\n",
       "    <tr>\n",
       "      <th>1</th>\n",
       "      <td>A3BC8O2KCL29V2</td>\n",
       "      <td>B000H00VBQ</td>\n",
       "      <td>Carol T</td>\n",
       "      <td>[0, 0]</td>\n",
       "      <td>I highly recommend this series. It is a must f...</td>\n",
       "      <td>5.0</td>\n",
       "      <td>Excellent Grown Up TV</td>\n",
       "      <td>1346630400</td>\n",
       "      <td>09 3, 2012</td>\n",
       "    </tr>\n",
       "    <tr>\n",
       "      <th>2</th>\n",
       "      <td>A60D5HQFOTSOM</td>\n",
       "      <td>B000H00VBQ</td>\n",
       "      <td>Daniel Cooper \"dancoopermedia\"</td>\n",
       "      <td>[0, 1]</td>\n",
       "      <td>This one is a real snoozer. Don't believe anyt...</td>\n",
       "      <td>1.0</td>\n",
       "      <td>Way too boring for me</td>\n",
       "      <td>1381881600</td>\n",
       "      <td>10 16, 2013</td>\n",
       "    </tr>\n",
       "    <tr>\n",
       "      <th>3</th>\n",
       "      <td>A1RJPIGRSNX4PW</td>\n",
       "      <td>B000H00VBQ</td>\n",
       "      <td>J. Kaplan \"JJ\"</td>\n",
       "      <td>[0, 0]</td>\n",
       "      <td>Mysteries are interesting.  The tension betwee...</td>\n",
       "      <td>4.0</td>\n",
       "      <td>Robson Green is mesmerizing</td>\n",
       "      <td>1383091200</td>\n",
       "      <td>10 30, 2013</td>\n",
       "    </tr>\n",
       "    <tr>\n",
       "      <th>4</th>\n",
       "      <td>A16XRPF40679KG</td>\n",
       "      <td>B000H00VBQ</td>\n",
       "      <td>Michael Dobey</td>\n",
       "      <td>[1, 1]</td>\n",
       "      <td>This show always is excellent, as far as briti...</td>\n",
       "      <td>5.0</td>\n",
       "      <td>Robson green and great writing</td>\n",
       "      <td>1234310400</td>\n",
       "      <td>02 11, 2009</td>\n",
       "    </tr>\n",
       "  </tbody>\n",
       "</table>\n",
       "</div>"
      ],
      "text/plain": [
       "       reviewerID        asin                    reviewerName helpful  \\\n",
       "0  A11N155CW1UV02  B000H00VBQ                        AdrianaM  [0, 0]   \n",
       "1  A3BC8O2KCL29V2  B000H00VBQ                         Carol T  [0, 0]   \n",
       "2   A60D5HQFOTSOM  B000H00VBQ  Daniel Cooper \"dancoopermedia\"  [0, 1]   \n",
       "3  A1RJPIGRSNX4PW  B000H00VBQ                  J. Kaplan \"JJ\"  [0, 0]   \n",
       "4  A16XRPF40679KG  B000H00VBQ                   Michael Dobey  [1, 1]   \n",
       "\n",
       "                                          reviewText  overall  \\\n",
       "0  I had big expectations because I love English ...      2.0   \n",
       "1  I highly recommend this series. It is a must f...      5.0   \n",
       "2  This one is a real snoozer. Don't believe anyt...      1.0   \n",
       "3  Mysteries are interesting.  The tension betwee...      4.0   \n",
       "4  This show always is excellent, as far as briti...      5.0   \n",
       "\n",
       "                          summary  unixReviewTime   reviewTime  \n",
       "0      A little bit boring for me      1399075200   05 3, 2014  \n",
       "1           Excellent Grown Up TV      1346630400   09 3, 2012  \n",
       "2           Way too boring for me      1381881600  10 16, 2013  \n",
       "3     Robson Green is mesmerizing      1383091200  10 30, 2013  \n",
       "4  Robson green and great writing      1234310400  02 11, 2009  "
      ]
     },
     "execution_count": 142,
     "metadata": {},
     "output_type": "execute_result"
    }
   ],
   "source": [
    "df.head()"
   ]
  },
  {
   "cell_type": "code",
   "execution_count": 143,
   "metadata": {},
   "outputs": [
    {
     "data": {
      "text/plain": [
       "Index(['reviewerID', 'asin', 'reviewerName', 'helpful', 'reviewText',\n",
       "       'overall', 'summary', 'unixReviewTime', 'reviewTime'],\n",
       "      dtype='object')"
      ]
     },
     "execution_count": 143,
     "metadata": {},
     "output_type": "execute_result"
    }
   ],
   "source": [
    "df.columns"
   ]
  },
  {
   "cell_type": "code",
   "execution_count": 144,
   "metadata": {},
   "outputs": [],
   "source": [
    "#convert time\n",
    "\n",
    "df[\"reviewTime\"] = pd.to_datetime(df[\"reviewTime\"])"
   ]
  },
  {
   "cell_type": "code",
   "execution_count": 145,
   "metadata": {},
   "outputs": [
    {
     "data": {
      "text/html": [
       "<div>\n",
       "<style scoped>\n",
       "    .dataframe tbody tr th:only-of-type {\n",
       "        vertical-align: middle;\n",
       "    }\n",
       "\n",
       "    .dataframe tbody tr th {\n",
       "        vertical-align: top;\n",
       "    }\n",
       "\n",
       "    .dataframe thead th {\n",
       "        text-align: right;\n",
       "    }\n",
       "</style>\n",
       "<table border=\"1\" class=\"dataframe\">\n",
       "  <thead>\n",
       "    <tr style=\"text-align: right;\">\n",
       "      <th></th>\n",
       "      <th>reviewerID</th>\n",
       "      <th>asin</th>\n",
       "      <th>reviewerName</th>\n",
       "      <th>helpful</th>\n",
       "      <th>reviewText</th>\n",
       "      <th>overall</th>\n",
       "      <th>summary</th>\n",
       "      <th>unixReviewTime</th>\n",
       "      <th>reviewTime</th>\n",
       "    </tr>\n",
       "  </thead>\n",
       "  <tbody>\n",
       "    <tr>\n",
       "      <th>37121</th>\n",
       "      <td>A1ELO9LMSE1CQ7</td>\n",
       "      <td>B00LPWPMCS</td>\n",
       "      <td>Mpr90</td>\n",
       "      <td>[0, 0]</td>\n",
       "      <td>I love the books! The show is amazing so far. ...</td>\n",
       "      <td>5.0</td>\n",
       "      <td>Great Series!</td>\n",
       "      <td>1405728000</td>\n",
       "      <td>2014-07-19</td>\n",
       "    </tr>\n",
       "    <tr>\n",
       "      <th>37122</th>\n",
       "      <td>AGOEKVIJV9UX6</td>\n",
       "      <td>B00LPWPMCS</td>\n",
       "      <td>Mr. Markster</td>\n",
       "      <td>[13, 15]</td>\n",
       "      <td>\"The Strain\" has potential to be an excellent ...</td>\n",
       "      <td>5.0</td>\n",
       "      <td>Forget the Vampire Diaries -- This is a REAL V...</td>\n",
       "      <td>1405296000</td>\n",
       "      <td>2014-07-14</td>\n",
       "    </tr>\n",
       "    <tr>\n",
       "      <th>37123</th>\n",
       "      <td>A3I291BE0RNZCU</td>\n",
       "      <td>B00LPWPMCS</td>\n",
       "      <td>Rating My Best Pick</td>\n",
       "      <td>[0, 2]</td>\n",
       "      <td>I'm not real sure on how, I should rate this s...</td>\n",
       "      <td>3.0</td>\n",
       "      <td>It's only the first episode so I'm not real su...</td>\n",
       "      <td>1405296000</td>\n",
       "      <td>2014-07-14</td>\n",
       "    </tr>\n",
       "    <tr>\n",
       "      <th>37124</th>\n",
       "      <td>A1MNITZRYU71IO</td>\n",
       "      <td>B00LPWPMCS</td>\n",
       "      <td>Sherry \"trying in ohio\"</td>\n",
       "      <td>[1, 1]</td>\n",
       "      <td>episode one so far makes me want to watch more...</td>\n",
       "      <td>4.0</td>\n",
       "      <td>and that is good. The accents are a bit much h...</td>\n",
       "      <td>1405296000</td>\n",
       "      <td>2014-07-14</td>\n",
       "    </tr>\n",
       "    <tr>\n",
       "      <th>37125</th>\n",
       "      <td>A1XMHK9HN5MW2H</td>\n",
       "      <td>B00LPWPMCS</td>\n",
       "      <td>Victoria J. Dennison</td>\n",
       "      <td>[3, 4]</td>\n",
       "      <td>I watched the pilot.  I guess I've just seen t...</td>\n",
       "      <td>3.0</td>\n",
       "      <td>I may have paid towatch the pilot</td>\n",
       "      <td>1405468800</td>\n",
       "      <td>2014-07-16</td>\n",
       "    </tr>\n",
       "  </tbody>\n",
       "</table>\n",
       "</div>"
      ],
      "text/plain": [
       "           reviewerID        asin             reviewerName   helpful  \\\n",
       "37121  A1ELO9LMSE1CQ7  B00LPWPMCS                    Mpr90    [0, 0]   \n",
       "37122   AGOEKVIJV9UX6  B00LPWPMCS             Mr. Markster  [13, 15]   \n",
       "37123  A3I291BE0RNZCU  B00LPWPMCS      Rating My Best Pick    [0, 2]   \n",
       "37124  A1MNITZRYU71IO  B00LPWPMCS  Sherry \"trying in ohio\"    [1, 1]   \n",
       "37125  A1XMHK9HN5MW2H  B00LPWPMCS     Victoria J. Dennison    [3, 4]   \n",
       "\n",
       "                                              reviewText  overall  \\\n",
       "37121  I love the books! The show is amazing so far. ...      5.0   \n",
       "37122  \"The Strain\" has potential to be an excellent ...      5.0   \n",
       "37123  I'm not real sure on how, I should rate this s...      3.0   \n",
       "37124  episode one so far makes me want to watch more...      4.0   \n",
       "37125  I watched the pilot.  I guess I've just seen t...      3.0   \n",
       "\n",
       "                                                 summary  unixReviewTime  \\\n",
       "37121                                      Great Series!      1405728000   \n",
       "37122  Forget the Vampire Diaries -- This is a REAL V...      1405296000   \n",
       "37123  It's only the first episode so I'm not real su...      1405296000   \n",
       "37124  and that is good. The accents are a bit much h...      1405296000   \n",
       "37125                  I may have paid towatch the pilot      1405468800   \n",
       "\n",
       "      reviewTime  \n",
       "37121 2014-07-19  \n",
       "37122 2014-07-14  \n",
       "37123 2014-07-14  \n",
       "37124 2014-07-14  \n",
       "37125 2014-07-16  "
      ]
     },
     "execution_count": 145,
     "metadata": {},
     "output_type": "execute_result"
    }
   ],
   "source": [
    "df.tail()"
   ]
  },
  {
   "cell_type": "code",
   "execution_count": 146,
   "metadata": {},
   "outputs": [
    {
     "data": {
      "text/plain": [
       "reviewerID                object\n",
       "asin                      object\n",
       "reviewerName              object\n",
       "helpful                   object\n",
       "reviewText                object\n",
       "overall                  float64\n",
       "summary                   object\n",
       "unixReviewTime             int64\n",
       "reviewTime        datetime64[ns]\n",
       "dtype: object"
      ]
     },
     "execution_count": 146,
     "metadata": {},
     "output_type": "execute_result"
    }
   ],
   "source": [
    "df.dtypes"
   ]
  },
  {
   "cell_type": "code",
   "execution_count": 147,
   "metadata": {},
   "outputs": [
    {
     "data": {
      "text/plain": [
       "array([2., 5., 1., 4., 3.])"
      ]
     },
     "execution_count": 147,
     "metadata": {},
     "output_type": "execute_result"
    }
   ],
   "source": [
    "df.overall.unique()"
   ]
  },
  {
   "cell_type": "code",
   "execution_count": 148,
   "metadata": {},
   "outputs": [
    {
     "data": {
      "text/plain": [
       "count    37126.00000\n",
       "mean         4.20953\n",
       "std          1.11855\n",
       "min          1.00000\n",
       "25%          4.00000\n",
       "50%          5.00000\n",
       "75%          5.00000\n",
       "max          5.00000\n",
       "Name: overall, dtype: float64"
      ]
     },
     "execution_count": 148,
     "metadata": {},
     "output_type": "execute_result"
    }
   ],
   "source": [
    "df.overall.describe()"
   ]
  },
  {
   "cell_type": "code",
   "execution_count": 149,
   "metadata": {},
   "outputs": [
    {
     "data": {
      "text/plain": [
       "True"
      ]
     },
     "execution_count": 149,
     "metadata": {},
     "output_type": "execute_result"
    }
   ],
   "source": [
    "df.isnull().values.any()"
   ]
  },
  {
   "cell_type": "code",
   "execution_count": 150,
   "metadata": {},
   "outputs": [
    {
     "data": {
      "text/plain": [
       "reviewerID          0\n",
       "asin                0\n",
       "reviewerName      329\n",
       "helpful             0\n",
       "reviewText          0\n",
       "overall             0\n",
       "summary             0\n",
       "unixReviewTime      0\n",
       "reviewTime          0\n",
       "dtype: int64"
      ]
     },
     "execution_count": 150,
     "metadata": {},
     "output_type": "execute_result"
    }
   ],
   "source": [
    "df.isnull().sum()"
   ]
  },
  {
   "cell_type": "code",
   "execution_count": 151,
   "metadata": {},
   "outputs": [
    {
     "data": {
      "text/plain": [
       "0    I had big expectations because I love English ...\n",
       "1    I highly recommend this series. It is a must f...\n",
       "2    This one is a real snoozer. Don't believe anyt...\n",
       "3    Mysteries are interesting.  The tension betwee...\n",
       "4    This show always is excellent, as far as briti...\n",
       "Name: reviewText, dtype: object"
      ]
     },
     "execution_count": 151,
     "metadata": {},
     "output_type": "execute_result"
    }
   ],
   "source": [
    "df['reviewText'][:5]"
   ]
  },
  {
   "cell_type": "code",
   "execution_count": 152,
   "metadata": {},
   "outputs": [
    {
     "data": {
      "text/html": [
       "<div>\n",
       "<style scoped>\n",
       "    .dataframe tbody tr th:only-of-type {\n",
       "        vertical-align: middle;\n",
       "    }\n",
       "\n",
       "    .dataframe tbody tr th {\n",
       "        vertical-align: top;\n",
       "    }\n",
       "\n",
       "    .dataframe thead tr th {\n",
       "        text-align: left;\n",
       "    }\n",
       "\n",
       "    .dataframe thead tr:last-of-type th {\n",
       "        text-align: right;\n",
       "    }\n",
       "</style>\n",
       "<table border=\"1\" class=\"dataframe\">\n",
       "  <thead>\n",
       "    <tr>\n",
       "      <th></th>\n",
       "      <th colspan=\"8\" halign=\"left\">unixReviewTime</th>\n",
       "    </tr>\n",
       "    <tr>\n",
       "      <th></th>\n",
       "      <th>count</th>\n",
       "      <th>mean</th>\n",
       "      <th>std</th>\n",
       "      <th>min</th>\n",
       "      <th>25%</th>\n",
       "      <th>50%</th>\n",
       "      <th>75%</th>\n",
       "      <th>max</th>\n",
       "    </tr>\n",
       "    <tr>\n",
       "      <th>overall</th>\n",
       "      <th></th>\n",
       "      <th></th>\n",
       "      <th></th>\n",
       "      <th></th>\n",
       "      <th></th>\n",
       "      <th></th>\n",
       "      <th></th>\n",
       "      <th></th>\n",
       "    </tr>\n",
       "  </thead>\n",
       "  <tbody>\n",
       "    <tr>\n",
       "      <th>1.0</th>\n",
       "      <td>1718.0</td>\n",
       "      <td>1.377980e+09</td>\n",
       "      <td>2.687575e+07</td>\n",
       "      <td>1.185322e+09</td>\n",
       "      <td>1.366848e+09</td>\n",
       "      <td>1.386936e+09</td>\n",
       "      <td>1.394237e+09</td>\n",
       "      <td>1.405987e+09</td>\n",
       "    </tr>\n",
       "    <tr>\n",
       "      <th>2.0</th>\n",
       "      <td>1885.0</td>\n",
       "      <td>1.376357e+09</td>\n",
       "      <td>2.991026e+07</td>\n",
       "      <td>1.180915e+09</td>\n",
       "      <td>1.366675e+09</td>\n",
       "      <td>1.384906e+09</td>\n",
       "      <td>1.393718e+09</td>\n",
       "      <td>1.406074e+09</td>\n",
       "    </tr>\n",
       "    <tr>\n",
       "      <th>3.0</th>\n",
       "      <td>4187.0</td>\n",
       "      <td>1.375855e+09</td>\n",
       "      <td>3.129261e+07</td>\n",
       "      <td>1.172016e+09</td>\n",
       "      <td>1.367021e+09</td>\n",
       "      <td>1.384646e+09</td>\n",
       "      <td>1.394064e+09</td>\n",
       "      <td>1.406074e+09</td>\n",
       "    </tr>\n",
       "    <tr>\n",
       "      <th>4.0</th>\n",
       "      <td>8446.0</td>\n",
       "      <td>1.375656e+09</td>\n",
       "      <td>3.227882e+07</td>\n",
       "      <td>1.098403e+09</td>\n",
       "      <td>1.367280e+09</td>\n",
       "      <td>1.384906e+09</td>\n",
       "      <td>1.394064e+09</td>\n",
       "      <td>1.406074e+09</td>\n",
       "    </tr>\n",
       "    <tr>\n",
       "      <th>5.0</th>\n",
       "      <td>20890.0</td>\n",
       "      <td>1.377385e+09</td>\n",
       "      <td>2.999948e+07</td>\n",
       "      <td>9.754560e+08</td>\n",
       "      <td>1.368576e+09</td>\n",
       "      <td>1.384992e+09</td>\n",
       "      <td>1.394323e+09</td>\n",
       "      <td>1.406074e+09</td>\n",
       "    </tr>\n",
       "  </tbody>\n",
       "</table>\n",
       "</div>"
      ],
      "text/plain": [
       "        unixReviewTime                                            \\\n",
       "                 count          mean           std           min   \n",
       "overall                                                            \n",
       "1.0             1718.0  1.377980e+09  2.687575e+07  1.185322e+09   \n",
       "2.0             1885.0  1.376357e+09  2.991026e+07  1.180915e+09   \n",
       "3.0             4187.0  1.375855e+09  3.129261e+07  1.172016e+09   \n",
       "4.0             8446.0  1.375656e+09  3.227882e+07  1.098403e+09   \n",
       "5.0            20890.0  1.377385e+09  2.999948e+07  9.754560e+08   \n",
       "\n",
       "                                                                 \n",
       "                  25%           50%           75%           max  \n",
       "overall                                                          \n",
       "1.0      1.366848e+09  1.386936e+09  1.394237e+09  1.405987e+09  \n",
       "2.0      1.366675e+09  1.384906e+09  1.393718e+09  1.406074e+09  \n",
       "3.0      1.367021e+09  1.384646e+09  1.394064e+09  1.406074e+09  \n",
       "4.0      1.367280e+09  1.384906e+09  1.394064e+09  1.406074e+09  \n",
       "5.0      1.368576e+09  1.384992e+09  1.394323e+09  1.406074e+09  "
      ]
     },
     "execution_count": 152,
     "metadata": {},
     "output_type": "execute_result"
    }
   ],
   "source": [
    "df.groupby('overall').describe()"
   ]
  },
  {
   "cell_type": "code",
   "execution_count": 153,
   "metadata": {},
   "outputs": [],
   "source": [
    "#good vs bad feature for overall\n",
    "result = np.where(df['overall']>=3.0, 'good', 'bad')"
   ]
  },
  {
   "cell_type": "code",
   "execution_count": 154,
   "metadata": {},
   "outputs": [],
   "source": [
    "#TfidfVectorizer\n",
    "\n",
    "\n",
    "stopset = set(stopwords.words('english'))\n",
    "vectorizer = TfidfVectorizer(use_idf=True, lowercase=True, strip_accents='ascii', stop_words=stopset)\n"
   ]
  },
  {
   "cell_type": "code",
   "execution_count": 155,
   "metadata": {},
   "outputs": [],
   "source": [
    "#lowercase the text\n",
    "df.reviewText=df.reviewText.str.lower()"
   ]
  },
  {
   "cell_type": "code",
   "execution_count": 156,
   "metadata": {},
   "outputs": [],
   "source": [
    "\n",
    "\n",
    "\n",
    "\n",
    "\n",
    "#converting text to features\n",
    "reviewed = vectorizer.fit_transform(df.reviewText)"
   ]
  },
  {
   "cell_type": "code",
   "execution_count": 157,
   "metadata": {},
   "outputs": [],
   "source": [
    "#test train setup\n",
    "reviewed_train,  reviewed_test, result_train, result_test = train_test_split(reviewed, result, test_size=0.3, random_state=50)"
   ]
  },
  {
   "cell_type": "code",
   "execution_count": 158,
   "metadata": {},
   "outputs": [
    {
     "data": {
      "text/plain": [
       "MultinomialNB(alpha=1.0, class_prior=None, fit_prior=True)"
      ]
     },
     "execution_count": 158,
     "metadata": {},
     "output_type": "execute_result"
    }
   ],
   "source": [
    "#train naive bayes\n",
    "clf = naive_bayes.MultinomialNB()\n",
    "clf.fit(reviewed_train, result_train)"
   ]
  },
  {
   "cell_type": "code",
   "execution_count": 159,
   "metadata": {},
   "outputs": [],
   "source": [
    "pred=clf.predict(reviewed_test)"
   ]
  },
  {
   "cell_type": "code",
   "execution_count": 160,
   "metadata": {},
   "outputs": [
    {
     "name": "stdout",
     "output_type": "stream",
     "text": [
      "ACCURACY : 0.9023163943257317\n"
     ]
    }
   ],
   "source": [
    "from sklearn.metrics import accuracy_score\n",
    "print(\"ACCURACY : \"+str(accuracy_score(result_test,pred)))"
   ]
  },
  {
   "cell_type": "code",
   "execution_count": 161,
   "metadata": {
    "scrolled": true
   },
   "outputs": [
    {
     "name": "stdout",
     "output_type": "stream",
     "text": [
      "[[    0  1087]\n",
      " [    1 10050]]\n",
      "\n",
      "\n",
      "              precision    recall  f1-score   support\n",
      "\n",
      "         bad       0.00      0.00      0.00      1087\n",
      "        good       0.90      1.00      0.95     10051\n",
      "\n",
      "   micro avg       0.90      0.90      0.90     11138\n",
      "   macro avg       0.45      0.50      0.47     11138\n",
      "weighted avg       0.81      0.90      0.86     11138\n",
      "\n"
     ]
    }
   ],
   "source": [
    "from sklearn.metrics import confusion_matrix, classification_report\n",
    "print(confusion_matrix(result_test, pred))\n",
    "print('\\n')\n",
    "print(classification_report(result_test, pred))"
   ]
  },
  {
   "cell_type": "code",
   "execution_count": null,
   "metadata": {},
   "outputs": [],
   "source": []
  }
 ],
 "metadata": {
  "kernelspec": {
   "display_name": "Python 3",
   "language": "python",
   "name": "python3"
  },
  "language_info": {
   "codemirror_mode": {
    "name": "ipython",
    "version": 3
   },
   "file_extension": ".py",
   "mimetype": "text/x-python",
   "name": "python",
   "nbconvert_exporter": "python",
   "pygments_lexer": "ipython3",
   "version": "3.7.2"
  }
 },
 "nbformat": 4,
 "nbformat_minor": 2
}
