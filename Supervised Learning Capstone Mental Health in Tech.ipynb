{
 "cells": [
  {
   "cell_type": "markdown",
   "metadata": {},
   "source": [
    "# Supervised Learning Capstone: Mental Health in Tech"
   ]
  },
  {
   "cell_type": "markdown",
   "metadata": {},
   "source": [
    "Describe your data set. Describe and explore your data set in the initial section of your Report. What does your data contain and what is its background? Where does it come from? Why is it interesting or significant? Conduct summary statistics and produce visualizations for the particular variables from the data set that you will use."
   ]
  },
  {
   "cell_type": "markdown",
   "metadata": {},
   "source": [
    "### Introduction"
   ]
  },
  {
   "cell_type": "markdown",
   "metadata": {},
   "source": [
    "This data is extracted from __[Kaggle](https://www.kaggle.com/osmi/mental-health-in-tech-survey)__ It contains characteristics of various red and white wines and the quality of the wine."
   ]
  },
  {
   "cell_type": "markdown",
   "metadata": {},
   "source": [
    "### Research Interest"
   ]
  },
  {
   "cell_type": "markdown",
   "metadata": {},
   "source": [
    "<b>Objective:</b> To use the variables of this dataset to predict if a person in Tech has sought treatment for a mental health condition."
   ]
  },
  {
   "cell_type": "markdown",
   "metadata": {},
   "source": [
    "<b>Original Features:</b>\n",
    "-  <b>Timestamp</b>: Time survey was submitted\n",
    "-  <b>Age</b>: Age of Responder\n",
    "-  <b>Gender</b>: Gender of Responder\n",
    "-  <b>Country</b>: Country of Responder\n",
    "-  <b>state</b>: State of Responder\n",
    "-  <b>self_employed</b>: Are they self employed?\n",
    "-  <b>family_history</b>: Is there a family history of mental health conditions?\n",
    "-  <b>treatment</b>: Have you sought treatment for a mental health condition?\n",
    "-  <b>work_interfere</b>: If you have a mental health condition, do you feel that it interferes with your work?\n",
    "-  <b>no_employees</b>: How many employees does your company or organization have?\n",
    "-  <b>remote_work</b>: Do you work remotely (outside of an office) at least 50% of the time?\n",
    "-  <b>tech_company</b>: Is your employer primarily a tech company/organization?\n",
    "-  <b>benefits</b>: Does your employer provide mental health benefits?\n",
    "-  <b>care_options</b>: Do you know the options for mental health care your employer provides? \n",
    "-  <b>wellness_program</b>: Has your employer ever discussed mental health as part of an employee wellness program?\n",
    "-  <b>seek_help</b>: Does your employer provide resources to learn more about mental health issues and how to seek help?\n",
    "-  <b>anonymity</b>: Is your anonymity protected if you choose to take advantage of mental health or substance abuse treatment resources?\n",
    "-  <b>leave</b>: How easy is it for you to take medical leave for a mental health condition?\n",
    "-  <b>mental_health_consequence</b>: Do you think that discussing a mental health issue with your employer would have negative consequences?\n",
    "-  <b>phys_health_consequence</b>: Do you think that discussing a physical health issue with your employer would have negative consequences?\n",
    "-  <b>coworkers</b>: Would you be willing to discuss a mental health issue with your coworkers?\n",
    "-  <b>supervisor</b>: Would you be willing to discuss a mental health issue with your direct supervisor(s)?\n",
    "-  <b>mental_health_interview</b>: Would you bring up a mental health issue with a potential employer in an interview?\n",
    "-  <b>phys_health_interview</b>: Would you bring up a physical health issue with a potential employer in an interview?\n",
    "-  <b>mental_vs_physical</b>: Do you feel that your employer takes mental health as seriously as physical health?\n",
    "-  <b>obs_consequence</b>: Have you heard of or observed negative consequences for coworkers with mental health conditions in your workplace?\n",
    "-  <b>comments</b>: Any additional notes or comments"
   ]
  },
  {
   "cell_type": "markdown",
   "metadata": {},
   "source": [
    "### Modules and Data Loading"
   ]
  },
  {
   "cell_type": "code",
   "execution_count": 297,
   "metadata": {},
   "outputs": [],
   "source": [
    "#Import modules\n",
    "import numpy as np\n",
    "import pandas as pd\n",
    "import sklearn\n",
    "import scipy\n",
    "import matplotlib.pyplot as plt\n",
    "import seaborn as sns\n",
    "import math\n",
    "from sklearn.model_selection import cross_val_score\n",
    "%matplotlib inline\n",
    "import warnings\n",
    "warnings.filterwarnings(\"ignore\")"
   ]
  },
  {
   "cell_type": "code",
   "execution_count": 298,
   "metadata": {},
   "outputs": [],
   "source": [
    "df = pd.read_csv((r\"C:\\Users\\genta\\Desktop\\Thinkful\\SupervisedLearning\\SupervisedLearningCapstone\\mentalhealthintechsurvey.csv\"))"
   ]
  },
  {
   "cell_type": "code",
   "execution_count": 299,
   "metadata": {},
   "outputs": [
    {
     "data": {
      "text/plain": [
       "Index(['Timestamp', 'Age', 'Gender', 'Country', 'state', 'self_employed',\n",
       "       'family_history', 'treatment', 'work_interfere', 'no_employees',\n",
       "       'remote_work', 'tech_company', 'benefits', 'care_options',\n",
       "       'wellness_program', 'seek_help', 'anonymity', 'leave',\n",
       "       'mental_health_consequence', 'phys_health_consequence', 'coworkers',\n",
       "       'supervisor', 'mental_health_interview', 'phys_health_interview',\n",
       "       'mental_vs_physical', 'obs_consequence', 'comments'],\n",
       "      dtype='object')"
      ]
     },
     "execution_count": 299,
     "metadata": {},
     "output_type": "execute_result"
    }
   ],
   "source": [
    "df.columns"
   ]
  },
  {
   "cell_type": "markdown",
   "metadata": {},
   "source": [
    "### Data Exploration and Cleaning"
   ]
  },
  {
   "cell_type": "markdown",
   "metadata": {},
   "source": [
    "<b>Explore the data. Get to know the data. You should understand how it was gathered, what's in it, and what the variables look like."
   ]
  },
  {
   "cell_type": "code",
   "execution_count": 300,
   "metadata": {},
   "outputs": [
    {
     "data": {
      "text/plain": [
       "Timestamp                    object\n",
       "Age                           int64\n",
       "Gender                       object\n",
       "Country                      object\n",
       "state                        object\n",
       "self_employed                object\n",
       "family_history               object\n",
       "treatment                    object\n",
       "work_interfere               object\n",
       "no_employees                 object\n",
       "remote_work                  object\n",
       "tech_company                 object\n",
       "benefits                     object\n",
       "care_options                 object\n",
       "wellness_program             object\n",
       "seek_help                    object\n",
       "anonymity                    object\n",
       "leave                        object\n",
       "mental_health_consequence    object\n",
       "phys_health_consequence      object\n",
       "coworkers                    object\n",
       "supervisor                   object\n",
       "mental_health_interview      object\n",
       "phys_health_interview        object\n",
       "mental_vs_physical           object\n",
       "obs_consequence              object\n",
       "comments                     object\n",
       "dtype: object"
      ]
     },
     "execution_count": 300,
     "metadata": {},
     "output_type": "execute_result"
    }
   ],
   "source": [
    "df.dtypes"
   ]
  },
  {
   "cell_type": "markdown",
   "metadata": {},
   "source": [
    "<b>There are 27 features and of those features 26 are objects and 1 is an integer."
   ]
  },
  {
   "cell_type": "code",
   "execution_count": 301,
   "metadata": {},
   "outputs": [
    {
     "data": {
      "text/html": [
       "<div>\n",
       "<style scoped>\n",
       "    .dataframe tbody tr th:only-of-type {\n",
       "        vertical-align: middle;\n",
       "    }\n",
       "\n",
       "    .dataframe tbody tr th {\n",
       "        vertical-align: top;\n",
       "    }\n",
       "\n",
       "    .dataframe thead th {\n",
       "        text-align: right;\n",
       "    }\n",
       "</style>\n",
       "<table border=\"1\" class=\"dataframe\">\n",
       "  <thead>\n",
       "    <tr style=\"text-align: right;\">\n",
       "      <th></th>\n",
       "      <th>Timestamp</th>\n",
       "      <th>Age</th>\n",
       "      <th>Gender</th>\n",
       "      <th>Country</th>\n",
       "      <th>state</th>\n",
       "      <th>self_employed</th>\n",
       "      <th>family_history</th>\n",
       "      <th>treatment</th>\n",
       "      <th>work_interfere</th>\n",
       "      <th>no_employees</th>\n",
       "      <th>...</th>\n",
       "      <th>leave</th>\n",
       "      <th>mental_health_consequence</th>\n",
       "      <th>phys_health_consequence</th>\n",
       "      <th>coworkers</th>\n",
       "      <th>supervisor</th>\n",
       "      <th>mental_health_interview</th>\n",
       "      <th>phys_health_interview</th>\n",
       "      <th>mental_vs_physical</th>\n",
       "      <th>obs_consequence</th>\n",
       "      <th>comments</th>\n",
       "    </tr>\n",
       "  </thead>\n",
       "  <tbody>\n",
       "    <tr>\n",
       "      <th>0</th>\n",
       "      <td>2014-08-27 11:29:31</td>\n",
       "      <td>37</td>\n",
       "      <td>Female</td>\n",
       "      <td>United States</td>\n",
       "      <td>IL</td>\n",
       "      <td>NaN</td>\n",
       "      <td>No</td>\n",
       "      <td>Yes</td>\n",
       "      <td>Often</td>\n",
       "      <td>6-25</td>\n",
       "      <td>...</td>\n",
       "      <td>Somewhat easy</td>\n",
       "      <td>No</td>\n",
       "      <td>No</td>\n",
       "      <td>Some of them</td>\n",
       "      <td>Yes</td>\n",
       "      <td>No</td>\n",
       "      <td>Maybe</td>\n",
       "      <td>Yes</td>\n",
       "      <td>No</td>\n",
       "      <td>NaN</td>\n",
       "    </tr>\n",
       "    <tr>\n",
       "      <th>1</th>\n",
       "      <td>2014-08-27 11:29:37</td>\n",
       "      <td>44</td>\n",
       "      <td>M</td>\n",
       "      <td>United States</td>\n",
       "      <td>IN</td>\n",
       "      <td>NaN</td>\n",
       "      <td>No</td>\n",
       "      <td>No</td>\n",
       "      <td>Rarely</td>\n",
       "      <td>More than 1000</td>\n",
       "      <td>...</td>\n",
       "      <td>Don't know</td>\n",
       "      <td>Maybe</td>\n",
       "      <td>No</td>\n",
       "      <td>No</td>\n",
       "      <td>No</td>\n",
       "      <td>No</td>\n",
       "      <td>No</td>\n",
       "      <td>Don't know</td>\n",
       "      <td>No</td>\n",
       "      <td>NaN</td>\n",
       "    </tr>\n",
       "    <tr>\n",
       "      <th>2</th>\n",
       "      <td>2014-08-27 11:29:44</td>\n",
       "      <td>32</td>\n",
       "      <td>Male</td>\n",
       "      <td>Canada</td>\n",
       "      <td>NaN</td>\n",
       "      <td>NaN</td>\n",
       "      <td>No</td>\n",
       "      <td>No</td>\n",
       "      <td>Rarely</td>\n",
       "      <td>6-25</td>\n",
       "      <td>...</td>\n",
       "      <td>Somewhat difficult</td>\n",
       "      <td>No</td>\n",
       "      <td>No</td>\n",
       "      <td>Yes</td>\n",
       "      <td>Yes</td>\n",
       "      <td>Yes</td>\n",
       "      <td>Yes</td>\n",
       "      <td>No</td>\n",
       "      <td>No</td>\n",
       "      <td>NaN</td>\n",
       "    </tr>\n",
       "    <tr>\n",
       "      <th>3</th>\n",
       "      <td>2014-08-27 11:29:46</td>\n",
       "      <td>31</td>\n",
       "      <td>Male</td>\n",
       "      <td>United Kingdom</td>\n",
       "      <td>NaN</td>\n",
       "      <td>NaN</td>\n",
       "      <td>Yes</td>\n",
       "      <td>Yes</td>\n",
       "      <td>Often</td>\n",
       "      <td>26-100</td>\n",
       "      <td>...</td>\n",
       "      <td>Somewhat difficult</td>\n",
       "      <td>Yes</td>\n",
       "      <td>Yes</td>\n",
       "      <td>Some of them</td>\n",
       "      <td>No</td>\n",
       "      <td>Maybe</td>\n",
       "      <td>Maybe</td>\n",
       "      <td>No</td>\n",
       "      <td>Yes</td>\n",
       "      <td>NaN</td>\n",
       "    </tr>\n",
       "    <tr>\n",
       "      <th>4</th>\n",
       "      <td>2014-08-27 11:30:22</td>\n",
       "      <td>31</td>\n",
       "      <td>Male</td>\n",
       "      <td>United States</td>\n",
       "      <td>TX</td>\n",
       "      <td>NaN</td>\n",
       "      <td>No</td>\n",
       "      <td>No</td>\n",
       "      <td>Never</td>\n",
       "      <td>100-500</td>\n",
       "      <td>...</td>\n",
       "      <td>Don't know</td>\n",
       "      <td>No</td>\n",
       "      <td>No</td>\n",
       "      <td>Some of them</td>\n",
       "      <td>Yes</td>\n",
       "      <td>Yes</td>\n",
       "      <td>Yes</td>\n",
       "      <td>Don't know</td>\n",
       "      <td>No</td>\n",
       "      <td>NaN</td>\n",
       "    </tr>\n",
       "  </tbody>\n",
       "</table>\n",
       "<p>5 rows × 27 columns</p>\n",
       "</div>"
      ],
      "text/plain": [
       "             Timestamp  Age  Gender         Country state self_employed  \\\n",
       "0  2014-08-27 11:29:31   37  Female   United States    IL           NaN   \n",
       "1  2014-08-27 11:29:37   44       M   United States    IN           NaN   \n",
       "2  2014-08-27 11:29:44   32    Male          Canada   NaN           NaN   \n",
       "3  2014-08-27 11:29:46   31    Male  United Kingdom   NaN           NaN   \n",
       "4  2014-08-27 11:30:22   31    Male   United States    TX           NaN   \n",
       "\n",
       "  family_history treatment work_interfere    no_employees  ...  \\\n",
       "0             No       Yes          Often            6-25  ...   \n",
       "1             No        No         Rarely  More than 1000  ...   \n",
       "2             No        No         Rarely            6-25  ...   \n",
       "3            Yes       Yes          Often          26-100  ...   \n",
       "4             No        No          Never         100-500  ...   \n",
       "\n",
       "                leave mental_health_consequence phys_health_consequence  \\\n",
       "0       Somewhat easy                        No                      No   \n",
       "1          Don't know                     Maybe                      No   \n",
       "2  Somewhat difficult                        No                      No   \n",
       "3  Somewhat difficult                       Yes                     Yes   \n",
       "4          Don't know                        No                      No   \n",
       "\n",
       "      coworkers supervisor mental_health_interview phys_health_interview  \\\n",
       "0  Some of them        Yes                      No                 Maybe   \n",
       "1            No         No                      No                    No   \n",
       "2           Yes        Yes                     Yes                   Yes   \n",
       "3  Some of them         No                   Maybe                 Maybe   \n",
       "4  Some of them        Yes                     Yes                   Yes   \n",
       "\n",
       "  mental_vs_physical obs_consequence comments  \n",
       "0                Yes              No      NaN  \n",
       "1         Don't know              No      NaN  \n",
       "2                 No              No      NaN  \n",
       "3                 No             Yes      NaN  \n",
       "4         Don't know              No      NaN  \n",
       "\n",
       "[5 rows x 27 columns]"
      ]
     },
     "execution_count": 301,
     "metadata": {},
     "output_type": "execute_result"
    }
   ],
   "source": [
    "df.head()"
   ]
  },
  {
   "cell_type": "code",
   "execution_count": 302,
   "metadata": {},
   "outputs": [
    {
     "data": {
      "text/plain": [
       "Index(['timestamp', 'age', 'gender', 'country', 'state', 'self_employed',\n",
       "       'family_history', 'treatment', 'work_interfere', 'no_employees',\n",
       "       'remote_work', 'tech_company', 'benefits', 'care_options',\n",
       "       'wellness_program', 'seek_help', 'anonymity', 'leave',\n",
       "       'mental_health_consequence', 'phys_health_consequence', 'coworkers',\n",
       "       'supervisor', 'mental_health_interview', 'phys_health_interview',\n",
       "       'mental_vs_physical', 'obs_consequence', 'comments'],\n",
       "      dtype='object')"
      ]
     },
     "execution_count": 302,
     "metadata": {},
     "output_type": "execute_result"
    }
   ],
   "source": [
    "#standardize all columns to lowercase for ease of use\n",
    "df.columns = map(str.lower, df.columns)\n",
    "\n",
    "#verify\n",
    "df.columns"
   ]
  },
  {
   "cell_type": "code",
   "execution_count": 303,
   "metadata": {},
   "outputs": [
    {
     "name": "stdout",
     "output_type": "stream",
     "text": [
      "Age Values\n",
      "Minimum Age:  -1726\n",
      "Maximum Age:  99999999999\n",
      "Average Age:  79428148.31135821\n",
      "Null values:  0\n"
     ]
    }
   ],
   "source": [
    "#check values of only int, age\n",
    "\n",
    "print(\"Age Values\")\n",
    "print(\"Minimum Age: \", df['age'].min())\n",
    "print(\"Maximum Age: \", df['age'].max())\n",
    "print(\"Average Age: \", df['age'].mean())\n",
    "print(\"Null values: \", pd.isnull(df['age']).sum())"
   ]
  },
  {
   "cell_type": "markdown",
   "metadata": {},
   "source": [
    "<b>Age values are obviously off, and the outliers need to be fixed before any machine learning or analysis can be done."
   ]
  },
  {
   "cell_type": "code",
   "execution_count": 304,
   "metadata": {},
   "outputs": [
    {
     "name": "stdout",
     "output_type": "stream",
     "text": [
      "Age Values\n",
      "Minimum Age:  5.0\n",
      "Maximum Age:  72.0\n",
      "Average Age:  32.01913875598086\n",
      "Null values:  5\n"
     ]
    }
   ],
   "source": [
    "#fix outlier issues for ages\n",
    "def newage(age):\n",
    "    if age>=1 and age<=90:\n",
    "        return age\n",
    "    else:\n",
    "        return np.nan\n",
    "df['age'] = df['age'].apply(newage)\n",
    "\n",
    "\n",
    "#check age values again\n",
    "\n",
    "print(\"Age Values\")\n",
    "print(\"Minimum Age: \", df['age'].min())\n",
    "print(\"Maximum Age: \", df['age'].max())\n",
    "print(\"Average Age: \", df['age'].mean())\n",
    "print(\"Null values: \", pd.isnull(df['age']).sum())"
   ]
  },
  {
   "cell_type": "code",
   "execution_count": 305,
   "metadata": {},
   "outputs": [
    {
     "data": {
      "text/plain": [
       "comments                     1095\n",
       "state                         515\n",
       "work_interfere                264\n",
       "self_employed                  18\n",
       "age                             5\n",
       "benefits                        0\n",
       "gender                          0\n",
       "country                         0\n",
       "family_history                  0\n",
       "treatment                       0\n",
       "no_employees                    0\n",
       "remote_work                     0\n",
       "tech_company                    0\n",
       "care_options                    0\n",
       "obs_consequence                 0\n",
       "wellness_program                0\n",
       "seek_help                       0\n",
       "anonymity                       0\n",
       "leave                           0\n",
       "mental_health_consequence       0\n",
       "phys_health_consequence         0\n",
       "coworkers                       0\n",
       "supervisor                      0\n",
       "mental_health_interview         0\n",
       "phys_health_interview           0\n",
       "mental_vs_physical              0\n",
       "timestamp                       0\n",
       "dtype: int64"
      ]
     },
     "execution_count": 305,
     "metadata": {},
     "output_type": "execute_result"
    }
   ],
   "source": [
    "#Check Missing Data\n",
    "df.isnull().sum().sort_values(ascending=False)"
   ]
  },
  {
   "cell_type": "code",
   "execution_count": 306,
   "metadata": {},
   "outputs": [
    {
     "name": "stdout",
     "output_type": "stream",
     "text": [
      "Null values:  0\n"
     ]
    }
   ],
   "source": [
    "#fill null values with avg age\n",
    "\n",
    "df['age'].fillna(df['age'].mean(), inplace = True)\n",
    "\n",
    "\n",
    "df['age']=df['age'].astype(int)\n",
    "\n",
    "#check null again\n",
    "print(\"Null values: \", pd.isnull(df['age']).sum())"
   ]
  },
  {
   "cell_type": "markdown",
   "metadata": {},
   "source": [
    "##### Check Distinct Values"
   ]
  },
  {
   "cell_type": "code",
   "execution_count": 307,
   "metadata": {},
   "outputs": [
    {
     "data": {
      "text/plain": [
       "timestamp                    1246\n",
       "age                            48\n",
       "gender                         49\n",
       "country                        48\n",
       "state                          45\n",
       "self_employed                   2\n",
       "family_history                  2\n",
       "treatment                       2\n",
       "work_interfere                  4\n",
       "no_employees                    6\n",
       "remote_work                     2\n",
       "tech_company                    2\n",
       "benefits                        3\n",
       "care_options                    3\n",
       "wellness_program                3\n",
       "seek_help                       3\n",
       "anonymity                       3\n",
       "leave                           5\n",
       "mental_health_consequence       3\n",
       "phys_health_consequence         3\n",
       "coworkers                       3\n",
       "supervisor                      3\n",
       "mental_health_interview         3\n",
       "phys_health_interview           3\n",
       "mental_vs_physical              3\n",
       "obs_consequence                 2\n",
       "comments                      160\n",
       "dtype: int64"
      ]
     },
     "execution_count": 307,
     "metadata": {},
     "output_type": "execute_result"
    }
   ],
   "source": [
    "#unique values\n",
    "df.nunique()"
   ]
  },
  {
   "cell_type": "code",
   "execution_count": 308,
   "metadata": {},
   "outputs": [
    {
     "name": "stdout",
     "output_type": "stream",
     "text": [
      "Distinct values for gender:\n",
      " {'msle', 'Agender', 'femail', 'M', 'cis male', 'fluid', 'F', 'male', 'A little about you', 'Cis Man', 'Genderqueer', 'Enby', 'p', 'Female', 'All', 'Male', 'maile', 'Guy (-ish) ^_^', 'Trans woman', 'non-binary', 'Male ', 'male leaning androgynous', 'Cis Female', 'Female (cis)', 'woman', 'Female ', 'queer/she/they', 'female', 'ostensibly male, unsure what that really means', 'Female (trans)', 'Femake', 'Mal', 'Neuter', 'Trans-female', 'f', 'Male (CIS)', 'something kinda male?', 'Make', 'Woman', 'queer', 'Cis Male', 'Man', 'Androgyne', 'Male-ish', 'cis-female/femme', 'Mail', 'Nah', 'Malr', 'm'}\n"
     ]
    }
   ],
   "source": [
    "#Gender\n",
    "print(\"Distinct values for gender:\\n\", set(df['gender']))"
   ]
  },
  {
   "cell_type": "code",
   "execution_count": 309,
   "metadata": {},
   "outputs": [
    {
     "name": "stdout",
     "output_type": "stream",
     "text": [
      "Distinct values for age:\n",
      " {5, 8, 11, 18, 19, 20, 21, 22, 23, 24, 25, 26, 27, 28, 29, 30, 31, 32, 33, 34, 35, 36, 37, 38, 39, 40, 41, 42, 43, 44, 45, 46, 47, 48, 49, 50, 51, 53, 54, 55, 56, 57, 58, 60, 61, 62, 65, 72}\n"
     ]
    }
   ],
   "source": [
    "#Age\n",
    "print(\"Distinct values for age:\\n\", set(df['age']))"
   ]
  },
  {
   "cell_type": "code",
   "execution_count": 310,
   "metadata": {},
   "outputs": [
    {
     "name": "stdout",
     "output_type": "stream",
     "text": [
      "Distinct values for country:\n",
      " {'New Zealand', 'Colombia', 'Belgium', 'Georgia', 'Latvia', 'Hungary', 'Ireland', 'Costa Rica', 'Mexico', 'Greece', 'United States', 'Slovenia', 'Netherlands', 'Croatia', 'Denmark', 'Moldova', 'United Kingdom', 'France', 'Poland', 'Uruguay', 'Bosnia and Herzegovina', 'Sweden', 'Australia', 'Germany', 'Italy', 'Singapore', 'China', 'Finland', 'Spain', 'Japan', 'Bahamas, The', 'Israel', 'Norway', 'Philippines', 'Canada', 'Brazil', 'Czech Republic', 'Portugal', 'Bulgaria', 'Switzerland', 'Thailand', 'Romania', 'India', 'Nigeria', 'Zimbabwe', 'South Africa', 'Austria', 'Russia'}\n"
     ]
    }
   ],
   "source": [
    "#Country\n",
    "print(\"Distinct values for country:\\n\", set(df['country']))"
   ]
  },
  {
   "cell_type": "markdown",
   "metadata": {},
   "source": [
    "<b>Gender as a distinct value seems too varied in spellings and classifications so I assume it would cause a problem. I decided to cleanse this data through strings and grouping of the values into categories."
   ]
  },
  {
   "cell_type": "code",
   "execution_count": 311,
   "metadata": {},
   "outputs": [
    {
     "name": "stdout",
     "output_type": "stream",
     "text": [
      "Distinct responses for gender:\n",
      " {'trans', 'female', 'other', 'male'}\n"
     ]
    }
   ],
   "source": [
    "#create gender groups\n",
    "\n",
    "male= [\"man\",\"msle\", \"mail\", \"malr\",\"male\", \"m\", \"male-ish\", \"maile\", \"mal\", \"male (cis)\", \n",
    "       \"make\", \"male \",\"cis man\", \"Cis Male\", \"cis male\"]\n",
    "\n",
    "female=[\"female \",\"cis-female/femme\", \"female (cis)\", \"femail\", \"cis female\", \"f\", \"female\", \n",
    "        \"woman\",  \"femake\"]\n",
    "\n",
    "other =[\"something kinda male?\", \"queer/she/they\", \"p\",\"a little about you\",\"non-binary\",\"nah\", \"all\", \n",
    "        \"enby\", \"fluid\", \"genderqueer\", \"androgyne\", \"agender\", \"male leaning androgynous\", \n",
    "        \"guy (-ish) ^_^\",  \"neuter\",  \"queer\", \"ostensibly male, unsure what that really means\"]   \n",
    "\n",
    "trans =[\"trans-female\",\"trans woman\",\"female (trans)\"]\n",
    "\n",
    "for (row, col) in df.iterrows():\n",
    "\n",
    "    if str.lower(col.gender) in male:\n",
    "        df['gender'].replace(to_replace=col.gender, value='male', inplace=True)\n",
    "\n",
    "    if str.lower(col.gender) in female:\n",
    "        df['gender'].replace(to_replace=col.gender, value='female', inplace=True)\n",
    "    \n",
    "    if str.lower(col.gender) in other:\n",
    "        df['gender'].replace(to_replace=col.gender, value='other', inplace=True)\n",
    "    \n",
    "    if str.lower(col.gender) in trans:\n",
    "        df['gender'].replace(to_replace=col.gender, value='trans', inplace=True)\n",
    "        \n",
    " \n",
    "#Gender\n",
    "print(\"Distinct responses for gender:\\n\", set(df['gender']))"
   ]
  },
  {
   "cell_type": "markdown",
   "metadata": {},
   "source": [
    "<b>Handling Null Values"
   ]
  },
  {
   "cell_type": "code",
   "execution_count": 312,
   "metadata": {},
   "outputs": [
    {
     "name": "stdout",
     "output_type": "stream",
     "text": [
      "Distinct values for leave:\n",
      " {'Very easy', 'Very difficult', 'Somewhat easy', 'Somewhat difficult', \"Don't know\"}\n"
     ]
    }
   ],
   "source": [
    "print(\"Distinct values for leave:\\n\", set(df['leave']))"
   ]
  },
  {
   "cell_type": "code",
   "execution_count": 313,
   "metadata": {},
   "outputs": [
    {
     "data": {
      "text/plain": [
       "comments                     1095\n",
       "state                         515\n",
       "work_interfere                264\n",
       "self_employed                  18\n",
       "benefits                        0\n",
       "age                             0\n",
       "gender                          0\n",
       "country                         0\n",
       "family_history                  0\n",
       "treatment                       0\n",
       "no_employees                    0\n",
       "remote_work                     0\n",
       "tech_company                    0\n",
       "care_options                    0\n",
       "obs_consequence                 0\n",
       "wellness_program                0\n",
       "seek_help                       0\n",
       "anonymity                       0\n",
       "leave                           0\n",
       "mental_health_consequence       0\n",
       "phys_health_consequence         0\n",
       "coworkers                       0\n",
       "supervisor                      0\n",
       "mental_health_interview         0\n",
       "phys_health_interview           0\n",
       "mental_vs_physical              0\n",
       "timestamp                       0\n",
       "dtype: int64"
      ]
     },
     "execution_count": 313,
     "metadata": {},
     "output_type": "execute_result"
    }
   ],
   "source": [
    "#Check Missing Data\n",
    "df.isnull().sum().sort_values(ascending=False)"
   ]
  },
  {
   "cell_type": "code",
   "execution_count": 314,
   "metadata": {},
   "outputs": [],
   "source": [
    "#drop timestamp, state, and comments\n",
    "\n",
    "df = df.drop(['comments'], axis=1)\n",
    "df = df.drop(['timestamp'], axis=1)\n",
    "df = df.drop(['state'], axis=1)\n"
   ]
  },
  {
   "cell_type": "markdown",
   "metadata": {},
   "source": [
    "<b>From the distinct print-outs above and the description of the data, I have decided to change the null values to unknown.\n"
   ]
  },
  {
   "cell_type": "code",
   "execution_count": 315,
   "metadata": {},
   "outputs": [],
   "source": [
    "\n",
    "df['work_interfere'].fillna(\"Unknown\",inplace = True) \n",
    "  \n",
    "df['self_employed'].fillna(\"Unknown\",inplace = True) \n",
    "  "
   ]
  },
  {
   "cell_type": "code",
   "execution_count": 316,
   "metadata": {},
   "outputs": [
    {
     "data": {
      "text/plain": [
       "obs_consequence              0\n",
       "mental_vs_physical           0\n",
       "gender                       0\n",
       "country                      0\n",
       "self_employed                0\n",
       "family_history               0\n",
       "treatment                    0\n",
       "work_interfere               0\n",
       "no_employees                 0\n",
       "remote_work                  0\n",
       "tech_company                 0\n",
       "benefits                     0\n",
       "care_options                 0\n",
       "wellness_program             0\n",
       "seek_help                    0\n",
       "anonymity                    0\n",
       "leave                        0\n",
       "mental_health_consequence    0\n",
       "phys_health_consequence      0\n",
       "coworkers                    0\n",
       "supervisor                   0\n",
       "mental_health_interview      0\n",
       "phys_health_interview        0\n",
       "age                          0\n",
       "dtype: int64"
      ]
     },
     "execution_count": 316,
     "metadata": {},
     "output_type": "execute_result"
    }
   ],
   "source": [
    "#check Missing Data\n",
    "df.isnull().sum().sort_values(ascending=False)"
   ]
  },
  {
   "cell_type": "code",
   "execution_count": 317,
   "metadata": {},
   "outputs": [
    {
     "data": {
      "text/plain": [
       "Index(['age', 'gender', 'country', 'self_employed', 'family_history',\n",
       "       'treatment', 'work_interfere', 'no_employees', 'remote_work',\n",
       "       'tech_company', 'benefits', 'care_options', 'wellness_program',\n",
       "       'seek_help', 'anonymity', 'leave', 'mental_health_consequence',\n",
       "       'phys_health_consequence', 'coworkers', 'supervisor',\n",
       "       'mental_health_interview', 'phys_health_interview',\n",
       "       'mental_vs_physical', 'obs_consequence'],\n",
       "      dtype='object')"
      ]
     },
     "execution_count": 317,
     "metadata": {},
     "output_type": "execute_result"
    }
   ],
   "source": [
    "df.columns"
   ]
  },
  {
   "cell_type": "code",
   "execution_count": 318,
   "metadata": {},
   "outputs": [
    {
     "data": {
      "text/plain": [
       "age                          48\n",
       "gender                        4\n",
       "country                      48\n",
       "self_employed                 3\n",
       "family_history                2\n",
       "treatment                     2\n",
       "work_interfere                5\n",
       "no_employees                  6\n",
       "remote_work                   2\n",
       "tech_company                  2\n",
       "benefits                      3\n",
       "care_options                  3\n",
       "wellness_program              3\n",
       "seek_help                     3\n",
       "anonymity                     3\n",
       "leave                         5\n",
       "mental_health_consequence     3\n",
       "phys_health_consequence       3\n",
       "coworkers                     3\n",
       "supervisor                    3\n",
       "mental_health_interview       3\n",
       "phys_health_interview         3\n",
       "mental_vs_physical            3\n",
       "obs_consequence               2\n",
       "dtype: int64"
      ]
     },
     "execution_count": 318,
     "metadata": {},
     "output_type": "execute_result"
    }
   ],
   "source": [
    "#unique values\n",
    "df.nunique()"
   ]
  },
  {
   "cell_type": "markdown",
   "metadata": {},
   "source": [
    "### Features"
   ]
  },
  {
   "cell_type": "markdown",
   "metadata": {},
   "source": [
    "<b>Ages:</b> I want to create a feature that groups the ages."
   ]
  },
  {
   "cell_type": "code",
   "execution_count": 319,
   "metadata": {},
   "outputs": [],
   "source": [
    "#Group the ages into groups\n",
    "df['age'] = pd.cut(df['age'],\n",
    "                         [0,18, 25, 35, 45, 55, 65, 99],\n",
    "                         labels=['<18','18-24','25-34','35-44','45-54', '55-64', '65+'])"
   ]
  },
  {
   "cell_type": "markdown",
   "metadata": {},
   "source": [
    "<b>Although there are 48 countries mentioned, I did not want to group them simply because I believe that care and culture may differ too much among the countries and may negatively effect the data. "
   ]
  },
  {
   "cell_type": "markdown",
   "metadata": {},
   "source": [
    "<b>From here, I'd like to explore some visualizations before I decide to make any more features."
   ]
  },
  {
   "cell_type": "markdown",
   "metadata": {},
   "source": [
    "### Visualizations"
   ]
  },
  {
   "cell_type": "markdown",
   "metadata": {},
   "source": [
    "<b>Label Encoding"
   ]
  },
  {
   "cell_type": "code",
   "execution_count": 320,
   "metadata": {},
   "outputs": [],
   "source": [
    "from sklearn.preprocessing import LabelEncoder\n",
    "\n",
    "age= LabelEncoder()\n",
    "gender= LabelEncoder()\n",
    "country= LabelEncoder()\n",
    "state= LabelEncoder()\n",
    "self_employed= LabelEncoder()\n",
    "family_history= LabelEncoder()     \n",
    "treatment=LabelEncoder() \n",
    "work_interfere= LabelEncoder()\n",
    "no_employees= LabelEncoder()\n",
    "remote_work= LabelEncoder()     \n",
    "tech_company= LabelEncoder()\n",
    "benefits= LabelEncoder()\n",
    "care_options= LabelEncoder()\n",
    "wellness_program= LabelEncoder()     \n",
    "seek_help= LabelEncoder()\n",
    "anonymity=LabelEncoder() \n",
    "leave= LabelEncoder()\n",
    "mental_health_consequence=LabelEncoder()\n",
    "phys_health_consequence= LabelEncoder()\n",
    "coworkers=LabelEncoder()\n",
    "supervisor=LabelEncoder()\n",
    "mental_health_interview= LabelEncoder()\n",
    "phys_health_interview=LabelEncoder()\n",
    "mental_vs_physical= LabelEncoder()\n",
    "obs_consequence=LabelEncoder()\n",
    "\n",
    "\n",
    "df['age']=gender.fit_transform(df['age'])\n",
    "df['gender']=gender.fit_transform(df['gender']) \n",
    "df['country']=country.fit_transform(df['country']) \n",
    "\n",
    "df['self_employed']=self_employed.fit_transform(df['self_employed'])  \n",
    "df['family_history']=family_history.fit_transform(df['family_history'])       \n",
    "df['treatment']=treatment.fit_transform(df['treatment'])  \n",
    "df['work_interfere']=work_interfere.fit_transform(df['work_interfere'])  \n",
    "df['no_employees']=no_employees.fit_transform(df['no_employees'])  \n",
    "df['remote_work']=remote_work.fit_transform(df['remote_work'])       \n",
    "df['tech_company']=tech_company.fit_transform(df['tech_company'])  \n",
    "df['benefits']=benefits.fit_transform(df['benefits'])  \n",
    "df['care_options']=care_options.fit_transform(df['care_options'])  \n",
    "df['wellness_program']=wellness_program.fit_transform(df['wellness_program'])       \n",
    "df['seek_help']=seek_help.fit_transform(df['seek_help'])  \n",
    "df['anonymity']=anonymity.fit_transform(df['anonymity'])  \n",
    "df['leave']=leave.fit_transform(df['leave'])  \n",
    "df['mental_health_consequence']=mental_health_consequence.fit_transform(df['mental_health_consequence']) \n",
    "df['phys_health_consequence']=phys_health_consequence.fit_transform(df['phys_health_consequence'])  \n",
    "df['coworkers']=coworkers.fit_transform(df['coworkers'])  \n",
    "df['supervisor']=supervisor.fit_transform(df['supervisor']) \n",
    "df['mental_health_interview']=mental_health_interview.fit_transform(df['mental_health_interview'])  \n",
    "df['phys_health_interview']=phys_health_interview.fit_transform(df['phys_health_interview']) \n",
    "df['mental_vs_physical']=mental_vs_physical.fit_transform(df['mental_vs_physical'])  \n",
    "df['obs_consequence']=obs_consequence.fit_transform(df['obs_consequence']) \n",
    "\n"
   ]
  },
  {
   "cell_type": "markdown",
   "metadata": {},
   "source": [
    "#### Correlations"
   ]
  },
  {
   "cell_type": "code",
   "execution_count": 321,
   "metadata": {
    "scrolled": true
   },
   "outputs": [
    {
     "data": {
      "text/plain": [
       "Text(0.5, 1.0, 'Mental Health in Tech Survey Correlations')"
      ]
     },
     "execution_count": 321,
     "metadata": {},
     "output_type": "execute_result"
    },
    {
     "data": {
      "image/png": "[encoded data removed]",
      "text/plain": [
       "<Figure size 2160x864 with 2 Axes>"
      ]
     },
     "metadata": {
      "needs_background": "light"
     },
     "output_type": "display_data"
    }
   ],
   "source": [
    "#Correlations\n",
    "\n",
    "plt.figure(figsize=(30,12))\n",
    "sns.heatmap(df.corr(),cmap = 'PuBu',annot=True, square=True, fmt='.2f', annot_kws={'size': 10})\n",
    "plt.title('Mental Health in Tech Survey Correlations')"
   ]
  },
  {
   "cell_type": "code",
   "execution_count": 322,
   "metadata": {},
   "outputs": [
    {
     "data": {
      "text/html": [
       "<div>\n",
       "<style scoped>\n",
       "    .dataframe tbody tr th:only-of-type {\n",
       "        vertical-align: middle;\n",
       "    }\n",
       "\n",
       "    .dataframe tbody tr th {\n",
       "        vertical-align: top;\n",
       "    }\n",
       "\n",
       "    .dataframe thead th {\n",
       "        text-align: right;\n",
       "    }\n",
       "</style>\n",
       "<table border=\"1\" class=\"dataframe\">\n",
       "  <thead>\n",
       "    <tr style=\"text-align: right;\">\n",
       "      <th></th>\n",
       "      <th>age</th>\n",
       "      <th>gender</th>\n",
       "      <th>country</th>\n",
       "      <th>self_employed</th>\n",
       "      <th>family_history</th>\n",
       "      <th>treatment</th>\n",
       "      <th>work_interfere</th>\n",
       "      <th>no_employees</th>\n",
       "      <th>remote_work</th>\n",
       "      <th>tech_company</th>\n",
       "      <th>...</th>\n",
       "      <th>anonymity</th>\n",
       "      <th>leave</th>\n",
       "      <th>mental_health_consequence</th>\n",
       "      <th>phys_health_consequence</th>\n",
       "      <th>coworkers</th>\n",
       "      <th>supervisor</th>\n",
       "      <th>mental_health_interview</th>\n",
       "      <th>phys_health_interview</th>\n",
       "      <th>mental_vs_physical</th>\n",
       "      <th>obs_consequence</th>\n",
       "    </tr>\n",
       "  </thead>\n",
       "  <tbody>\n",
       "    <tr>\n",
       "      <th>age</th>\n",
       "      <td>1.000000</td>\n",
       "      <td>0.073748</td>\n",
       "      <td>0.101986</td>\n",
       "      <td>0.066404</td>\n",
       "      <td>-0.028172</td>\n",
       "      <td>0.042170</td>\n",
       "      <td>-0.060617</td>\n",
       "      <td>-0.008283</td>\n",
       "      <td>0.141116</td>\n",
       "      <td>-0.027465</td>\n",
       "      <td>...</td>\n",
       "      <td>0.025695</td>\n",
       "      <td>0.017103</td>\n",
       "      <td>0.052321</td>\n",
       "      <td>-0.049507</td>\n",
       "      <td>-0.016198</td>\n",
       "      <td>-0.015740</td>\n",
       "      <td>0.068288</td>\n",
       "      <td>-0.027476</td>\n",
       "      <td>-0.008420</td>\n",
       "      <td>0.056625</td>\n",
       "    </tr>\n",
       "    <tr>\n",
       "      <th>gender</th>\n",
       "      <td>0.073748</td>\n",
       "      <td>1.000000</td>\n",
       "      <td>-0.075970</td>\n",
       "      <td>0.044017</td>\n",
       "      <td>-0.120012</td>\n",
       "      <td>-0.136853</td>\n",
       "      <td>-0.021700</td>\n",
       "      <td>0.017603</td>\n",
       "      <td>0.001191</td>\n",
       "      <td>0.055629</td>\n",
       "      <td>...</td>\n",
       "      <td>-0.014585</td>\n",
       "      <td>0.039938</td>\n",
       "      <td>0.038749</td>\n",
       "      <td>0.032151</td>\n",
       "      <td>0.055144</td>\n",
       "      <td>0.068176</td>\n",
       "      <td>-0.024401</td>\n",
       "      <td>-0.006520</td>\n",
       "      <td>-0.000185</td>\n",
       "      <td>-0.023417</td>\n",
       "    </tr>\n",
       "    <tr>\n",
       "      <th>country</th>\n",
       "      <td>0.101986</td>\n",
       "      <td>-0.075970</td>\n",
       "      <td>1.000000</td>\n",
       "      <td>-0.125253</td>\n",
       "      <td>0.062107</td>\n",
       "      <td>0.077681</td>\n",
       "      <td>0.013885</td>\n",
       "      <td>0.098673</td>\n",
       "      <td>-0.017342</td>\n",
       "      <td>-0.041091</td>\n",
       "      <td>...</td>\n",
       "      <td>0.002034</td>\n",
       "      <td>-0.102454</td>\n",
       "      <td>-0.045102</td>\n",
       "      <td>-0.016538</td>\n",
       "      <td>-0.030811</td>\n",
       "      <td>-0.001308</td>\n",
       "      <td>0.052658</td>\n",
       "      <td>-0.016293</td>\n",
       "      <td>-0.011894</td>\n",
       "      <td>-0.070225</td>\n",
       "    </tr>\n",
       "    <tr>\n",
       "      <th>self_employed</th>\n",
       "      <td>0.066404</td>\n",
       "      <td>0.044017</td>\n",
       "      <td>-0.125253</td>\n",
       "      <td>1.000000</td>\n",
       "      <td>0.009715</td>\n",
       "      <td>0.020046</td>\n",
       "      <td>-0.056523</td>\n",
       "      <td>-0.344680</td>\n",
       "      <td>0.315369</td>\n",
       "      <td>0.083438</td>\n",
       "      <td>...</td>\n",
       "      <td>0.100647</td>\n",
       "      <td>0.170945</td>\n",
       "      <td>0.029709</td>\n",
       "      <td>0.038385</td>\n",
       "      <td>0.088454</td>\n",
       "      <td>0.043273</td>\n",
       "      <td>-0.008241</td>\n",
       "      <td>-0.017993</td>\n",
       "      <td>0.136131</td>\n",
       "      <td>0.078969</td>\n",
       "    </tr>\n",
       "    <tr>\n",
       "      <th>family_history</th>\n",
       "      <td>-0.028172</td>\n",
       "      <td>-0.120012</td>\n",
       "      <td>0.062107</td>\n",
       "      <td>0.009715</td>\n",
       "      <td>1.000000</td>\n",
       "      <td>0.377918</td>\n",
       "      <td>0.017420</td>\n",
       "      <td>-0.053635</td>\n",
       "      <td>0.014456</td>\n",
       "      <td>-0.046079</td>\n",
       "      <td>...</td>\n",
       "      <td>0.063679</td>\n",
       "      <td>0.022631</td>\n",
       "      <td>0.028196</td>\n",
       "      <td>0.002832</td>\n",
       "      <td>-0.000847</td>\n",
       "      <td>0.003729</td>\n",
       "      <td>0.044564</td>\n",
       "      <td>0.039894</td>\n",
       "      <td>0.041089</td>\n",
       "      <td>0.124861</td>\n",
       "    </tr>\n",
       "    <tr>\n",
       "      <th>treatment</th>\n",
       "      <td>0.042170</td>\n",
       "      <td>-0.136853</td>\n",
       "      <td>0.077681</td>\n",
       "      <td>0.020046</td>\n",
       "      <td>0.377918</td>\n",
       "      <td>1.000000</td>\n",
       "      <td>-0.035881</td>\n",
       "      <td>-0.050114</td>\n",
       "      <td>0.026937</td>\n",
       "      <td>-0.031525</td>\n",
       "      <td>...</td>\n",
       "      <td>0.142889</td>\n",
       "      <td>0.061549</td>\n",
       "      <td>0.030221</td>\n",
       "      <td>-0.008933</td>\n",
       "      <td>0.068433</td>\n",
       "      <td>-0.036199</td>\n",
       "      <td>0.098413</td>\n",
       "      <td>0.051859</td>\n",
       "      <td>0.062642</td>\n",
       "      <td>0.156972</td>\n",
       "    </tr>\n",
       "    <tr>\n",
       "      <th>work_interfere</th>\n",
       "      <td>-0.060617</td>\n",
       "      <td>-0.021700</td>\n",
       "      <td>0.013885</td>\n",
       "      <td>-0.056523</td>\n",
       "      <td>0.017420</td>\n",
       "      <td>-0.035881</td>\n",
       "      <td>1.000000</td>\n",
       "      <td>0.025174</td>\n",
       "      <td>-0.002943</td>\n",
       "      <td>0.005412</td>\n",
       "      <td>...</td>\n",
       "      <td>0.026233</td>\n",
       "      <td>-0.009474</td>\n",
       "      <td>-0.024745</td>\n",
       "      <td>-0.044877</td>\n",
       "      <td>-0.003023</td>\n",
       "      <td>-0.009130</td>\n",
       "      <td>0.021336</td>\n",
       "      <td>0.013808</td>\n",
       "      <td>-0.008124</td>\n",
       "      <td>-0.020989</td>\n",
       "    </tr>\n",
       "    <tr>\n",
       "      <th>no_employees</th>\n",
       "      <td>-0.008283</td>\n",
       "      <td>0.017603</td>\n",
       "      <td>0.098673</td>\n",
       "      <td>-0.344680</td>\n",
       "      <td>-0.053635</td>\n",
       "      <td>-0.050114</td>\n",
       "      <td>0.025174</td>\n",
       "      <td>1.000000</td>\n",
       "      <td>-0.211974</td>\n",
       "      <td>-0.111974</td>\n",
       "      <td>...</td>\n",
       "      <td>-0.008690</td>\n",
       "      <td>-0.098076</td>\n",
       "      <td>-0.011370</td>\n",
       "      <td>-0.075015</td>\n",
       "      <td>-0.090275</td>\n",
       "      <td>-0.052650</td>\n",
       "      <td>0.012454</td>\n",
       "      <td>0.025892</td>\n",
       "      <td>-0.030942</td>\n",
       "      <td>-0.020812</td>\n",
       "    </tr>\n",
       "    <tr>\n",
       "      <th>remote_work</th>\n",
       "      <td>0.141116</td>\n",
       "      <td>0.001191</td>\n",
       "      <td>-0.017342</td>\n",
       "      <td>0.315369</td>\n",
       "      <td>0.014456</td>\n",
       "      <td>0.026937</td>\n",
       "      <td>-0.002943</td>\n",
       "      <td>-0.211974</td>\n",
       "      <td>1.000000</td>\n",
       "      <td>0.131108</td>\n",
       "      <td>...</td>\n",
       "      <td>-0.002676</td>\n",
       "      <td>0.099669</td>\n",
       "      <td>0.054828</td>\n",
       "      <td>-0.009578</td>\n",
       "      <td>0.082438</td>\n",
       "      <td>0.025220</td>\n",
       "      <td>-0.029730</td>\n",
       "      <td>-0.014344</td>\n",
       "      <td>0.036591</td>\n",
       "      <td>-0.039065</td>\n",
       "    </tr>\n",
       "    <tr>\n",
       "      <th>tech_company</th>\n",
       "      <td>-0.027465</td>\n",
       "      <td>0.055629</td>\n",
       "      <td>-0.041091</td>\n",
       "      <td>0.083438</td>\n",
       "      <td>-0.046079</td>\n",
       "      <td>-0.031525</td>\n",
       "      <td>0.005412</td>\n",
       "      <td>-0.111974</td>\n",
       "      <td>0.131108</td>\n",
       "      <td>1.000000</td>\n",
       "      <td>...</td>\n",
       "      <td>-0.050912</td>\n",
       "      <td>0.047363</td>\n",
       "      <td>0.001336</td>\n",
       "      <td>0.066134</td>\n",
       "      <td>0.075383</td>\n",
       "      <td>0.049543</td>\n",
       "      <td>-0.041117</td>\n",
       "      <td>-0.032186</td>\n",
       "      <td>0.029191</td>\n",
       "      <td>-0.062347</td>\n",
       "    </tr>\n",
       "    <tr>\n",
       "      <th>benefits</th>\n",
       "      <td>0.114118</td>\n",
       "      <td>-0.084292</td>\n",
       "      <td>0.099703</td>\n",
       "      <td>-0.051409</td>\n",
       "      <td>0.128490</td>\n",
       "      <td>0.226140</td>\n",
       "      <td>-0.042984</td>\n",
       "      <td>0.115136</td>\n",
       "      <td>-0.061417</td>\n",
       "      <td>-0.045619</td>\n",
       "      <td>...</td>\n",
       "      <td>0.337122</td>\n",
       "      <td>0.065898</td>\n",
       "      <td>-0.009723</td>\n",
       "      <td>-0.028050</td>\n",
       "      <td>-0.006250</td>\n",
       "      <td>0.026161</td>\n",
       "      <td>0.037621</td>\n",
       "      <td>0.025533</td>\n",
       "      <td>0.139742</td>\n",
       "      <td>0.069650</td>\n",
       "    </tr>\n",
       "    <tr>\n",
       "      <th>care_options</th>\n",
       "      <td>0.085946</td>\n",
       "      <td>-0.071471</td>\n",
       "      <td>0.073719</td>\n",
       "      <td>0.045514</td>\n",
       "      <td>0.107764</td>\n",
       "      <td>0.236578</td>\n",
       "      <td>-0.034658</td>\n",
       "      <td>-0.008634</td>\n",
       "      <td>0.010076</td>\n",
       "      <td>-0.026992</td>\n",
       "      <td>...</td>\n",
       "      <td>0.347801</td>\n",
       "      <td>0.145147</td>\n",
       "      <td>0.004335</td>\n",
       "      <td>0.038479</td>\n",
       "      <td>0.030227</td>\n",
       "      <td>0.082192</td>\n",
       "      <td>0.037855</td>\n",
       "      <td>0.021482</td>\n",
       "      <td>0.162295</td>\n",
       "      <td>0.073626</td>\n",
       "    </tr>\n",
       "    <tr>\n",
       "      <th>wellness_program</th>\n",
       "      <td>0.073325</td>\n",
       "      <td>0.007046</td>\n",
       "      <td>0.021439</td>\n",
       "      <td>-0.002343</td>\n",
       "      <td>0.065098</td>\n",
       "      <td>0.094713</td>\n",
       "      <td>-0.024936</td>\n",
       "      <td>0.086530</td>\n",
       "      <td>-0.073229</td>\n",
       "      <td>-0.116931</td>\n",
       "      <td>...</td>\n",
       "      <td>0.232169</td>\n",
       "      <td>0.086322</td>\n",
       "      <td>0.055871</td>\n",
       "      <td>-0.008793</td>\n",
       "      <td>-0.006377</td>\n",
       "      <td>0.039296</td>\n",
       "      <td>0.052755</td>\n",
       "      <td>-0.010393</td>\n",
       "      <td>0.123616</td>\n",
       "      <td>0.101773</td>\n",
       "    </tr>\n",
       "    <tr>\n",
       "      <th>seek_help</th>\n",
       "      <td>0.087859</td>\n",
       "      <td>0.002820</td>\n",
       "      <td>-0.008916</td>\n",
       "      <td>0.033438</td>\n",
       "      <td>0.045071</td>\n",
       "      <td>0.089935</td>\n",
       "      <td>-0.007550</td>\n",
       "      <td>0.063013</td>\n",
       "      <td>-0.033238</td>\n",
       "      <td>-0.066957</td>\n",
       "      <td>...</td>\n",
       "      <td>0.323898</td>\n",
       "      <td>0.134280</td>\n",
       "      <td>0.046948</td>\n",
       "      <td>0.009367</td>\n",
       "      <td>0.058977</td>\n",
       "      <td>0.080287</td>\n",
       "      <td>0.035914</td>\n",
       "      <td>0.060511</td>\n",
       "      <td>0.174893</td>\n",
       "      <td>0.134894</td>\n",
       "    </tr>\n",
       "    <tr>\n",
       "      <th>anonymity</th>\n",
       "      <td>0.025695</td>\n",
       "      <td>-0.014585</td>\n",
       "      <td>0.002034</td>\n",
       "      <td>0.100647</td>\n",
       "      <td>0.063679</td>\n",
       "      <td>0.142889</td>\n",
       "      <td>0.026233</td>\n",
       "      <td>-0.008690</td>\n",
       "      <td>-0.002676</td>\n",
       "      <td>-0.050912</td>\n",
       "      <td>...</td>\n",
       "      <td>1.000000</td>\n",
       "      <td>0.287426</td>\n",
       "      <td>0.016823</td>\n",
       "      <td>0.059745</td>\n",
       "      <td>0.068665</td>\n",
       "      <td>0.149668</td>\n",
       "      <td>-0.003038</td>\n",
       "      <td>0.031212</td>\n",
       "      <td>0.293559</td>\n",
       "      <td>0.054220</td>\n",
       "    </tr>\n",
       "    <tr>\n",
       "      <th>leave</th>\n",
       "      <td>0.017103</td>\n",
       "      <td>0.039938</td>\n",
       "      <td>-0.102454</td>\n",
       "      <td>0.170945</td>\n",
       "      <td>0.022631</td>\n",
       "      <td>0.061549</td>\n",
       "      <td>-0.009474</td>\n",
       "      <td>-0.098076</td>\n",
       "      <td>0.099669</td>\n",
       "      <td>0.047363</td>\n",
       "      <td>...</td>\n",
       "      <td>0.287426</td>\n",
       "      <td>1.000000</td>\n",
       "      <td>0.085756</td>\n",
       "      <td>0.086632</td>\n",
       "      <td>0.183814</td>\n",
       "      <td>0.204995</td>\n",
       "      <td>-0.065412</td>\n",
       "      <td>0.023138</td>\n",
       "      <td>0.314297</td>\n",
       "      <td>0.018552</td>\n",
       "    </tr>\n",
       "    <tr>\n",
       "      <th>mental_health_consequence</th>\n",
       "      <td>0.052321</td>\n",
       "      <td>0.038749</td>\n",
       "      <td>-0.045102</td>\n",
       "      <td>0.029709</td>\n",
       "      <td>0.028196</td>\n",
       "      <td>0.030221</td>\n",
       "      <td>-0.024745</td>\n",
       "      <td>-0.011370</td>\n",
       "      <td>0.054828</td>\n",
       "      <td>0.001336</td>\n",
       "      <td>...</td>\n",
       "      <td>0.016823</td>\n",
       "      <td>0.085756</td>\n",
       "      <td>1.000000</td>\n",
       "      <td>0.133603</td>\n",
       "      <td>-0.153773</td>\n",
       "      <td>-0.153149</td>\n",
       "      <td>0.058233</td>\n",
       "      <td>-0.011678</td>\n",
       "      <td>0.066697</td>\n",
       "      <td>0.131924</td>\n",
       "    </tr>\n",
       "    <tr>\n",
       "      <th>phys_health_consequence</th>\n",
       "      <td>-0.049507</td>\n",
       "      <td>0.032151</td>\n",
       "      <td>-0.016538</td>\n",
       "      <td>0.038385</td>\n",
       "      <td>0.002832</td>\n",
       "      <td>-0.008933</td>\n",
       "      <td>-0.044877</td>\n",
       "      <td>-0.075015</td>\n",
       "      <td>-0.009578</td>\n",
       "      <td>0.066134</td>\n",
       "      <td>...</td>\n",
       "      <td>0.059745</td>\n",
       "      <td>0.086632</td>\n",
       "      <td>0.133603</td>\n",
       "      <td>1.000000</td>\n",
       "      <td>0.092390</td>\n",
       "      <td>0.103836</td>\n",
       "      <td>-0.009345</td>\n",
       "      <td>0.074936</td>\n",
       "      <td>0.113011</td>\n",
       "      <td>-0.027793</td>\n",
       "    </tr>\n",
       "    <tr>\n",
       "      <th>coworkers</th>\n",
       "      <td>-0.016198</td>\n",
       "      <td>0.055144</td>\n",
       "      <td>-0.030811</td>\n",
       "      <td>0.088454</td>\n",
       "      <td>-0.000847</td>\n",
       "      <td>0.068433</td>\n",
       "      <td>-0.003023</td>\n",
       "      <td>-0.090275</td>\n",
       "      <td>0.082438</td>\n",
       "      <td>0.075383</td>\n",
       "      <td>...</td>\n",
       "      <td>0.068665</td>\n",
       "      <td>0.183814</td>\n",
       "      <td>-0.153773</td>\n",
       "      <td>0.092390</td>\n",
       "      <td>1.000000</td>\n",
       "      <td>0.574310</td>\n",
       "      <td>-0.145486</td>\n",
       "      <td>0.069291</td>\n",
       "      <td>0.188174</td>\n",
       "      <td>-0.039472</td>\n",
       "    </tr>\n",
       "    <tr>\n",
       "      <th>supervisor</th>\n",
       "      <td>-0.015740</td>\n",
       "      <td>0.068176</td>\n",
       "      <td>-0.001308</td>\n",
       "      <td>0.043273</td>\n",
       "      <td>0.003729</td>\n",
       "      <td>-0.036199</td>\n",
       "      <td>-0.009130</td>\n",
       "      <td>-0.052650</td>\n",
       "      <td>0.025220</td>\n",
       "      <td>0.049543</td>\n",
       "      <td>...</td>\n",
       "      <td>0.149668</td>\n",
       "      <td>0.204995</td>\n",
       "      <td>-0.153149</td>\n",
       "      <td>0.103836</td>\n",
       "      <td>0.574310</td>\n",
       "      <td>1.000000</td>\n",
       "      <td>-0.189549</td>\n",
       "      <td>0.082835</td>\n",
       "      <td>0.225373</td>\n",
       "      <td>-0.090507</td>\n",
       "    </tr>\n",
       "    <tr>\n",
       "      <th>mental_health_interview</th>\n",
       "      <td>0.068288</td>\n",
       "      <td>-0.024401</td>\n",
       "      <td>0.052658</td>\n",
       "      <td>-0.008241</td>\n",
       "      <td>0.044564</td>\n",
       "      <td>0.098413</td>\n",
       "      <td>0.021336</td>\n",
       "      <td>0.012454</td>\n",
       "      <td>-0.029730</td>\n",
       "      <td>-0.041117</td>\n",
       "      <td>...</td>\n",
       "      <td>-0.003038</td>\n",
       "      <td>-0.065412</td>\n",
       "      <td>0.058233</td>\n",
       "      <td>-0.009345</td>\n",
       "      <td>-0.145486</td>\n",
       "      <td>-0.189549</td>\n",
       "      <td>1.000000</td>\n",
       "      <td>0.203079</td>\n",
       "      <td>-0.100652</td>\n",
       "      <td>0.088514</td>\n",
       "    </tr>\n",
       "    <tr>\n",
       "      <th>phys_health_interview</th>\n",
       "      <td>-0.027476</td>\n",
       "      <td>-0.006520</td>\n",
       "      <td>-0.016293</td>\n",
       "      <td>-0.017993</td>\n",
       "      <td>0.039894</td>\n",
       "      <td>0.051859</td>\n",
       "      <td>0.013808</td>\n",
       "      <td>0.025892</td>\n",
       "      <td>-0.014344</td>\n",
       "      <td>-0.032186</td>\n",
       "      <td>...</td>\n",
       "      <td>0.031212</td>\n",
       "      <td>0.023138</td>\n",
       "      <td>-0.011678</td>\n",
       "      <td>0.074936</td>\n",
       "      <td>0.069291</td>\n",
       "      <td>0.082835</td>\n",
       "      <td>0.203079</td>\n",
       "      <td>1.000000</td>\n",
       "      <td>0.017509</td>\n",
       "      <td>0.012067</td>\n",
       "    </tr>\n",
       "    <tr>\n",
       "      <th>mental_vs_physical</th>\n",
       "      <td>-0.008420</td>\n",
       "      <td>-0.000185</td>\n",
       "      <td>-0.011894</td>\n",
       "      <td>0.136131</td>\n",
       "      <td>0.041089</td>\n",
       "      <td>0.062642</td>\n",
       "      <td>-0.008124</td>\n",
       "      <td>-0.030942</td>\n",
       "      <td>0.036591</td>\n",
       "      <td>0.029191</td>\n",
       "      <td>...</td>\n",
       "      <td>0.293559</td>\n",
       "      <td>0.314297</td>\n",
       "      <td>0.066697</td>\n",
       "      <td>0.113011</td>\n",
       "      <td>0.188174</td>\n",
       "      <td>0.225373</td>\n",
       "      <td>-0.100652</td>\n",
       "      <td>0.017509</td>\n",
       "      <td>1.000000</td>\n",
       "      <td>0.024403</td>\n",
       "    </tr>\n",
       "    <tr>\n",
       "      <th>obs_consequence</th>\n",
       "      <td>0.056625</td>\n",
       "      <td>-0.023417</td>\n",
       "      <td>-0.070225</td>\n",
       "      <td>0.078969</td>\n",
       "      <td>0.124861</td>\n",
       "      <td>0.156972</td>\n",
       "      <td>-0.020989</td>\n",
       "      <td>-0.020812</td>\n",
       "      <td>-0.039065</td>\n",
       "      <td>-0.062347</td>\n",
       "      <td>...</td>\n",
       "      <td>0.054220</td>\n",
       "      <td>0.018552</td>\n",
       "      <td>0.131924</td>\n",
       "      <td>-0.027793</td>\n",
       "      <td>-0.039472</td>\n",
       "      <td>-0.090507</td>\n",
       "      <td>0.088514</td>\n",
       "      <td>0.012067</td>\n",
       "      <td>0.024403</td>\n",
       "      <td>1.000000</td>\n",
       "    </tr>\n",
       "  </tbody>\n",
       "</table>\n",
       "<p>24 rows × 24 columns</p>\n",
       "</div>"
      ],
      "text/plain": [
       "                                age    gender   country  self_employed  \\\n",
       "age                        1.000000  0.073748  0.101986       0.066404   \n",
       "gender                     0.073748  1.000000 -0.075970       0.044017   \n",
       "country                    0.101986 -0.075970  1.000000      -0.125253   \n",
       "self_employed              0.066404  0.044017 -0.125253       1.000000   \n",
       "family_history            -0.028172 -0.120012  0.062107       0.009715   \n",
       "treatment                  0.042170 -0.136853  0.077681       0.020046   \n",
       "work_interfere            -0.060617 -0.021700  0.013885      -0.056523   \n",
       "no_employees              -0.008283  0.017603  0.098673      -0.344680   \n",
       "remote_work                0.141116  0.001191 -0.017342       0.315369   \n",
       "tech_company              -0.027465  0.055629 -0.041091       0.083438   \n",
       "benefits                   0.114118 -0.084292  0.099703      -0.051409   \n",
       "care_options               0.085946 -0.071471  0.073719       0.045514   \n",
       "wellness_program           0.073325  0.007046  0.021439      -0.002343   \n",
       "seek_help                  0.087859  0.002820 -0.008916       0.033438   \n",
       "anonymity                  0.025695 -0.014585  0.002034       0.100647   \n",
       "leave                      0.017103  0.039938 -0.102454       0.170945   \n",
       "mental_health_consequence  0.052321  0.038749 -0.045102       0.029709   \n",
       "phys_health_consequence   -0.049507  0.032151 -0.016538       0.038385   \n",
       "coworkers                 -0.016198  0.055144 -0.030811       0.088454   \n",
       "supervisor                -0.015740  0.068176 -0.001308       0.043273   \n",
       "mental_health_interview    0.068288 -0.024401  0.052658      -0.008241   \n",
       "phys_health_interview     -0.027476 -0.006520 -0.016293      -0.017993   \n",
       "mental_vs_physical        -0.008420 -0.000185 -0.011894       0.136131   \n",
       "obs_consequence            0.056625 -0.023417 -0.070225       0.078969   \n",
       "\n",
       "                           family_history  treatment  work_interfere  \\\n",
       "age                             -0.028172   0.042170       -0.060617   \n",
       "gender                          -0.120012  -0.136853       -0.021700   \n",
       "country                          0.062107   0.077681        0.013885   \n",
       "self_employed                    0.009715   0.020046       -0.056523   \n",
       "family_history                   1.000000   0.377918        0.017420   \n",
       "treatment                        0.377918   1.000000       -0.035881   \n",
       "work_interfere                   0.017420  -0.035881        1.000000   \n",
       "no_employees                    -0.053635  -0.050114        0.025174   \n",
       "remote_work                      0.014456   0.026937       -0.002943   \n",
       "tech_company                    -0.046079  -0.031525        0.005412   \n",
       "benefits                         0.128490   0.226140       -0.042984   \n",
       "care_options                     0.107764   0.236578       -0.034658   \n",
       "wellness_program                 0.065098   0.094713       -0.024936   \n",
       "seek_help                        0.045071   0.089935       -0.007550   \n",
       "anonymity                        0.063679   0.142889        0.026233   \n",
       "leave                            0.022631   0.061549       -0.009474   \n",
       "mental_health_consequence        0.028196   0.030221       -0.024745   \n",
       "phys_health_consequence          0.002832  -0.008933       -0.044877   \n",
       "coworkers                       -0.000847   0.068433       -0.003023   \n",
       "supervisor                       0.003729  -0.036199       -0.009130   \n",
       "mental_health_interview          0.044564   0.098413        0.021336   \n",
       "phys_health_interview            0.039894   0.051859        0.013808   \n",
       "mental_vs_physical               0.041089   0.062642       -0.008124   \n",
       "obs_consequence                  0.124861   0.156972       -0.020989   \n",
       "\n",
       "                           no_employees  remote_work  tech_company  ...  \\\n",
       "age                           -0.008283     0.141116     -0.027465  ...   \n",
       "gender                         0.017603     0.001191      0.055629  ...   \n",
       "country                        0.098673    -0.017342     -0.041091  ...   \n",
       "self_employed                 -0.344680     0.315369      0.083438  ...   \n",
       "family_history                -0.053635     0.014456     -0.046079  ...   \n",
       "treatment                     -0.050114     0.026937     -0.031525  ...   \n",
       "work_interfere                 0.025174    -0.002943      0.005412  ...   \n",
       "no_employees                   1.000000    -0.211974     -0.111974  ...   \n",
       "remote_work                   -0.211974     1.000000      0.131108  ...   \n",
       "tech_company                  -0.111974     0.131108      1.000000  ...   \n",
       "benefits                       0.115136    -0.061417     -0.045619  ...   \n",
       "care_options                  -0.008634     0.010076     -0.026992  ...   \n",
       "wellness_program               0.086530    -0.073229     -0.116931  ...   \n",
       "seek_help                      0.063013    -0.033238     -0.066957  ...   \n",
       "anonymity                     -0.008690    -0.002676     -0.050912  ...   \n",
       "leave                         -0.098076     0.099669      0.047363  ...   \n",
       "mental_health_consequence     -0.011370     0.054828      0.001336  ...   \n",
       "phys_health_consequence       -0.075015    -0.009578      0.066134  ...   \n",
       "coworkers                     -0.090275     0.082438      0.075383  ...   \n",
       "supervisor                    -0.052650     0.025220      0.049543  ...   \n",
       "mental_health_interview        0.012454    -0.029730     -0.041117  ...   \n",
       "phys_health_interview          0.025892    -0.014344     -0.032186  ...   \n",
       "mental_vs_physical            -0.030942     0.036591      0.029191  ...   \n",
       "obs_consequence               -0.020812    -0.039065     -0.062347  ...   \n",
       "\n",
       "                           anonymity     leave  mental_health_consequence  \\\n",
       "age                         0.025695  0.017103                   0.052321   \n",
       "gender                     -0.014585  0.039938                   0.038749   \n",
       "country                     0.002034 -0.102454                  -0.045102   \n",
       "self_employed               0.100647  0.170945                   0.029709   \n",
       "family_history              0.063679  0.022631                   0.028196   \n",
       "treatment                   0.142889  0.061549                   0.030221   \n",
       "work_interfere              0.026233 -0.009474                  -0.024745   \n",
       "no_employees               -0.008690 -0.098076                  -0.011370   \n",
       "remote_work                -0.002676  0.099669                   0.054828   \n",
       "tech_company               -0.050912  0.047363                   0.001336   \n",
       "benefits                    0.337122  0.065898                  -0.009723   \n",
       "care_options                0.347801  0.145147                   0.004335   \n",
       "wellness_program            0.232169  0.086322                   0.055871   \n",
       "seek_help                   0.323898  0.134280                   0.046948   \n",
       "anonymity                   1.000000  0.287426                   0.016823   \n",
       "leave                       0.287426  1.000000                   0.085756   \n",
       "mental_health_consequence   0.016823  0.085756                   1.000000   \n",
       "phys_health_consequence     0.059745  0.086632                   0.133603   \n",
       "coworkers                   0.068665  0.183814                  -0.153773   \n",
       "supervisor                  0.149668  0.204995                  -0.153149   \n",
       "mental_health_interview    -0.003038 -0.065412                   0.058233   \n",
       "phys_health_interview       0.031212  0.023138                  -0.011678   \n",
       "mental_vs_physical          0.293559  0.314297                   0.066697   \n",
       "obs_consequence             0.054220  0.018552                   0.131924   \n",
       "\n",
       "                           phys_health_consequence  coworkers  supervisor  \\\n",
       "age                                      -0.049507  -0.016198   -0.015740   \n",
       "gender                                    0.032151   0.055144    0.068176   \n",
       "country                                  -0.016538  -0.030811   -0.001308   \n",
       "self_employed                             0.038385   0.088454    0.043273   \n",
       "family_history                            0.002832  -0.000847    0.003729   \n",
       "treatment                                -0.008933   0.068433   -0.036199   \n",
       "work_interfere                           -0.044877  -0.003023   -0.009130   \n",
       "no_employees                             -0.075015  -0.090275   -0.052650   \n",
       "remote_work                              -0.009578   0.082438    0.025220   \n",
       "tech_company                              0.066134   0.075383    0.049543   \n",
       "benefits                                 -0.028050  -0.006250    0.026161   \n",
       "care_options                              0.038479   0.030227    0.082192   \n",
       "wellness_program                         -0.008793  -0.006377    0.039296   \n",
       "seek_help                                 0.009367   0.058977    0.080287   \n",
       "anonymity                                 0.059745   0.068665    0.149668   \n",
       "leave                                     0.086632   0.183814    0.204995   \n",
       "mental_health_consequence                 0.133603  -0.153773   -0.153149   \n",
       "phys_health_consequence                   1.000000   0.092390    0.103836   \n",
       "coworkers                                 0.092390   1.000000    0.574310   \n",
       "supervisor                                0.103836   0.574310    1.000000   \n",
       "mental_health_interview                  -0.009345  -0.145486   -0.189549   \n",
       "phys_health_interview                     0.074936   0.069291    0.082835   \n",
       "mental_vs_physical                        0.113011   0.188174    0.225373   \n",
       "obs_consequence                          -0.027793  -0.039472   -0.090507   \n",
       "\n",
       "                           mental_health_interview  phys_health_interview  \\\n",
       "age                                       0.068288              -0.027476   \n",
       "gender                                   -0.024401              -0.006520   \n",
       "country                                   0.052658              -0.016293   \n",
       "self_employed                            -0.008241              -0.017993   \n",
       "family_history                            0.044564               0.039894   \n",
       "treatment                                 0.098413               0.051859   \n",
       "work_interfere                            0.021336               0.013808   \n",
       "no_employees                              0.012454               0.025892   \n",
       "remote_work                              -0.029730              -0.014344   \n",
       "tech_company                             -0.041117              -0.032186   \n",
       "benefits                                  0.037621               0.025533   \n",
       "care_options                              0.037855               0.021482   \n",
       "wellness_program                          0.052755              -0.010393   \n",
       "seek_help                                 0.035914               0.060511   \n",
       "anonymity                                -0.003038               0.031212   \n",
       "leave                                    -0.065412               0.023138   \n",
       "mental_health_consequence                 0.058233              -0.011678   \n",
       "phys_health_consequence                  -0.009345               0.074936   \n",
       "coworkers                                -0.145486               0.069291   \n",
       "supervisor                               -0.189549               0.082835   \n",
       "mental_health_interview                   1.000000               0.203079   \n",
       "phys_health_interview                     0.203079               1.000000   \n",
       "mental_vs_physical                       -0.100652               0.017509   \n",
       "obs_consequence                           0.088514               0.012067   \n",
       "\n",
       "                           mental_vs_physical  obs_consequence  \n",
       "age                                 -0.008420         0.056625  \n",
       "gender                              -0.000185        -0.023417  \n",
       "country                             -0.011894        -0.070225  \n",
       "self_employed                        0.136131         0.078969  \n",
       "family_history                       0.041089         0.124861  \n",
       "treatment                            0.062642         0.156972  \n",
       "work_interfere                      -0.008124        -0.020989  \n",
       "no_employees                        -0.030942        -0.020812  \n",
       "remote_work                          0.036591        -0.039065  \n",
       "tech_company                         0.029191        -0.062347  \n",
       "benefits                             0.139742         0.069650  \n",
       "care_options                         0.162295         0.073626  \n",
       "wellness_program                     0.123616         0.101773  \n",
       "seek_help                            0.174893         0.134894  \n",
       "anonymity                            0.293559         0.054220  \n",
       "leave                                0.314297         0.018552  \n",
       "mental_health_consequence            0.066697         0.131924  \n",
       "phys_health_consequence              0.113011        -0.027793  \n",
       "coworkers                            0.188174        -0.039472  \n",
       "supervisor                           0.225373        -0.090507  \n",
       "mental_health_interview             -0.100652         0.088514  \n",
       "phys_health_interview                0.017509         0.012067  \n",
       "mental_vs_physical                   1.000000         0.024403  \n",
       "obs_consequence                      0.024403         1.000000  \n",
       "\n",
       "[24 rows x 24 columns]"
      ]
     },
     "execution_count": 322,
     "metadata": {},
     "output_type": "execute_result"
    }
   ],
   "source": [
    "df.corr()"
   ]
  },
  {
   "cell_type": "code",
   "execution_count": 323,
   "metadata": {},
   "outputs": [
    {
     "data": {
      "text/plain": [
       "(0.4412614675148797, 3.949380063257001e-61)"
      ]
     },
     "execution_count": 323,
     "metadata": {},
     "output_type": "execute_result"
    }
   ],
   "source": [
    "from scipy import stats\n",
    "stats.pearsonr(df.care_options, df.benefits)\n"
   ]
  },
  {
   "cell_type": "code",
   "execution_count": 324,
   "metadata": {},
   "outputs": [
    {
     "data": {
      "text/plain": [
       "(0.5743100156595736, 2.232498173032926e-111)"
      ]
     },
     "execution_count": 324,
     "metadata": {},
     "output_type": "execute_result"
    }
   ],
   "source": [
    "stats.pearsonr(df.coworkers,df.supervisor)"
   ]
  },
  {
   "cell_type": "code",
   "execution_count": 325,
   "metadata": {},
   "outputs": [
    {
     "data": {
      "text/html": [
       "<div>\n",
       "<style scoped>\n",
       "    .dataframe tbody tr th:only-of-type {\n",
       "        vertical-align: middle;\n",
       "    }\n",
       "\n",
       "    .dataframe tbody tr th {\n",
       "        vertical-align: top;\n",
       "    }\n",
       "\n",
       "    .dataframe thead th {\n",
       "        text-align: right;\n",
       "    }\n",
       "</style>\n",
       "<table border=\"1\" class=\"dataframe\">\n",
       "  <thead>\n",
       "    <tr style=\"text-align: right;\">\n",
       "      <th></th>\n",
       "      <th>age</th>\n",
       "      <th>gender</th>\n",
       "      <th>country</th>\n",
       "      <th>self_employed</th>\n",
       "      <th>family_history</th>\n",
       "      <th>treatment</th>\n",
       "      <th>work_interfere</th>\n",
       "      <th>no_employees</th>\n",
       "      <th>remote_work</th>\n",
       "      <th>tech_company</th>\n",
       "      <th>...</th>\n",
       "      <th>anonymity</th>\n",
       "      <th>leave</th>\n",
       "      <th>mental_health_consequence</th>\n",
       "      <th>phys_health_consequence</th>\n",
       "      <th>coworkers</th>\n",
       "      <th>supervisor</th>\n",
       "      <th>mental_health_interview</th>\n",
       "      <th>phys_health_interview</th>\n",
       "      <th>mental_vs_physical</th>\n",
       "      <th>obs_consequence</th>\n",
       "    </tr>\n",
       "  </thead>\n",
       "  <tbody>\n",
       "    <tr>\n",
       "      <th>count</th>\n",
       "      <td>1259.000000</td>\n",
       "      <td>1259.00000</td>\n",
       "      <td>1259.000000</td>\n",
       "      <td>1259.000000</td>\n",
       "      <td>1259.000000</td>\n",
       "      <td>1259.000000</td>\n",
       "      <td>1259.000000</td>\n",
       "      <td>1259.000000</td>\n",
       "      <td>1259.000000</td>\n",
       "      <td>1259.000000</td>\n",
       "      <td>...</td>\n",
       "      <td>1259.000000</td>\n",
       "      <td>1259.000000</td>\n",
       "      <td>1259.000000</td>\n",
       "      <td>1259.000000</td>\n",
       "      <td>1259.00000</td>\n",
       "      <td>1259.000000</td>\n",
       "      <td>1259.000000</td>\n",
       "      <td>1259.000000</td>\n",
       "      <td>1259.000000</td>\n",
       "      <td>1259.000000</td>\n",
       "    </tr>\n",
       "    <tr>\n",
       "      <th>mean</th>\n",
       "      <td>1.193805</td>\n",
       "      <td>0.82367</td>\n",
       "      <td>37.792693</td>\n",
       "      <td>0.246227</td>\n",
       "      <td>0.390786</td>\n",
       "      <td>0.505957</td>\n",
       "      <td>2.335981</td>\n",
       "      <td>2.783161</td>\n",
       "      <td>0.298650</td>\n",
       "      <td>0.818904</td>\n",
       "      <td>...</td>\n",
       "      <td>0.647339</td>\n",
       "      <td>1.410643</td>\n",
       "      <td>0.853058</td>\n",
       "      <td>0.831612</td>\n",
       "      <td>0.97220</td>\n",
       "      <td>1.097697</td>\n",
       "      <td>0.870532</td>\n",
       "      <td>0.718030</td>\n",
       "      <td>0.814932</td>\n",
       "      <td>0.146148</td>\n",
       "    </tr>\n",
       "    <tr>\n",
       "      <th>std</th>\n",
       "      <td>0.887428</td>\n",
       "      <td>0.43756</td>\n",
       "      <td>13.320224</td>\n",
       "      <td>0.646422</td>\n",
       "      <td>0.488121</td>\n",
       "      <td>0.500163</td>\n",
       "      <td>1.373980</td>\n",
       "      <td>1.740247</td>\n",
       "      <td>0.457848</td>\n",
       "      <td>0.385251</td>\n",
       "      <td>...</td>\n",
       "      <td>0.908106</td>\n",
       "      <td>1.508507</td>\n",
       "      <td>0.767905</td>\n",
       "      <td>0.486954</td>\n",
       "      <td>0.62029</td>\n",
       "      <td>0.844407</td>\n",
       "      <td>0.427490</td>\n",
       "      <td>0.723718</td>\n",
       "      <td>0.834414</td>\n",
       "      <td>0.353395</td>\n",
       "    </tr>\n",
       "    <tr>\n",
       "      <th>min</th>\n",
       "      <td>0.000000</td>\n",
       "      <td>0.00000</td>\n",
       "      <td>0.000000</td>\n",
       "      <td>0.000000</td>\n",
       "      <td>0.000000</td>\n",
       "      <td>0.000000</td>\n",
       "      <td>0.000000</td>\n",
       "      <td>0.000000</td>\n",
       "      <td>0.000000</td>\n",
       "      <td>0.000000</td>\n",
       "      <td>...</td>\n",
       "      <td>0.000000</td>\n",
       "      <td>0.000000</td>\n",
       "      <td>0.000000</td>\n",
       "      <td>0.000000</td>\n",
       "      <td>0.00000</td>\n",
       "      <td>0.000000</td>\n",
       "      <td>0.000000</td>\n",
       "      <td>0.000000</td>\n",
       "      <td>0.000000</td>\n",
       "      <td>0.000000</td>\n",
       "    </tr>\n",
       "    <tr>\n",
       "      <th>25%</th>\n",
       "      <td>1.000000</td>\n",
       "      <td>1.00000</td>\n",
       "      <td>42.000000</td>\n",
       "      <td>0.000000</td>\n",
       "      <td>0.000000</td>\n",
       "      <td>0.000000</td>\n",
       "      <td>1.000000</td>\n",
       "      <td>1.000000</td>\n",
       "      <td>0.000000</td>\n",
       "      <td>1.000000</td>\n",
       "      <td>...</td>\n",
       "      <td>0.000000</td>\n",
       "      <td>0.000000</td>\n",
       "      <td>0.000000</td>\n",
       "      <td>1.000000</td>\n",
       "      <td>1.00000</td>\n",
       "      <td>0.000000</td>\n",
       "      <td>1.000000</td>\n",
       "      <td>0.000000</td>\n",
       "      <td>0.000000</td>\n",
       "      <td>0.000000</td>\n",
       "    </tr>\n",
       "    <tr>\n",
       "      <th>50%</th>\n",
       "      <td>1.000000</td>\n",
       "      <td>1.00000</td>\n",
       "      <td>45.000000</td>\n",
       "      <td>0.000000</td>\n",
       "      <td>0.000000</td>\n",
       "      <td>1.000000</td>\n",
       "      <td>3.000000</td>\n",
       "      <td>3.000000</td>\n",
       "      <td>0.000000</td>\n",
       "      <td>1.000000</td>\n",
       "      <td>...</td>\n",
       "      <td>0.000000</td>\n",
       "      <td>1.000000</td>\n",
       "      <td>1.000000</td>\n",
       "      <td>1.000000</td>\n",
       "      <td>1.00000</td>\n",
       "      <td>1.000000</td>\n",
       "      <td>1.000000</td>\n",
       "      <td>1.000000</td>\n",
       "      <td>1.000000</td>\n",
       "      <td>0.000000</td>\n",
       "    </tr>\n",
       "    <tr>\n",
       "      <th>75%</th>\n",
       "      <td>2.000000</td>\n",
       "      <td>1.00000</td>\n",
       "      <td>45.000000</td>\n",
       "      <td>0.000000</td>\n",
       "      <td>1.000000</td>\n",
       "      <td>1.000000</td>\n",
       "      <td>3.000000</td>\n",
       "      <td>4.000000</td>\n",
       "      <td>1.000000</td>\n",
       "      <td>1.000000</td>\n",
       "      <td>...</td>\n",
       "      <td>2.000000</td>\n",
       "      <td>2.000000</td>\n",
       "      <td>1.000000</td>\n",
       "      <td>1.000000</td>\n",
       "      <td>1.00000</td>\n",
       "      <td>2.000000</td>\n",
       "      <td>1.000000</td>\n",
       "      <td>1.000000</td>\n",
       "      <td>2.000000</td>\n",
       "      <td>0.000000</td>\n",
       "    </tr>\n",
       "    <tr>\n",
       "      <th>max</th>\n",
       "      <td>6.000000</td>\n",
       "      <td>3.00000</td>\n",
       "      <td>47.000000</td>\n",
       "      <td>2.000000</td>\n",
       "      <td>1.000000</td>\n",
       "      <td>1.000000</td>\n",
       "      <td>4.000000</td>\n",
       "      <td>5.000000</td>\n",
       "      <td>1.000000</td>\n",
       "      <td>1.000000</td>\n",
       "      <td>...</td>\n",
       "      <td>2.000000</td>\n",
       "      <td>4.000000</td>\n",
       "      <td>2.000000</td>\n",
       "      <td>2.000000</td>\n",
       "      <td>2.00000</td>\n",
       "      <td>2.000000</td>\n",
       "      <td>2.000000</td>\n",
       "      <td>2.000000</td>\n",
       "      <td>2.000000</td>\n",
       "      <td>1.000000</td>\n",
       "    </tr>\n",
       "  </tbody>\n",
       "</table>\n",
       "<p>8 rows × 24 columns</p>\n",
       "</div>"
      ],
      "text/plain": [
       "               age      gender      country  self_employed  family_history  \\\n",
       "count  1259.000000  1259.00000  1259.000000    1259.000000     1259.000000   \n",
       "mean      1.193805     0.82367    37.792693       0.246227        0.390786   \n",
       "std       0.887428     0.43756    13.320224       0.646422        0.488121   \n",
       "min       0.000000     0.00000     0.000000       0.000000        0.000000   \n",
       "25%       1.000000     1.00000    42.000000       0.000000        0.000000   \n",
       "50%       1.000000     1.00000    45.000000       0.000000        0.000000   \n",
       "75%       2.000000     1.00000    45.000000       0.000000        1.000000   \n",
       "max       6.000000     3.00000    47.000000       2.000000        1.000000   \n",
       "\n",
       "         treatment  work_interfere  no_employees  remote_work  tech_company  \\\n",
       "count  1259.000000     1259.000000   1259.000000  1259.000000   1259.000000   \n",
       "mean      0.505957        2.335981      2.783161     0.298650      0.818904   \n",
       "std       0.500163        1.373980      1.740247     0.457848      0.385251   \n",
       "min       0.000000        0.000000      0.000000     0.000000      0.000000   \n",
       "25%       0.000000        1.000000      1.000000     0.000000      1.000000   \n",
       "50%       1.000000        3.000000      3.000000     0.000000      1.000000   \n",
       "75%       1.000000        3.000000      4.000000     1.000000      1.000000   \n",
       "max       1.000000        4.000000      5.000000     1.000000      1.000000   \n",
       "\n",
       "       ...    anonymity        leave  mental_health_consequence  \\\n",
       "count  ...  1259.000000  1259.000000                1259.000000   \n",
       "mean   ...     0.647339     1.410643                   0.853058   \n",
       "std    ...     0.908106     1.508507                   0.767905   \n",
       "min    ...     0.000000     0.000000                   0.000000   \n",
       "25%    ...     0.000000     0.000000                   0.000000   \n",
       "50%    ...     0.000000     1.000000                   1.000000   \n",
       "75%    ...     2.000000     2.000000                   1.000000   \n",
       "max    ...     2.000000     4.000000                   2.000000   \n",
       "\n",
       "       phys_health_consequence   coworkers   supervisor  \\\n",
       "count              1259.000000  1259.00000  1259.000000   \n",
       "mean                  0.831612     0.97220     1.097697   \n",
       "std                   0.486954     0.62029     0.844407   \n",
       "min                   0.000000     0.00000     0.000000   \n",
       "25%                   1.000000     1.00000     0.000000   \n",
       "50%                   1.000000     1.00000     1.000000   \n",
       "75%                   1.000000     1.00000     2.000000   \n",
       "max                   2.000000     2.00000     2.000000   \n",
       "\n",
       "       mental_health_interview  phys_health_interview  mental_vs_physical  \\\n",
       "count              1259.000000            1259.000000         1259.000000   \n",
       "mean                  0.870532               0.718030            0.814932   \n",
       "std                   0.427490               0.723718            0.834414   \n",
       "min                   0.000000               0.000000            0.000000   \n",
       "25%                   1.000000               0.000000            0.000000   \n",
       "50%                   1.000000               1.000000            1.000000   \n",
       "75%                   1.000000               1.000000            2.000000   \n",
       "max                   2.000000               2.000000            2.000000   \n",
       "\n",
       "       obs_consequence  \n",
       "count      1259.000000  \n",
       "mean          0.146148  \n",
       "std           0.353395  \n",
       "min           0.000000  \n",
       "25%           0.000000  \n",
       "50%           0.000000  \n",
       "75%           0.000000  \n",
       "max           1.000000  \n",
       "\n",
       "[8 rows x 24 columns]"
      ]
     },
     "execution_count": 325,
     "metadata": {},
     "output_type": "execute_result"
    }
   ],
   "source": [
    "df.describe()"
   ]
  },
  {
   "cell_type": "code",
   "execution_count": 326,
   "metadata": {},
   "outputs": [
    {
     "data": {
      "text/plain": [
       "coworkers\n",
       "2    1.844444\n",
       "1    1.152455\n",
       "0    0.288462\n",
       "Name: supervisor, dtype: float64"
      ]
     },
     "execution_count": 326,
     "metadata": {},
     "output_type": "execute_result"
    }
   ],
   "source": [
    "df.groupby('coworkers')['supervisor'].mean().sort_values(ascending=False)"
   ]
  },
  {
   "cell_type": "markdown",
   "metadata": {},
   "source": [
    "<b>From the correlation commands executed I see where there may be strong correlations, and I have an idea of which columns and values would be of high importance. At this point, I think it's time to start configuring models for supervised learning. I want to look at different regression models and see how the data looks before any further tuning or featuring is done. "
   ]
  },
  {
   "cell_type": "markdown",
   "metadata": {},
   "source": [
    "<b>Model your outcome of interest. You should try several different approaches and really work to tune a variety of models before using the model evaluation techniques to choose what you consider to be the best performer. Make sure to think about explanatory versus predictive power and experiment with both."
   ]
  },
  {
   "cell_type": "markdown",
   "metadata": {},
   "source": [
    "<b>Things to address:\n",
    "\n",
    "-  A specified research question your model addresses\n",
    "-  How you chose your model specification and what alternatives you compared it to\n",
    "-  The practical uses of your model for an audience of interest\n",
    "-  Any weak points or shortcomings of your model"
   ]
  },
  {
   "cell_type": "markdown",
   "metadata": {},
   "source": [
    "#### A specified research question your model addresses\n",
    "\n",
    "My model will address the question of whether the survey takers answers to any of the questions can be used to predict whether they have sought treatment for mental health conditions. I will test multiple models and compare them against each other and detemine which best predicts the answers to my question."
   ]
  },
  {
   "cell_type": "markdown",
   "metadata": {},
   "source": [
    "### Setup for Modelling"
   ]
  },
  {
   "cell_type": "code",
   "execution_count": 327,
   "metadata": {},
   "outputs": [],
   "source": [
    "#Setup X and y\n",
    "\n",
    "X= df.drop(['treatment'],1)\n",
    "y=df['treatment']\n"
   ]
  },
  {
   "cell_type": "code",
   "execution_count": 328,
   "metadata": {},
   "outputs": [],
   "source": [
    "#train test split\n",
    "from sklearn.model_selection import train_test_split\n",
    "\n",
    "X_train, X_test, y_train, y_test = train_test_split(X,y, test_size=0.3,random_state=50)\n"
   ]
  },
  {
   "cell_type": "code",
   "execution_count": 329,
   "metadata": {},
   "outputs": [
    {
     "name": "stdout",
     "output_type": "stream",
     "text": [
      "(881, 23)\n",
      "(881,)\n",
      "(378, 23)\n",
      "(378,)\n"
     ]
    }
   ],
   "source": [
    "print(X_train.shape)\n",
    "print(y_train.shape)\n",
    "print(X_test.shape)\n",
    "print(y_test.shape)"
   ]
  },
  {
   "cell_type": "markdown",
   "metadata": {},
   "source": [
    "<b>Logistic Regression"
   ]
  },
  {
   "cell_type": "code",
   "execution_count": 330,
   "metadata": {},
   "outputs": [],
   "source": [
    "from sklearn.linear_model import LogisticRegression\n",
    "from sklearn.metrics import confusion_matrix, accuracy_score\n",
    "lr = LogisticRegression()\n",
    "lr.fit(X_train, y_train)\n",
    "lr_predict = lr.predict(X_test)"
   ]
  },
  {
   "cell_type": "code",
   "execution_count": 331,
   "metadata": {},
   "outputs": [
    {
     "name": "stdout",
     "output_type": "stream",
     "text": [
      "[[116  62]\n",
      " [ 68 132]]\n",
      "65.60846560846561\n"
     ]
    }
   ],
   "source": [
    "#print confusion matrix and accuracy score\n",
    "lr_conf_matrix = confusion_matrix(y_test, lr_predict)\n",
    "lr_acc_score = accuracy_score(y_test, lr_predict)\n",
    "print(lr_conf_matrix)\n",
    "print(lr_acc_score*100)"
   ]
  },
  {
   "cell_type": "markdown",
   "metadata": {},
   "source": [
    "<b>Random Forest"
   ]
  },
  {
   "cell_type": "code",
   "execution_count": 332,
   "metadata": {},
   "outputs": [
    {
     "data": {
      "text/plain": [
       "RandomForestClassifier(bootstrap=True, class_weight=None, criterion='gini',\n",
       "            max_depth=None, max_features='auto', max_leaf_nodes=None,\n",
       "            min_impurity_decrease=0.0, min_impurity_split=None,\n",
       "            min_samples_leaf=1, min_samples_split=2,\n",
       "            min_weight_fraction_leaf=0.0, n_estimators=400, n_jobs=100,\n",
       "            oob_score=False, random_state=50, verbose=0, warm_start=False)"
      ]
     },
     "execution_count": 332,
     "metadata": {},
     "output_type": "execute_result"
    }
   ],
   "source": [
    "#random forest\n",
    "from sklearn.ensemble import RandomForestClassifier\n",
    "rfc = RandomForestClassifier(class_weight=None,  n_jobs=100, random_state=50, n_estimators=400)\n",
    "rfc.fit(X_train, y_train)\n"
   ]
  },
  {
   "cell_type": "code",
   "execution_count": 333,
   "metadata": {},
   "outputs": [],
   "source": [
    "pred_rfc = rfc.predict(X_test)"
   ]
  },
  {
   "cell_type": "code",
   "execution_count": 334,
   "metadata": {},
   "outputs": [
    {
     "name": "stdout",
     "output_type": "stream",
     "text": [
      "Random Forest Accuracy Score: 80.68783068783068\n",
      "Random Forest Confusion Matrix:\n",
      " [[133  45]\n",
      " [ 28 172]]\n"
     ]
    }
   ],
   "source": [
    "#Check accuracy\n",
    "print(\"Random Forest Accuracy Score:\",accuracy_score(y_test,pred_rfc )*100)\n",
    "\n",
    "print(\"Random Forest Confusion Matrix:\\n\", confusion_matrix(y_test,pred_rfc))"
   ]
  },
  {
   "cell_type": "markdown",
   "metadata": {},
   "source": [
    "<b>Support Vector"
   ]
  },
  {
   "cell_type": "code",
   "execution_count": 335,
   "metadata": {},
   "outputs": [
    {
     "data": {
      "text/plain": [
       "SVC(C=1.0, cache_size=200, class_weight=None, coef0=0.0,\n",
       "  decision_function_shape='ovr', degree=3, gamma='scale', kernel='rbf',\n",
       "  max_iter=-1, probability=False, random_state=None, shrinking=True,\n",
       "  tol=0.001, verbose=False)"
      ]
     },
     "execution_count": 335,
     "metadata": {},
     "output_type": "execute_result"
    }
   ],
   "source": [
    "#Support vector\n",
    "from sklearn.svm import SVC\n",
    "svc = SVC(gamma='scale')\n",
    "svc.fit(X_train, y_train)"
   ]
  },
  {
   "cell_type": "code",
   "execution_count": 336,
   "metadata": {},
   "outputs": [
    {
     "data": {
      "text/plain": [
       "0.6617480136208853"
      ]
     },
     "execution_count": 336,
     "metadata": {},
     "output_type": "execute_result"
    }
   ],
   "source": [
    "svc.score(X_train, y_train)"
   ]
  },
  {
   "cell_type": "code",
   "execution_count": null,
   "metadata": {},
   "outputs": [],
   "source": []
  },
  {
   "cell_type": "code",
   "execution_count": 337,
   "metadata": {},
   "outputs": [
    {
     "data": {
      "text/plain": [
       "GradientBoostingClassifier(criterion='friedman_mse', init=None,\n",
       "              learning_rate=0.1, loss='deviance', max_depth=2,\n",
       "              max_features=None, max_leaf_nodes=None,\n",
       "              min_impurity_decrease=0.0, min_impurity_split=None,\n",
       "              min_samples_leaf=1, min_samples_split=2,\n",
       "              min_weight_fraction_leaf=0.0, n_estimators=500,\n",
       "              n_iter_no_change=None, presort='auto', random_state=None,\n",
       "              subsample=1.0, tol=0.0001, validation_fraction=0.1,\n",
       "              verbose=0, warm_start=False)"
      ]
     },
     "execution_count": 337,
     "metadata": {},
     "output_type": "execute_result"
    }
   ],
   "source": [
    "from sklearn import ensemble\n",
    "\n",
    "gbc = ensemble.GradientBoostingClassifier(n_estimators= 500,\n",
    "          max_depth= 2,\n",
    "          loss ='deviance')\n",
    "gbc.fit(X_train, y_train)"
   ]
  },
  {
   "cell_type": "code",
   "execution_count": 338,
   "metadata": {},
   "outputs": [
    {
     "name": "stdout",
     "output_type": "stream",
     "text": [
      "Gradient Boosting Classifiert Accuracy Score: 82.53968253968253\n",
      "Gradient Boosting Classifier Confusion Matrix:\n",
      " [[136  42]\n",
      " [ 24 176]]\n"
     ]
    }
   ],
   "source": [
    "pred_gbc = gbc.predict(X_test)\n",
    "#Check accuracy\n",
    "print(\"Gradient Boosting Classifiert Accuracy Score:\",accuracy_score(y_test,pred_gbc )*100)\n",
    "\n",
    "print(\"Gradient Boosting Classifier Confusion Matrix:\\n\", confusion_matrix(y_test,pred_gbc))"
   ]
  },
  {
   "cell_type": "markdown",
   "metadata": {},
   "source": [
    "### Feature Importance"
   ]
  },
  {
   "cell_type": "code",
   "execution_count": 339,
   "metadata": {},
   "outputs": [],
   "source": [
    "#finding important features\n",
    "feature_importances = pd.DataFrame(rfc.feature_importances_,\n",
    "                                   index = X.columns,\n",
    "                                    columns=['importance']).sort_values('importance', ascending=False)"
   ]
  },
  {
   "cell_type": "code",
   "execution_count": 340,
   "metadata": {},
   "outputs": [
    {
     "data": {
      "text/plain": [
       "work_interfere               0.265997\n",
       "family_history               0.090796\n",
       "care_options                 0.058235\n",
       "country                      0.051300\n",
       "no_employees                 0.051015\n",
       "leave                        0.044033\n",
       "benefits                     0.041089\n",
       "age                          0.039721\n",
       "phys_health_interview        0.033294\n",
       "mental_health_consequence    0.031079\n",
       "supervisor                   0.030814\n",
       "coworkers                    0.030169\n",
       "mental_vs_physical           0.029056\n",
       "seek_help                    0.027550\n",
       "gender                       0.027168\n",
       "anonymity                    0.024527\n",
       "wellness_program             0.024453\n",
       "phys_health_consequence      0.020645\n",
       "remote_work                  0.018918\n",
       "mental_health_interview      0.018122\n",
       "obs_consequence              0.016052\n",
       "tech_company                 0.013531\n",
       "self_employed                0.012438\n",
       "Name: importance, dtype: float64"
      ]
     },
     "execution_count": 340,
     "metadata": {},
     "output_type": "execute_result"
    }
   ],
   "source": [
    "#Feature importance through RFC\n",
    "feature_importances.importance.head(27)"
   ]
  },
  {
   "cell_type": "code",
   "execution_count": 341,
   "metadata": {},
   "outputs": [],
   "source": [
    "gbcffeature_importance = gbc.feature_importances_\n",
    "\n",
    "#finding important features\n",
    "gbcfeature_importances = pd.DataFrame(gbc.feature_importances_,\n",
    "                                   index = X.columns,\n",
    "                                    columns=['importance']).sort_values('importance', ascending=False)"
   ]
  },
  {
   "cell_type": "code",
   "execution_count": 342,
   "metadata": {},
   "outputs": [
    {
     "data": {
      "text/plain": [
       "work_interfere               0.679504\n",
       "family_history               0.070346\n",
       "country                      0.038612\n",
       "care_options                 0.034926\n",
       "gender                       0.017977\n",
       "coworkers                    0.017334\n",
       "no_employees                 0.017055\n",
       "age                          0.015653\n",
       "benefits                     0.013895\n",
       "mental_health_consequence    0.013651\n",
       "leave                        0.011694\n",
       "Name: importance, dtype: float64"
      ]
     },
     "execution_count": 342,
     "metadata": {},
     "output_type": "execute_result"
    }
   ],
   "source": [
    "#top 30 features\n",
    "gbcfeature_importances.importance.head(11)"
   ]
  },
  {
   "cell_type": "code",
   "execution_count": null,
   "metadata": {},
   "outputs": [],
   "source": []
  },
  {
   "cell_type": "code",
   "execution_count": 343,
   "metadata": {},
   "outputs": [],
   "source": [
    "X1 = df[['work_interfere', 'family_history', 'care_options', 'no_employees',\n",
    "         'country','age', 'benefits', 'coworkers', 'gender', 'anonymity',\n",
    "        'supervisor', 'mental_health_consequence', 'leave']]\n",
    "y1 = df['treatment']\n"
   ]
  },
  {
   "cell_type": "code",
   "execution_count": 344,
   "metadata": {},
   "outputs": [],
   "source": [
    "X_train1, X_test1, y_train1, y_test1 = train_test_split(X1,y1, test_size=0.25, random_state=0)"
   ]
  },
  {
   "cell_type": "code",
   "execution_count": 345,
   "metadata": {},
   "outputs": [
    {
     "data": {
      "text/plain": [
       "RandomForestClassifier(bootstrap=True, class_weight=None, criterion='gini',\n",
       "            max_depth=None, max_features='auto', max_leaf_nodes=None,\n",
       "            min_impurity_decrease=0.0, min_impurity_split=None,\n",
       "            min_samples_leaf=1, min_samples_split=2,\n",
       "            min_weight_fraction_leaf=0.0, n_estimators=400, n_jobs=None,\n",
       "            oob_score=False, random_state=None, verbose=0,\n",
       "            warm_start=False)"
      ]
     },
     "execution_count": 345,
     "metadata": {},
     "output_type": "execute_result"
    }
   ],
   "source": [
    "#random forest\n",
    "\n",
    "rfc1 = RandomForestClassifier(n_estimators=400)\n",
    "rfc1.fit(X_train1, y_train1)\n"
   ]
  },
  {
   "cell_type": "code",
   "execution_count": 346,
   "metadata": {},
   "outputs": [
    {
     "name": "stdout",
     "output_type": "stream",
     "text": [
      "Random Forest Accuracy Score: 80.95238095238095\n",
      "Random Forest Confusion Matrix:\n",
      " [[119  42]\n",
      " [ 18 136]]\n"
     ]
    }
   ],
   "source": [
    "pred_rfc1 = rfc1.predict(X_test1)\n",
    "#Check accuracy\n",
    "print(\"Random Forest Accuracy Score:\",accuracy_score(y_test1,pred_rfc1 )*100)\n",
    "\n",
    "print(\"Random Forest Confusion Matrix:\\n\", confusion_matrix(y_test1,pred_rfc1))"
   ]
  },
  {
   "cell_type": "code",
   "execution_count": 347,
   "metadata": {},
   "outputs": [],
   "source": [
    "#combining columns?"
   ]
  }
 ],
 "metadata": {
  "kernelspec": {
   "display_name": "Python 3",
   "language": "python",
   "name": "python3"
  },
  "language_info": {
   "codemirror_mode": {
    "name": "ipython",
    "version": 3
   },
   "file_extension": ".py",
   "mimetype": "text/x-python",
   "name": "python",
   "nbconvert_exporter": "python",
   "pygments_lexer": "ipython3",
   "version": "3.7.2"
  }
 },
 "nbformat": 4,
 "nbformat_minor": 2
}
