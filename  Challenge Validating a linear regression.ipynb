{
 "cells": [
  {
   "cell_type": "markdown",
   "metadata": {},
   "source": [
    "# Challenge: Validating a linear regression"
   ]
  },
  {
   "cell_type": "markdown",
   "metadata": {},
   "source": [
    "Your goal is to achieve a model with a consistent R2 and only statistically significant parameters across multiple samples."
   ]
  },
  {
   "cell_type": "markdown",
   "metadata": {},
   "source": [
    "We'll use the property crime model you've been working on with, based on the FBI:UCR data. Since your model formulation to date has used the entire New York State 2013 dataset, you'll need to validate it using some of the other crime datasets available at the FBI:UCR website."
   ]
  },
  {
   "cell_type": "markdown",
   "metadata": {},
   "source": [
    "Based on the results of your validation test, create a revised model, and then test both old and new models on a new holdout or set of folds.\n",
    "\n",
    "Include your model(s) and a brief writeup of the reasoning behind the validation method you chose and the changes you made to submit and review with your mentor."
   ]
  },
  {
   "cell_type": "code",
   "execution_count": 1931,
   "metadata": {},
   "outputs": [],
   "source": [
    "#importing modules and potential modules\n",
    "%matplotlib inline\n",
    "import numpy as np\n",
    "import pandas as pd\n",
    "import scipy\n",
    "import sklearn\n",
    "import matplotlib.pyplot as plt\n",
    "import seaborn as sns\n",
    "import random\n",
    "import nltk\n",
    "import math\n",
    "import warnings\n",
    "from IPython.display import display\n",
    "from sklearn.model_selection import train_test_split\n",
    "from sklearn import linear_model\n",
    "import statsmodels.formula.api as smf\n",
    "from statsmodels.sandbox.regression.predstd import wls_prediction_std\n",
    "from sklearn.model_selection import cross_val_score\n",
    "from sklearn import metrics  \n",
    "from scipy import stats\n",
    "# Suppress annoying harmless error.\n",
    "warnings.filterwarnings(\n",
    "    action=\"ignore\",\n",
    "    module=\"scipy\",\n",
    "    message=\"^internal gelsd\")"
   ]
  },
  {
   "cell_type": "code",
   "execution_count": 1932,
   "metadata": {},
   "outputs": [],
   "source": [
    "#importing the NY crime dataset\n",
    "data = pd.read_csv('https://raw.githubusercontent.com/GenTaylor/Unit2-SupervisedLearning/master/NYCcrimedataframemlr.csv')"
   ]
  },
  {
   "cell_type": "code",
   "execution_count": 1933,
   "metadata": {},
   "outputs": [
    {
     "data": {
      "text/plain": [
       "Index(['City', 'Population', 'Violent_Crime', 'Murder', 'Rape1', 'Rape2',\n",
       "       'Robbery', 'Aggravated_Assault', 'Property', 'Burglary',\n",
       "       'Larceny_Theft', 'Motor_Vehicle_Theft', 'Arson3'],\n",
       "      dtype='object')"
      ]
     },
     "execution_count": 1933,
     "metadata": {},
     "output_type": "execute_result"
    }
   ],
   "source": [
    "#changing column names\n",
    "data_cols= ['City', 'Population', 'Violent_Crime', 'Murder', 'Rape1', 'Rape2', \n",
    "            'Robbery', 'Aggravated_Assault', 'Property', 'Burglary', \n",
    "            'Larceny_Theft', 'Motor_Vehicle_Theft', 'Arson3']\n",
    "data.columns = data_cols\n",
    "data.columns"
   ]
  },
  {
   "cell_type": "code",
   "execution_count": 1934,
   "metadata": {},
   "outputs": [
    {
     "data": {
      "text/plain": [
       "City                    object\n",
       "Population               int64\n",
       "Violent_Crime            int64\n",
       "Murder                   int64\n",
       "Rape1                  float64\n",
       "Rape2                    int64\n",
       "Robbery                  int64\n",
       "Aggravated_Assault       int64\n",
       "Property                 int64\n",
       "Burglary                 int64\n",
       "Larceny_Theft            int64\n",
       "Motor_Vehicle_Theft      int64\n",
       "Arson3                 float64\n",
       "dtype: object"
      ]
     },
     "execution_count": 1934,
     "metadata": {},
     "output_type": "execute_result"
    }
   ],
   "source": [
    "data.dtypes"
   ]
  },
  {
   "cell_type": "code",
   "execution_count": 1935,
   "metadata": {},
   "outputs": [],
   "source": [
    "#winsorizing data to \"fix\" anomalous values\n",
    "data.Population = scipy.stats.mstats.winsorize(data.Population, limits = 0.01)\n",
    "data.Violent_Crime = scipy.stats.mstats.winsorize(data.Violent_Crime, limits = 0.01)\n",
    "data.Murder = scipy.stats.mstats.winsorize(data.Murder, limits = 0.01)\n",
    "data.Rape1 = scipy.stats.mstats.winsorize(data.Rape1, limits = 0.01)\n",
    "data.Rape2 = scipy.stats.mstats.winsorize(data.Rape2, limits = 0.01)\n",
    "data.Robbery = scipy.stats.mstats.winsorize(data.Robbery, limits = 0.01)\n",
    "data.Aggravated_Assault = scipy.stats.mstats.winsorize(data.Aggravated_Assault, limits = 0.01)\n",
    "data.Property = scipy.stats.mstats.winsorize(data.Property, limits = 0.01)\n",
    "data.Burglary = scipy.stats.mstats.winsorize(data.Burglary, limits = 0.01)\n",
    "data.Larceny_Theft = scipy.stats.mstats.winsorize(data.Larceny_Theft, limits = 0.01)\n",
    "data.Motor_Vehicle_Theft = scipy.stats.mstats.winsorize(data.Motor_Vehicle_Theft, limits = 0.01)\n",
    "data.Arson3 = scipy.stats.mstats.winsorize(data.Arson3, limits = 0.01)"
   ]
  },
  {
   "cell_type": "code",
   "execution_count": 1936,
   "metadata": {},
   "outputs": [
    {
     "name": "stdout",
     "output_type": "stream",
     "text": [
      "        City  Population  Violent_Crime  Murder  Rape1  Rape2  Robbery  \\\n",
      "0   New York      199134           1192      21    NaN     75      400   \n",
      "1    Buffalo      199134           1192      21    NaN     75      400   \n",
      "2  Rochester      199134           1192      21    NaN     75      400   \n",
      "\n",
      "   Aggravated_Assault  Property  Burglary  Larceny_Theft  Motor_Vehicle_Theft  \\\n",
      "0                 696      6473      1781           4298                  394   \n",
      "1                 696      6473      1781           4298                  394   \n",
      "2                 696      6473      1781           4298                  394   \n",
      "\n",
      "   Arson3  \n",
      "0     NaN  \n",
      "1     NaN  \n",
      "2   132.0  \n"
     ]
    }
   ],
   "source": [
    "data.sort_values('Population', inplace=True, ascending=False)\n",
    "print(data.head(n=3))"
   ]
  },
  {
   "cell_type": "code",
   "execution_count": 1937,
   "metadata": {},
   "outputs": [],
   "source": [
    "#Robbery and Murder are currently continuous variables. \n",
    "#For this model, please use these variables to create categorical \n",
    "#features where values greater than 0 are coded 1, \n",
    "#and values equal to 0 are coded 0.\n",
    "\n",
    "#categorical feature\n",
    "onecat = 1"
   ]
  },
  {
   "cell_type": "code",
   "execution_count": 1938,
   "metadata": {},
   "outputs": [],
   "source": [
    "#Robbery\n",
    "data['RobberyCat'] = np.where(data['Robbery'] < onecat, 0, 1)\n",
    "\n",
    "#Murder\n",
    "data['MurderCat'] = np.where(data['Murder'] < onecat, 0, 1)\n",
    "\n",
    "#reindex the columns to add these two\n",
    "data = data.reindex(columns=['City', 'Population', 'Violent_Crime', 'Murder', 'Rape1', 'Rape2', \n",
    "            'Robbery', 'Aggravated_Assault', 'Property', 'Burglary', \n",
    "            'Larceny_Theft', 'Motor_Vehicle_Theft', 'Arson3', 'MurderCat','RobberyCat'])"
   ]
  },
  {
   "cell_type": "code",
   "execution_count": 1939,
   "metadata": {},
   "outputs": [],
   "source": [
    "\n",
    "#set X and Y\n",
    "X = data[['Population','MurderCat','RobberyCat']]\n",
    "Y = data['Property']"
   ]
  },
  {
   "cell_type": "code",
   "execution_count": 1940,
   "metadata": {},
   "outputs": [
    {
     "data": {
      "text/plain": [
       "((174, 3), (174,))"
      ]
     },
     "execution_count": 1940,
     "metadata": {},
     "output_type": "execute_result"
    }
   ],
   "source": [
    "#train test split\n",
    "\n",
    "X_train, X_test, y_train, y_test = train_test_split(X, Y, test_size=0.5, random_state=0)\n",
    "\n",
    "#shape\n",
    "X_train.shape, y_train.shape\n",
    "\n",
    "X_test.shape, y_test.shape\n"
   ]
  },
  {
   "cell_type": "code",
   "execution_count": 1941,
   "metadata": {},
   "outputs": [
    {
     "data": {
      "text/plain": [
       "LinearRegression(copy_X=True, fit_intercept=True, n_jobs=None,\n",
       "         normalize=False)"
      ]
     },
     "execution_count": 1941,
     "metadata": {},
     "output_type": "execute_result"
    }
   ],
   "source": [
    "#regression?\n",
    "\n",
    "# Write out the model formula.\n",
    "# Your dependent variable on the right, independent variables on the left\n",
    "# Use a ~ to represent an '=' from the functional form\n",
    "regr = linear_model.LinearRegression()\n",
    "\n",
    "rfit = regr.fit(X_train, y_train)\n",
    "rfit"
   ]
  },
  {
   "cell_type": "code",
   "execution_count": 1942,
   "metadata": {},
   "outputs": [
    {
     "name": "stdout",
     "output_type": "stream",
     "text": [
      "\n",
      "Coefficients: \n",
      " [ 2.68587240e-02  1.48941254e+02 -1.32300259e+01]\n",
      "\n",
      "Intercept: \n",
      " -67.43954052377154\n",
      "\n",
      "R-squared:\n",
      "0.818951663511899\n"
     ]
    }
   ],
   "source": [
    "# Inspect the results.\n",
    "print('\\nCoefficients: \\n', regr.coef_)\n",
    "print('\\nIntercept: \\n', regr.intercept_)\n",
    "print('\\nR-squared:')\n",
    "print(regr.score(X, Y))"
   ]
  },
  {
   "cell_type": "code",
   "execution_count": 1943,
   "metadata": {},
   "outputs": [
    {
     "data": {
      "text/plain": [
       "0.8163757550733051"
      ]
     },
     "execution_count": 1943,
     "metadata": {},
     "output_type": "execute_result"
    }
   ],
   "source": [
    "#test it\n",
    "accuracy = regr.score(X_test, y_test)\n",
    "accuracy"
   ]
  },
  {
   "cell_type": "code",
   "execution_count": 1944,
   "metadata": {},
   "outputs": [
    {
     "name": "stdout",
     "output_type": "stream",
     "text": [
      "Accuracy of logistic regression classifier on test set: 0.82\n"
     ]
    }
   ],
   "source": [
    "#y_pred\n",
    "\n",
    "y_pred=rfit.predict(X_test)\n",
    "print('Accuracy of logistic regression classifier on test set: {:.2f}'.format(rfit.score(X_test, y_test)))"
   ]
  },
  {
   "cell_type": "code",
   "execution_count": 1945,
   "metadata": {},
   "outputs": [
    {
     "data": {
      "text/plain": [
       "0.8167730316225764"
      ]
     },
     "execution_count": 1945,
     "metadata": {},
     "output_type": "execute_result"
    }
   ],
   "source": [
    "#explained variance score\n",
    "from sklearn.metrics import explained_variance_score\n",
    "explained_variance_score(y_test, y_pred, multioutput='uniform_average')"
   ]
  },
  {
   "cell_type": "code",
   "execution_count": 1946,
   "metadata": {},
   "outputs": [
    {
     "data": {
      "text/plain": [
       "166.84398056312813"
      ]
     },
     "execution_count": 1946,
     "metadata": {},
     "output_type": "execute_result"
    }
   ],
   "source": [
    "#Mean Absolute Error\n",
    "\n",
    "from sklearn.metrics import mean_absolute_error\n",
    "mean_absolute_error(y_test, y_pred,  sample_weight=None, multioutput='uniform_average')"
   ]
  },
  {
   "cell_type": "code",
   "execution_count": 1947,
   "metadata": {},
   "outputs": [
    {
     "data": {
      "text/plain": [
       "94735.42775091765"
      ]
     },
     "execution_count": 1947,
     "metadata": {},
     "output_type": "execute_result"
    }
   ],
   "source": [
    "#Mean Squared Error\n",
    "from sklearn.metrics import mean_squared_error\n",
    "mean_squared_error(y_test, y_pred)"
   ]
  },
  {
   "cell_type": "code",
   "execution_count": 1948,
   "metadata": {},
   "outputs": [
    {
     "data": {
      "text/plain": [
       "85.44953244407714"
      ]
     },
     "execution_count": 1948,
     "metadata": {},
     "output_type": "execute_result"
    }
   ],
   "source": [
    "#Median Absolute Error\n",
    "from sklearn.metrics import median_absolute_error\n",
    "median_absolute_error(y_test, y_pred)"
   ]
  },
  {
   "cell_type": "code",
   "execution_count": 1949,
   "metadata": {},
   "outputs": [
    {
     "data": {
      "text/plain": [
       "0.816375755073305"
      ]
     },
     "execution_count": 1949,
     "metadata": {},
     "output_type": "execute_result"
    }
   ],
   "source": [
    "#R2 Score\n",
    "from sklearn.metrics import r2_score\n",
    "r2_score(y_test, y_pred)"
   ]
  },
  {
   "cell_type": "code",
   "execution_count": 1950,
   "metadata": {},
   "outputs": [],
   "source": [
    "#print commands for all scores??? ***Later"
   ]
  },
  {
   "cell_type": "code",
   "execution_count": 1951,
   "metadata": {},
   "outputs": [],
   "source": [
    "#importing the GA dataset to compare\n",
    "#note: same data cleaning will be done, followed by the reg, etc. \n",
    "\n",
    "data2 = pd.read_csv('https://raw.githubusercontent.com/GenTaylor/Unit2-SupervisedLearning/master/GACcrimedataframemlr.csv')"
   ]
  },
  {
   "cell_type": "code",
   "execution_count": 1952,
   "metadata": {},
   "outputs": [
    {
     "data": {
      "text/plain": [
       "Index(['City', 'Population', 'Violent_Crime', 'Murder', 'Rape1', 'Rape2',\n",
       "       'Robbery', 'Aggravated_Assault', 'Property', 'Burglary',\n",
       "       'Larceny_Theft', 'Motor_Vehicle_Theft', 'Arson3'],\n",
       "      dtype='object')"
      ]
     },
     "execution_count": 1952,
     "metadata": {},
     "output_type": "execute_result"
    }
   ],
   "source": [
    "#changing column names\n",
    "data2_cols= ['City', 'Population', 'Violent_Crime', 'Murder', 'Rape1', 'Rape2', \n",
    "            'Robbery', 'Aggravated_Assault', 'Property', 'Burglary', \n",
    "            'Larceny_Theft', 'Motor_Vehicle_Theft', 'Arson3']\n",
    "data2.columns = data2_cols\n",
    "data2.columns"
   ]
  },
  {
   "cell_type": "code",
   "execution_count": 1953,
   "metadata": {},
   "outputs": [],
   "source": [
    "#winsorize\n",
    "data2.Population = scipy.stats.mstats.winsorize(data2.Population, limits = 0.01)\n",
    "data2.Violent_Crime = scipy.stats.mstats.winsorize(data2.Violent_Crime, limits = 0.01)\n",
    "data2.Murder = scipy.stats.mstats.winsorize(data2.Murder, limits = 0.01)\n",
    "data2.Rape1 = scipy.stats.mstats.winsorize(data2.Rape1, limits = 0.01)\n",
    "data2.Rape2 = scipy.stats.mstats.winsorize(data2.Rape2, limits = 0.01)\n",
    "data2.Robbery = scipy.stats.mstats.winsorize(data2.Robbery, limits = 0.01)\n",
    "data2.Aggravated_Assault = scipy.stats.mstats.winsorize(data2.Aggravated_Assault, limits = 0.01)\n",
    "data2.Property = scipy.stats.mstats.winsorize(data2.Property, limits = 0.01)\n",
    "data2.Burglary = scipy.stats.mstats.winsorize(data2.Burglary, limits = 0.01)\n",
    "data2.Larceny_Theft = scipy.stats.mstats.winsorize(data2.Larceny_Theft, limits = 0.01)\n",
    "data2.Motor_Vehicle_Theft = scipy.stats.mstats.winsorize(data2.Motor_Vehicle_Theft, limits = 0.01)\n",
    "data2.Arson3 = scipy.stats.mstats.winsorize(data2.Arson3, limits = 0.01)\n"
   ]
  },
  {
   "cell_type": "code",
   "execution_count": 1954,
   "metadata": {},
   "outputs": [],
   "source": [
    "#Robbery and Murder are currently continuous variables. \n",
    "#For this model, please use these variables to create categorical \n",
    "#features where values greater than 0 are coded 1, \n",
    "#and values equal to 0 are coded 0.\n",
    "\n",
    "#categorical feature\n",
    "onecat = 1"
   ]
  },
  {
   "cell_type": "code",
   "execution_count": 1955,
   "metadata": {},
   "outputs": [],
   "source": [
    "#Robbery\n",
    "data2['RobberyCat'] = np.where(data2['Robbery'] < onecat, 0, 1)\n",
    "\n",
    "#Murder\n",
    "data2['MurderCat'] = np.where(data2['Murder'] < onecat, 0, 1)\n",
    "\n",
    "#reindex the columns to add these two\n",
    "data2 = data2.reindex(columns=['City', 'Population', 'Violent_Crime', 'Murder', 'Rape1', 'Rape2', \n",
    "            'Robbery', 'Aggravated_Assault', 'Property', 'Burglary', \n",
    "            'Larceny_Theft', 'Motor_Vehicle_Theft', 'Arson3', 'MurderCat','RobberyCat'])"
   ]
  },
  {
   "cell_type": "code",
   "execution_count": 1956,
   "metadata": {},
   "outputs": [],
   "source": [
    "\n",
    "#set X2 and Y2\n",
    "X2 = data2[['Population','MurderCat','RobberyCat']]\n",
    "Y2 = data2['Property']"
   ]
  },
  {
   "cell_type": "code",
   "execution_count": 1957,
   "metadata": {},
   "outputs": [
    {
     "data": {
      "text/plain": [
       "((127, 3), (127,))"
      ]
     },
     "execution_count": 1957,
     "metadata": {},
     "output_type": "execute_result"
    }
   ],
   "source": [
    "#train test split\n",
    "\n",
    "X2_train, X2_test, y2_train, y2_test = train_test_split(X2, Y2, test_size=0.5, random_state=0)\n",
    "\n",
    "#shape\n",
    "X2_train.shape, y2_train.shape\n",
    "\n",
    "X2_test.shape, y2_test.shape\n"
   ]
  },
  {
   "cell_type": "code",
   "execution_count": 1958,
   "metadata": {},
   "outputs": [
    {
     "data": {
      "text/plain": [
       "LinearRegression(copy_X=True, fit_intercept=True, n_jobs=None,\n",
       "         normalize=False)"
      ]
     },
     "execution_count": 1958,
     "metadata": {},
     "output_type": "execute_result"
    }
   ],
   "source": [
    "#regression?\n",
    "\n",
    "# Write out the model formula.\n",
    "# Your dependent variable on the right, independent variables on the left\n",
    "# Use a ~ to represent an '=' from the functional form\n",
    "regr2 = linear_model.LinearRegression()\n",
    "\n",
    "rfit2 = regr2.fit(X2_train, y2_train)\n",
    "rfit2"
   ]
  },
  {
   "cell_type": "code",
   "execution_count": 1959,
   "metadata": {},
   "outputs": [
    {
     "name": "stdout",
     "output_type": "stream",
     "text": [
      "\n",
      "Coefficients: \n",
      " [3.42391659e-02 2.81695445e+02 6.51055124e+01]\n",
      "\n",
      "Intercept: \n",
      " -12.103836620855361\n",
      "\n",
      "R-squared:\n",
      "0.8588997166405096\n"
     ]
    }
   ],
   "source": [
    "# Inspect the results.\n",
    "print('\\nCoefficients: \\n', regr2.coef_)\n",
    "print('\\nIntercept: \\n', regr2.intercept_)\n",
    "print('\\nR-squared:')\n",
    "print(regr2.score(X2,Y2))"
   ]
  },
  {
   "cell_type": "code",
   "execution_count": 1960,
   "metadata": {},
   "outputs": [
    {
     "data": {
      "text/plain": [
       "0.8859235522905617"
      ]
     },
     "execution_count": 1960,
     "metadata": {},
     "output_type": "execute_result"
    }
   ],
   "source": [
    "#test it\n",
    "accuracy2 = regr2.score(X2_test, y2_test)\n",
    "accuracy2"
   ]
  },
  {
   "cell_type": "code",
   "execution_count": 1961,
   "metadata": {},
   "outputs": [
    {
     "name": "stdout",
     "output_type": "stream",
     "text": [
      "Accuracy of logistic regression classifier on test set: 0.89\n"
     ]
    }
   ],
   "source": [
    "#y2_pred\n",
    "\n",
    "y2_pred=rfit2.predict(X2_test)\n",
    "print('Accuracy of logistic regression classifier on test set: {:.2f}'.format(rfit2.score(X2_test, y2_test)))"
   ]
  },
  {
   "cell_type": "code",
   "execution_count": 1962,
   "metadata": {},
   "outputs": [
    {
     "data": {
      "text/plain": [
       "0.8859521039895434"
      ]
     },
     "execution_count": 1962,
     "metadata": {},
     "output_type": "execute_result"
    }
   ],
   "source": [
    "#explained variance score\n",
    "from sklearn.metrics import explained_variance_score\n",
    "explained_variance_score(y2_test, y2_pred, multioutput='uniform_average')"
   ]
  },
  {
   "cell_type": "code",
   "execution_count": 1963,
   "metadata": {},
   "outputs": [
    {
     "data": {
      "text/plain": [
       "205.87686430232523"
      ]
     },
     "execution_count": 1963,
     "metadata": {},
     "output_type": "execute_result"
    }
   ],
   "source": [
    "#Mean Absolute Error\n",
    "\n",
    "from sklearn.metrics import mean_absolute_error\n",
    "mean_absolute_error(y2_test, y2_pred,  sample_weight=None, multioutput='uniform_average')"
   ]
  },
  {
   "cell_type": "code",
   "execution_count": 1964,
   "metadata": {},
   "outputs": [
    {
     "data": {
      "text/plain": [
       "216973.2703351046"
      ]
     },
     "execution_count": 1964,
     "metadata": {},
     "output_type": "execute_result"
    }
   ],
   "source": [
    "#Mean Squared Error\n",
    "from sklearn.metrics import mean_squared_error\n",
    "mean_squared_error(y2_test, y2_pred)"
   ]
  },
  {
   "cell_type": "code",
   "execution_count": 1965,
   "metadata": {},
   "outputs": [
    {
     "data": {
      "text/plain": [
       "50.12889640442333"
      ]
     },
     "execution_count": 1965,
     "metadata": {},
     "output_type": "execute_result"
    }
   ],
   "source": [
    "#Median Absolute Error\n",
    "from sklearn.metrics import median_absolute_error\n",
    "median_absolute_error(y2_test, y2_pred)"
   ]
  },
  {
   "cell_type": "code",
   "execution_count": 1966,
   "metadata": {},
   "outputs": [
    {
     "data": {
      "text/plain": [
       "0.8859235522905617"
      ]
     },
     "execution_count": 1966,
     "metadata": {},
     "output_type": "execute_result"
    }
   ],
   "source": [
    "#R2 Score\n",
    "from sklearn.metrics import r2_score\n",
    "r2_score(y2_test, y2_pred)\n"
   ]
  },
  {
   "cell_type": "markdown",
   "metadata": {},
   "source": [
    "## Summary"
   ]
  },
  {
   "cell_type": "markdown",
   "metadata": {},
   "source": [
    "### New York Dataset"
   ]
  },
  {
   "cell_type": "code",
   "execution_count": 1967,
   "metadata": {},
   "outputs": [
    {
     "name": "stdout",
     "output_type": "stream",
     "text": [
      "The Explained Variance Score of the NY dataset is: 0.82\n",
      "The Mean Absolute Error of the NY dataset is: 166.84\n",
      "The Mean Squared Error of the NY dataset is: 94735.43\n",
      "The Median Absolute Score of the NY dataset is: 85.45\n",
      "The R2 Score of the NY dataset is: 0.82\n"
     ]
    }
   ],
   "source": [
    "print(\"The Explained Variance Score of the NY dataset is:\", round(explained_variance_score(y_test, y_pred, multioutput='uniform_average'), 2))\n",
    "print(\"The Mean Absolute Error of the NY dataset is:\", round(mean_absolute_error(y_test, y_pred,  sample_weight=None, multioutput='uniform_average'), 2))\n",
    "print(\"The Mean Squared Error of the NY dataset is:\", round(mean_squared_error(y_test, y_pred), 2))\n",
    "print(\"The Median Absolute Score of the NY dataset is:\", round(median_absolute_error(y_test, y_pred), 2))\n",
    "print(\"The R2 Score of the NY dataset is:\", round(r2_score(y_test, y_pred), 2))\n"
   ]
  },
  {
   "cell_type": "markdown",
   "metadata": {},
   "source": [
    "### Georgia Dataset"
   ]
  },
  {
   "cell_type": "code",
   "execution_count": 1968,
   "metadata": {},
   "outputs": [
    {
     "name": "stdout",
     "output_type": "stream",
     "text": [
      "The Explained Variance Score of the GA dataset is: 0.89\n",
      "The Mean Absolute Error of the GA dataset is: 205.88\n",
      "The Mean Squared Error of the GA dataset is: 216973.27\n",
      "The Median Absolute Score of the GA dataset is: 50.13\n",
      "The R2 Score of the GA dataset is: 0.89\n"
     ]
    }
   ],
   "source": [
    "print(\"The Explained Variance Score of the GA dataset is:\", round(explained_variance_score(y2_test, y2_pred, multioutput='uniform_average'), 2 ))\n",
    "print(\"The Mean Absolute Error of the GA dataset is:\", round(mean_absolute_error(y2_test, y2_pred,  sample_weight=None, multioutput='uniform_average'), 2 ))\n",
    "print(\"The Mean Squared Error of the GA dataset is:\", round(mean_squared_error(y2_test, y2_pred), 2 ))\n",
    "print(\"The Median Absolute Score of the GA dataset is:\", round(median_absolute_error(y2_test, y2_pred), 2))\n",
    "print(\"The R2 Score of the GA dataset is:\", round(r2_score(y2_test, y2_pred), 2))\n"
   ]
  },
  {
   "cell_type": "markdown",
   "metadata": {},
   "source": [
    "## A look at testing vs prediction"
   ]
  },
  {
   "cell_type": "code",
   "execution_count": 1969,
   "metadata": {},
   "outputs": [
    {
     "data": {
      "text/html": [
       "<div>\n",
       "<style scoped>\n",
       "    .dataframe tbody tr th:only-of-type {\n",
       "        vertical-align: middle;\n",
       "    }\n",
       "\n",
       "    .dataframe tbody tr th {\n",
       "        vertical-align: top;\n",
       "    }\n",
       "\n",
       "    .dataframe thead th {\n",
       "        text-align: right;\n",
       "    }\n",
       "</style>\n",
       "<table border=\"1\" class=\"dataframe\">\n",
       "  <thead>\n",
       "    <tr style=\"text-align: right;\">\n",
       "      <th></th>\n",
       "      <th>Actual</th>\n",
       "      <th>Predicted</th>\n",
       "    </tr>\n",
       "  </thead>\n",
       "  <tbody>\n",
       "    <tr>\n",
       "      <th>6</th>\n",
       "      <td>4090</td>\n",
       "      <td>2699.244859</td>\n",
       "    </tr>\n",
       "    <tr>\n",
       "      <th>52</th>\n",
       "      <td>1040</td>\n",
       "      <td>835.652292</td>\n",
       "    </tr>\n",
       "    <tr>\n",
       "      <th>269</th>\n",
       "      <td>29</td>\n",
       "      <td>4.085242</td>\n",
       "    </tr>\n",
       "    <tr>\n",
       "      <th>45</th>\n",
       "      <td>1140</td>\n",
       "      <td>742.765195</td>\n",
       "    </tr>\n",
       "    <tr>\n",
       "      <th>294</th>\n",
       "      <td>73</td>\n",
       "      <td>-10.606480</td>\n",
       "    </tr>\n",
       "    <tr>\n",
       "      <th>189</th>\n",
       "      <td>23</td>\n",
       "      <td>107.947927</td>\n",
       "    </tr>\n",
       "    <tr>\n",
       "      <th>191</th>\n",
       "      <td>47</td>\n",
       "      <td>104.187706</td>\n",
       "    </tr>\n",
       "    <tr>\n",
       "      <th>116</th>\n",
       "      <td>158</td>\n",
       "      <td>245.556496</td>\n",
       "    </tr>\n",
       "    <tr>\n",
       "      <th>90</th>\n",
       "      <td>77</td>\n",
       "      <td>412.364706</td>\n",
       "    </tr>\n",
       "    <tr>\n",
       "      <th>249</th>\n",
       "      <td>78</td>\n",
       "      <td>25.303634</td>\n",
       "    </tr>\n",
       "  </tbody>\n",
       "</table>\n",
       "</div>"
      ],
      "text/plain": [
       "     Actual    Predicted\n",
       "6      4090  2699.244859\n",
       "52     1040   835.652292\n",
       "269      29     4.085242\n",
       "45     1140   742.765195\n",
       "294      73   -10.606480\n",
       "189      23   107.947927\n",
       "191      47   104.187706\n",
       "116     158   245.556496\n",
       "90       77   412.364706\n",
       "249      78    25.303634"
      ]
     },
     "execution_count": 1969,
     "metadata": {},
     "output_type": "execute_result"
    }
   ],
   "source": [
    "df = pd.DataFrame({'Actual': y_test, 'Predicted': y_pred})  \n",
    "df.head(10)"
   ]
  },
  {
   "cell_type": "code",
   "execution_count": 1970,
   "metadata": {},
   "outputs": [
    {
     "data": {
      "text/html": [
       "<div>\n",
       "<style scoped>\n",
       "    .dataframe tbody tr th:only-of-type {\n",
       "        vertical-align: middle;\n",
       "    }\n",
       "\n",
       "    .dataframe tbody tr th {\n",
       "        vertical-align: top;\n",
       "    }\n",
       "\n",
       "    .dataframe thead th {\n",
       "        text-align: right;\n",
       "    }\n",
       "</style>\n",
       "<table border=\"1\" class=\"dataframe\">\n",
       "  <thead>\n",
       "    <tr style=\"text-align: right;\">\n",
       "      <th></th>\n",
       "      <th>Actual</th>\n",
       "      <th>Predicted</th>\n",
       "    </tr>\n",
       "  </thead>\n",
       "  <tbody>\n",
       "    <tr>\n",
       "      <th>158</th>\n",
       "      <td>24</td>\n",
       "      <td>23.333700</td>\n",
       "    </tr>\n",
       "    <tr>\n",
       "      <th>83</th>\n",
       "      <td>450</td>\n",
       "      <td>234.298059</td>\n",
       "    </tr>\n",
       "    <tr>\n",
       "      <th>170</th>\n",
       "      <td>1082</td>\n",
       "      <td>1514.339103</td>\n",
       "    </tr>\n",
       "    <tr>\n",
       "      <th>101</th>\n",
       "      <td>695</td>\n",
       "      <td>378.410708</td>\n",
       "    </tr>\n",
       "    <tr>\n",
       "      <th>150</th>\n",
       "      <td>6800</td>\n",
       "      <td>3456.521550</td>\n",
       "    </tr>\n",
       "    <tr>\n",
       "      <th>199</th>\n",
       "      <td>708</td>\n",
       "      <td>191.088232</td>\n",
       "    </tr>\n",
       "    <tr>\n",
       "      <th>118</th>\n",
       "      <td>38</td>\n",
       "      <td>84.142459</td>\n",
       "    </tr>\n",
       "    <tr>\n",
       "      <th>227</th>\n",
       "      <td>548</td>\n",
       "      <td>621.587091</td>\n",
       "    </tr>\n",
       "    <tr>\n",
       "      <th>63</th>\n",
       "      <td>4</td>\n",
       "      <td>5.871725</td>\n",
       "    </tr>\n",
       "    <tr>\n",
       "      <th>135</th>\n",
       "      <td>503</td>\n",
       "      <td>1124.310938</td>\n",
       "    </tr>\n",
       "  </tbody>\n",
       "</table>\n",
       "</div>"
      ],
      "text/plain": [
       "     Actual    Predicted\n",
       "158      24    23.333700\n",
       "83      450   234.298059\n",
       "170    1082  1514.339103\n",
       "101     695   378.410708\n",
       "150    6800  3456.521550\n",
       "199     708   191.088232\n",
       "118      38    84.142459\n",
       "227     548   621.587091\n",
       "63        4     5.871725\n",
       "135     503  1124.310938"
      ]
     },
     "execution_count": 1970,
     "metadata": {},
     "output_type": "execute_result"
    }
   ],
   "source": [
    "df2 = pd.DataFrame({'Actual': y2_test, 'Predicted': y2_pred})  \n",
    "df2.head(10)"
   ]
  },
  {
   "cell_type": "markdown",
   "metadata": {},
   "source": [
    "#### I do not think the results are as accurate as they can possibly be so I would like to tweak the model to see if I can make it more accurate."
   ]
  },
  {
   "cell_type": "markdown",
   "metadata": {},
   "source": [
    "<b>The first thing that I would like to do is remove the categorical features from the model. </b>"
   ]
  },
  {
   "cell_type": "markdown",
   "metadata": {},
   "source": [
    "<b>NY Dataset:</b>"
   ]
  },
  {
   "cell_type": "code",
   "execution_count": 1971,
   "metadata": {},
   "outputs": [
    {
     "data": {
      "text/plain": [
       "((174, 3), (174,))"
      ]
     },
     "execution_count": 1971,
     "metadata": {},
     "output_type": "execute_result"
    }
   ],
   "source": [
    "#Calling every3thing in this model _3\n",
    "#set X3 and y3\n",
    "X3 = data[['Population','Murder','Robbery']]\n",
    "y3 = data['Property']\n",
    "\n",
    "#train test split\n",
    "\n",
    "X3_train, X3_test, y3_train, y3_test = train_test_split(X3, y3, test_size=0.5, random_state=0)\n",
    "\n",
    "#shape\n",
    "X3_train.shape, y3_train.shape\n",
    "\n",
    "X3_test.shape, y3_test.shape"
   ]
  },
  {
   "cell_type": "code",
   "execution_count": 1972,
   "metadata": {},
   "outputs": [
    {
     "data": {
      "text/plain": [
       "LinearRegression(copy_X=True, fit_intercept=True, n_jobs=None,\n",
       "         normalize=False)"
      ]
     },
     "execution_count": 1972,
     "metadata": {},
     "output_type": "execute_result"
    }
   ],
   "source": [
    "#regression?\n",
    "\n",
    "# Write out the model formula.\n",
    "# Your dependent variable on the right, independent variables on the left\n",
    "# Use a ~ to represent an '=' from the functional form\n",
    "regr3 = linear_model.LinearRegression()\n",
    "\n",
    "rfit3 = regr3.fit(X3_train, y3_train)\n",
    "rfit3"
   ]
  },
  {
   "cell_type": "code",
   "execution_count": 1973,
   "metadata": {},
   "outputs": [
    {
     "name": "stdout",
     "output_type": "stream",
     "text": [
      "\n",
      "Coefficients: \n",
      " [ 1.58918239e-02  2.01231521e+02 -1.82430872e+00]\n",
      "\n",
      "Intercept: \n",
      " 44.47387385248015\n",
      "\n",
      "R-squared:\n",
      "0.8832975478217796\n"
     ]
    }
   ],
   "source": [
    "# Inspect the results.\n",
    "print('\\nCoefficients: \\n', regr3.coef_)\n",
    "print('\\nIntercept: \\n', regr3.intercept_)\n",
    "print('\\nR-squared:')\n",
    "print(regr3.score(X3,y3))"
   ]
  },
  {
   "cell_type": "code",
   "execution_count": 1974,
   "metadata": {},
   "outputs": [
    {
     "data": {
      "text/plain": [
       "0.8144104514642367"
      ]
     },
     "execution_count": 1974,
     "metadata": {},
     "output_type": "execute_result"
    }
   ],
   "source": [
    "#test it\n",
    "accuracy3 = regr3.score(X3_test, y3_test)\n",
    "accuracy3"
   ]
  },
  {
   "cell_type": "code",
   "execution_count": 1975,
   "metadata": {},
   "outputs": [
    {
     "name": "stdout",
     "output_type": "stream",
     "text": [
      "Accuracy of logistic regression classifier on test set: 0.81\n"
     ]
    }
   ],
   "source": [
    "#y3_pred\n",
    "\n",
    "y3_pred=rfit3.predict(X3_test)\n",
    "print('Accuracy of logistic regression classifier on test set: {:.2f}'.format(rfit3.score(X3_test, y3_test)))"
   ]
  },
  {
   "cell_type": "markdown",
   "metadata": {},
   "source": [
    "## Scoring"
   ]
  },
  {
   "cell_type": "code",
   "execution_count": 1976,
   "metadata": {},
   "outputs": [
    {
     "name": "stdout",
     "output_type": "stream",
     "text": [
      "The Explained Variance Score of the NY dataset is: 0.81\n",
      "The Mean Absolute Error of the NY dataset is: 164.02\n",
      "The Mean Squared Error of the NY dataset is: 95749.37\n",
      "The Median Absolute Score of the NY dataset is: 74.27\n",
      "The R2 Score of the NY dataset is: 0.81\n"
     ]
    }
   ],
   "source": [
    "print(\"The Explained Variance Score of the NY dataset is:\", round(explained_variance_score(y3_test, y3_pred, multioutput='uniform_average'), 2 ))\n",
    "print(\"The Mean Absolute Error of the NY dataset is:\", round(mean_absolute_error(y3_test, y3_pred,  sample_weight=None, multioutput='uniform_average'), 2 ))\n",
    "print(\"The Mean Squared Error of the NY dataset is:\", round(mean_squared_error(y3_test, y3_pred), 2 ))\n",
    "print(\"The Median Absolute Score of the NY dataset is:\", round(median_absolute_error(y3_test, y3_pred), 2))\n",
    "print(\"The R2 Score of the NY dataset is:\", round(r2_score(y3_test, y3_pred), 2))"
   ]
  },
  {
   "cell_type": "code",
   "execution_count": 1977,
   "metadata": {},
   "outputs": [
    {
     "data": {
      "text/html": [
       "<div>\n",
       "<style scoped>\n",
       "    .dataframe tbody tr th:only-of-type {\n",
       "        vertical-align: middle;\n",
       "    }\n",
       "\n",
       "    .dataframe tbody tr th {\n",
       "        vertical-align: top;\n",
       "    }\n",
       "\n",
       "    .dataframe thead th {\n",
       "        text-align: right;\n",
       "    }\n",
       "</style>\n",
       "<table border=\"1\" class=\"dataframe\">\n",
       "  <thead>\n",
       "    <tr style=\"text-align: right;\">\n",
       "      <th></th>\n",
       "      <th>Actual</th>\n",
       "      <th>Predicted</th>\n",
       "    </tr>\n",
       "  </thead>\n",
       "  <tbody>\n",
       "    <tr>\n",
       "      <th>6</th>\n",
       "      <td>4090</td>\n",
       "      <td>2796.907464</td>\n",
       "    </tr>\n",
       "    <tr>\n",
       "      <th>52</th>\n",
       "      <td>1040</td>\n",
       "      <td>1231.030472</td>\n",
       "    </tr>\n",
       "    <tr>\n",
       "      <th>269</th>\n",
       "      <td>29</td>\n",
       "      <td>86.793801</td>\n",
       "    </tr>\n",
       "    <tr>\n",
       "      <th>45</th>\n",
       "      <td>1140</td>\n",
       "      <td>460.537370</td>\n",
       "    </tr>\n",
       "    <tr>\n",
       "      <th>294</th>\n",
       "      <td>73</td>\n",
       "      <td>78.100973</td>\n",
       "    </tr>\n",
       "    <tr>\n",
       "      <th>189</th>\n",
       "      <td>23</td>\n",
       "      <td>148.247484</td>\n",
       "    </tr>\n",
       "    <tr>\n",
       "      <th>191</th>\n",
       "      <td>47</td>\n",
       "      <td>146.022628</td>\n",
       "    </tr>\n",
       "    <tr>\n",
       "      <th>116</th>\n",
       "      <td>158</td>\n",
       "      <td>235.671658</td>\n",
       "    </tr>\n",
       "    <tr>\n",
       "      <th>90</th>\n",
       "      <td>77</td>\n",
       "      <td>328.365416</td>\n",
       "    </tr>\n",
       "    <tr>\n",
       "      <th>249</th>\n",
       "      <td>78</td>\n",
       "      <td>99.348342</td>\n",
       "    </tr>\n",
       "  </tbody>\n",
       "</table>\n",
       "</div>"
      ],
      "text/plain": [
       "     Actual    Predicted\n",
       "6      4090  2796.907464\n",
       "52     1040  1231.030472\n",
       "269      29    86.793801\n",
       "45     1140   460.537370\n",
       "294      73    78.100973\n",
       "189      23   148.247484\n",
       "191      47   146.022628\n",
       "116     158   235.671658\n",
       "90       77   328.365416\n",
       "249      78    99.348342"
      ]
     },
     "execution_count": 1977,
     "metadata": {},
     "output_type": "execute_result"
    }
   ],
   "source": [
    "df3 = pd.DataFrame({'Actual': y3_test, 'Predicted': y3_pred})  \n",
    "df3.head(10)"
   ]
  },
  {
   "cell_type": "markdown",
   "metadata": {},
   "source": [
    "<b>There was barely any change so instead of doing the same to the Georgia dataset, I've decided instead to play around vith columns in X.</b>"
   ]
  },
  {
   "cell_type": "code",
   "execution_count": 1978,
   "metadata": {},
   "outputs": [
    {
     "data": {
      "text/plain": [
       "((174, 4), (174,))"
      ]
     },
     "execution_count": 1978,
     "metadata": {},
     "output_type": "execute_result"
    }
   ],
   "source": [
    "#lets add a column to the NY dataset LR\n",
    "#adding the Violent_Crime column\n",
    "\n",
    "#Calling every4thing in this model _4\n",
    "#set X4 and y4\n",
    "X4 = data[['Population','Violent_Crime','Murder','Robbery']]\n",
    "y4 = data['Property']\n",
    "\n",
    "#train test split\n",
    "\n",
    "X4_train, X4_test, y4_train, y4_test = train_test_split(X4, y4, test_size=0.5, random_state=0)\n",
    "\n",
    "#shape\n",
    "X4_train.shape, y4_train.shape\n",
    "\n",
    "X4_test.shape, y4_test.shape\n"
   ]
  },
  {
   "cell_type": "code",
   "execution_count": 1979,
   "metadata": {},
   "outputs": [
    {
     "data": {
      "text/plain": [
       "LinearRegression(copy_X=True, fit_intercept=True, n_jobs=None,\n",
       "         normalize=False)"
      ]
     },
     "execution_count": 1979,
     "metadata": {},
     "output_type": "execute_result"
    }
   ],
   "source": [
    "#regression?\n",
    "\n",
    "# Write out the model formula.\n",
    "# Your dependent variable on the right, independent variables on the left\n",
    "# Use a ~ to represent an '=' from the functional form\n",
    "regr4 = linear_model.LinearRegression()\n",
    "\n",
    "rfit4 = regr4.fit(X4_train, y4_train)\n",
    "rfit4"
   ]
  },
  {
   "cell_type": "code",
   "execution_count": 1980,
   "metadata": {
    "scrolled": true
   },
   "outputs": [
    {
     "name": "stdout",
     "output_type": "stream",
     "text": [
      "\n",
      "Coefficients: \n",
      " [ 1.51900217e-02  4.92003645e+00  1.55253901e+02 -1.37236286e+01]\n",
      "\n",
      "Intercept: \n",
      " 36.35806744133794\n",
      "\n",
      "R-squared:\n",
      "0.9095012291598568\n"
     ]
    }
   ],
   "source": [
    "# Inspect the results.\n",
    "print('\\nCoefficients: \\n', regr4.coef_)\n",
    "print('\\nIntercept: \\n', regr4.intercept_)\n",
    "print('\\nR-squared:')\n",
    "print(regr4.score(X4,y4))"
   ]
  },
  {
   "cell_type": "code",
   "execution_count": 1981,
   "metadata": {},
   "outputs": [
    {
     "name": "stderr",
     "output_type": "stream",
     "text": [
      "c:\\users\\genta\\appdata\\local\\programs\\python\\python37-32\\lib\\site-packages\\IPython\\core\\displayhook.py:271: UserWarning: Output cache limit (currently 1000 entries) hit.\n",
      "Flushing oldest 200 entries.\n",
      "  'Flushing oldest {cull_count} entries.'.format(sz=sz, cull_count=cull_count))\n"
     ]
    },
    {
     "data": {
      "text/plain": [
       "0.8801088173390196"
      ]
     },
     "execution_count": 1981,
     "metadata": {},
     "output_type": "execute_result"
    }
   ],
   "source": [
    "#test it\n",
    "accuracy4 = regr4.score(X4_test, y4_test)\n",
    "accuracy4\n"
   ]
  },
  {
   "cell_type": "code",
   "execution_count": 1982,
   "metadata": {},
   "outputs": [
    {
     "name": "stdout",
     "output_type": "stream",
     "text": [
      "Accuracy of logistic regression classifier on test set: 0.88\n"
     ]
    }
   ],
   "source": [
    "#y4_pred\n",
    "\n",
    "y4_pred=rfit4.predict(X4_test)\n",
    "print('Accuracy of logistic regression classifier on test set: {:.2f}'.format(rfit4.score(X4_test, y4_test)))"
   ]
  },
  {
   "cell_type": "markdown",
   "metadata": {},
   "source": [
    "## Scoring"
   ]
  },
  {
   "cell_type": "code",
   "execution_count": 1983,
   "metadata": {},
   "outputs": [
    {
     "name": "stdout",
     "output_type": "stream",
     "text": [
      "The Explained Variance Score of the NY dataset is: 0.88\n",
      "The Mean Absolute Error of the NY dataset is: 144.41\n",
      "The Mean Squared Error of the NY dataset is: 61854.26\n",
      "The Median Absolute Score of the NY dataset is: 72.55\n",
      "The R2 Score of the NY dataset is: 0.88\n"
     ]
    }
   ],
   "source": [
    "print(\"The Explained Variance Score of the NY dataset is:\", round(explained_variance_score(y4_test, y4_pred, multioutput='uniform_average'), 2 ))\n",
    "print(\"The Mean Absolute Error of the NY dataset is:\", round(mean_absolute_error(y4_test, y4_pred,  sample_weight=None, multioutput='uniform_average'), 2 ))\n",
    "print(\"The Mean Squared Error of the NY dataset is:\", round(mean_squared_error(y4_test, y4_pred), 2 ))\n",
    "print(\"The Median Absolute Score of the NY dataset is:\", round(median_absolute_error(y4_test, y4_pred), 2))\n",
    "print(\"The R2 Score of the NY dataset is:\", round(r2_score(y4_test, y4_pred), 2))\n"
   ]
  },
  {
   "cell_type": "code",
   "execution_count": 1984,
   "metadata": {},
   "outputs": [
    {
     "data": {
      "text/html": [
       "<div>\n",
       "<style scoped>\n",
       "    .dataframe tbody tr th:only-of-type {\n",
       "        vertical-align: middle;\n",
       "    }\n",
       "\n",
       "    .dataframe tbody tr th {\n",
       "        vertical-align: top;\n",
       "    }\n",
       "\n",
       "    .dataframe thead th {\n",
       "        text-align: right;\n",
       "    }\n",
       "</style>\n",
       "<table border=\"1\" class=\"dataframe\">\n",
       "  <thead>\n",
       "    <tr style=\"text-align: right;\">\n",
       "      <th></th>\n",
       "      <th>Actual</th>\n",
       "      <th>Predicted</th>\n",
       "    </tr>\n",
       "  </thead>\n",
       "  <tbody>\n",
       "    <tr>\n",
       "      <th>6</th>\n",
       "      <td>4090</td>\n",
       "      <td>3542.828184</td>\n",
       "    </tr>\n",
       "    <tr>\n",
       "      <th>52</th>\n",
       "      <td>1040</td>\n",
       "      <td>1328.293252</td>\n",
       "    </tr>\n",
       "    <tr>\n",
       "      <th>269</th>\n",
       "      <td>29</td>\n",
       "      <td>101.409277</td>\n",
       "    </tr>\n",
       "    <tr>\n",
       "      <th>45</th>\n",
       "      <td>1140</td>\n",
       "      <td>793.398361</td>\n",
       "    </tr>\n",
       "    <tr>\n",
       "      <th>294</th>\n",
       "      <td>73</td>\n",
       "      <td>73.420190</td>\n",
       "    </tr>\n",
       "    <tr>\n",
       "      <th>189</th>\n",
       "      <td>23</td>\n",
       "      <td>135.548909</td>\n",
       "    </tr>\n",
       "    <tr>\n",
       "      <th>191</th>\n",
       "      <td>47</td>\n",
       "      <td>133.422306</td>\n",
       "    </tr>\n",
       "    <tr>\n",
       "      <th>116</th>\n",
       "      <td>158</td>\n",
       "      <td>212.052479</td>\n",
       "    </tr>\n",
       "    <tr>\n",
       "      <th>90</th>\n",
       "      <td>77</td>\n",
       "      <td>317.552688</td>\n",
       "    </tr>\n",
       "    <tr>\n",
       "      <th>249</th>\n",
       "      <td>78</td>\n",
       "      <td>118.329431</td>\n",
       "    </tr>\n",
       "  </tbody>\n",
       "</table>\n",
       "</div>"
      ],
      "text/plain": [
       "     Actual    Predicted\n",
       "6      4090  3542.828184\n",
       "52     1040  1328.293252\n",
       "269      29   101.409277\n",
       "45     1140   793.398361\n",
       "294      73    73.420190\n",
       "189      23   135.548909\n",
       "191      47   133.422306\n",
       "116     158   212.052479\n",
       "90       77   317.552688\n",
       "249      78   118.329431"
      ]
     },
     "execution_count": 1984,
     "metadata": {},
     "output_type": "execute_result"
    }
   ],
   "source": [
    "df4 = pd.DataFrame({'Actual': y4_test, 'Predicted': y4_pred})  \n",
    "df4.head(10)"
   ]
  },
  {
   "cell_type": "markdown",
   "metadata": {},
   "source": [
    "<b>Scores are showing a significant increase with adding this column so I would like to test it out on the Georgia dataset.</b>"
   ]
  },
  {
   "cell_type": "code",
   "execution_count": 1985,
   "metadata": {},
   "outputs": [
    {
     "data": {
      "text/plain": [
       "((127, 4), (127,))"
      ]
     },
     "execution_count": 1985,
     "metadata": {},
     "output_type": "execute_result"
    }
   ],
   "source": [
    "#Calling every5thing in this model _5\n",
    "#set X5 and y5\n",
    "X5 = data2[['Population','Violent_Crime','Murder','Robbery']]\n",
    "y5 = data2['Property']\n",
    "\n",
    "#train test split\n",
    "\n",
    "X5_train, X5_test, y5_train, y5_test = train_test_split(X5, y5, test_size=0.5, random_state=0)\n",
    "\n",
    "#shape\n",
    "X5_train.shape, y5_train.shape\n",
    "\n",
    "X5_test.shape, y5_test.shape\n"
   ]
  },
  {
   "cell_type": "code",
   "execution_count": 1986,
   "metadata": {},
   "outputs": [
    {
     "data": {
      "text/plain": [
       "LinearRegression(copy_X=True, fit_intercept=True, n_jobs=None,\n",
       "         normalize=False)"
      ]
     },
     "execution_count": 1986,
     "metadata": {},
     "output_type": "execute_result"
    }
   ],
   "source": [
    "\n",
    "\n",
    "#regression?\n",
    "\n",
    "# Write out the model formula.\n",
    "# Your dependent variable on the right, independent variables on the left\n",
    "# Use a ~ to represent an '=' from the functional form\n",
    "regr5 = linear_model.LinearRegression()\n",
    "\n",
    "rfit5 = regr5.fit(X5_train, y5_train)\n",
    "rfit5"
   ]
  },
  {
   "cell_type": "code",
   "execution_count": 1987,
   "metadata": {},
   "outputs": [
    {
     "name": "stdout",
     "output_type": "stream",
     "text": [
      "\n",
      "Coefficients: \n",
      " [ 1.32328973e-02  4.88621578e+00 -1.39957489e+01  4.79753949e+00]\n",
      "\n",
      "Intercept: \n",
      " 53.24927733119881\n",
      "\n",
      "R-squared:\n",
      "0.9631291243526451\n"
     ]
    }
   ],
   "source": [
    "# Inspect the results.\n",
    "print('\\nCoefficients: \\n', regr5.coef_)\n",
    "print('\\nIntercept: \\n', regr5.intercept_)\n",
    "print('\\nR-squared:')\n",
    "print(regr5.score(X5,y5))"
   ]
  },
  {
   "cell_type": "code",
   "execution_count": 1988,
   "metadata": {},
   "outputs": [
    {
     "data": {
      "text/plain": [
       "0.9656660515072408"
      ]
     },
     "execution_count": 1988,
     "metadata": {},
     "output_type": "execute_result"
    }
   ],
   "source": [
    "#test it\n",
    "accuracy5 = regr5.score(X5_test, y5_test)\n",
    "accuracy5\n"
   ]
  },
  {
   "cell_type": "code",
   "execution_count": 1989,
   "metadata": {},
   "outputs": [
    {
     "name": "stdout",
     "output_type": "stream",
     "text": [
      "Accuracy of logistic regression classifier on test set: 0.97\n"
     ]
    }
   ],
   "source": [
    "#y5_pred\n",
    "\n",
    "y5_pred=rfit5.predict(X5_test)\n",
    "print('Accuracy of logistic regression classifier on test set: {:.2f}'.format(rfit5.score(X5_test, y5_test)))"
   ]
  },
  {
   "cell_type": "markdown",
   "metadata": {},
   "source": [
    "Scoring"
   ]
  },
  {
   "cell_type": "code",
   "execution_count": 1990,
   "metadata": {},
   "outputs": [
    {
     "name": "stdout",
     "output_type": "stream",
     "text": [
      "The Explained Variance Score of the GA dataset is: 0.97\n",
      "The Mean Absolute Error of the GA dataset is: 126.73\n",
      "The Mean Squared Error of the GA dataset is: 65303.13\n",
      "The Median Absolute Score of the GA dataset is: 62.03\n",
      "The R2 Score of the GA dataset is: 0.97\n"
     ]
    }
   ],
   "source": [
    "print(\"The Explained Variance Score of the GA dataset is:\", round(explained_variance_score(y5_test, y5_pred, multioutput='uniform_average'), 2 ))\n",
    "print(\"The Mean Absolute Error of the GA dataset is:\", round(mean_absolute_error(y5_test, y5_pred,  sample_weight=None, multioutput='uniform_average'), 2 ))\n",
    "print(\"The Mean Squared Error of the GA dataset is:\", round(mean_squared_error(y5_test, y5_pred), 2 ))\n",
    "print(\"The Median Absolute Score of the GA dataset is:\", round(median_absolute_error(y5_test, y5_pred), 2))\n",
    "print(\"The R2 Score of the GA dataset is:\", round(r2_score(y5_test, y5_pred), 2))"
   ]
  },
  {
   "cell_type": "code",
   "execution_count": 1991,
   "metadata": {},
   "outputs": [
    {
     "data": {
      "text/html": [
       "<div>\n",
       "<style scoped>\n",
       "    .dataframe tbody tr th:only-of-type {\n",
       "        vertical-align: middle;\n",
       "    }\n",
       "\n",
       "    .dataframe tbody tr th {\n",
       "        vertical-align: top;\n",
       "    }\n",
       "\n",
       "    .dataframe thead th {\n",
       "        text-align: right;\n",
       "    }\n",
       "</style>\n",
       "<table border=\"1\" class=\"dataframe\">\n",
       "  <thead>\n",
       "    <tr style=\"text-align: right;\">\n",
       "      <th></th>\n",
       "      <th>Actual</th>\n",
       "      <th>Predicted</th>\n",
       "    </tr>\n",
       "  </thead>\n",
       "  <tbody>\n",
       "    <tr>\n",
       "      <th>158</th>\n",
       "      <td>24</td>\n",
       "      <td>96.262621</td>\n",
       "    </tr>\n",
       "    <tr>\n",
       "      <th>83</th>\n",
       "      <td>450</td>\n",
       "      <td>440.123408</td>\n",
       "    </tr>\n",
       "    <tr>\n",
       "      <th>170</th>\n",
       "      <td>1082</td>\n",
       "      <td>1201.184893</td>\n",
       "    </tr>\n",
       "    <tr>\n",
       "      <th>101</th>\n",
       "      <td>695</td>\n",
       "      <td>325.423855</td>\n",
       "    </tr>\n",
       "    <tr>\n",
       "      <th>150</th>\n",
       "      <td>6800</td>\n",
       "      <td>4964.757100</td>\n",
       "    </tr>\n",
       "    <tr>\n",
       "      <th>199</th>\n",
       "      <td>708</td>\n",
       "      <td>535.540425</td>\n",
       "    </tr>\n",
       "    <tr>\n",
       "      <th>118</th>\n",
       "      <td>38</td>\n",
       "      <td>105.105599</td>\n",
       "    </tr>\n",
       "    <tr>\n",
       "      <th>227</th>\n",
       "      <td>548</td>\n",
       "      <td>457.828381</td>\n",
       "    </tr>\n",
       "    <tr>\n",
       "      <th>63</th>\n",
       "      <td>4</td>\n",
       "      <td>60.196548</td>\n",
       "    </tr>\n",
       "    <tr>\n",
       "      <th>135</th>\n",
       "      <td>503</td>\n",
       "      <td>667.007515</td>\n",
       "    </tr>\n",
       "    <tr>\n",
       "      <th>149</th>\n",
       "      <td>0</td>\n",
       "      <td>67.580505</td>\n",
       "    </tr>\n",
       "    <tr>\n",
       "      <th>232</th>\n",
       "      <td>99</td>\n",
       "      <td>170.270939</td>\n",
       "    </tr>\n",
       "    <tr>\n",
       "      <th>109</th>\n",
       "      <td>22</td>\n",
       "      <td>80.297320</td>\n",
       "    </tr>\n",
       "    <tr>\n",
       "      <th>188</th>\n",
       "      <td>24</td>\n",
       "      <td>74.296137</td>\n",
       "    </tr>\n",
       "    <tr>\n",
       "      <th>153</th>\n",
       "      <td>2499</td>\n",
       "      <td>3570.680172</td>\n",
       "    </tr>\n",
       "  </tbody>\n",
       "</table>\n",
       "</div>"
      ],
      "text/plain": [
       "     Actual    Predicted\n",
       "158      24    96.262621\n",
       "83      450   440.123408\n",
       "170    1082  1201.184893\n",
       "101     695   325.423855\n",
       "150    6800  4964.757100\n",
       "199     708   535.540425\n",
       "118      38   105.105599\n",
       "227     548   457.828381\n",
       "63        4    60.196548\n",
       "135     503   667.007515\n",
       "149       0    67.580505\n",
       "232      99   170.270939\n",
       "109      22    80.297320\n",
       "188      24    74.296137\n",
       "153    2499  3570.680172"
      ]
     },
     "execution_count": 1991,
     "metadata": {},
     "output_type": "execute_result"
    }
   ],
   "source": [
    "df5 = pd.DataFrame({'Actual': y5_test, 'Predicted': y5_pred})  \n",
    "df5.head(15)"
   ]
  },
  {
   "cell_type": "markdown",
   "metadata": {},
   "source": [
    "<b>Accuracy and explained variance scores increase significantly for the GA dataset as well. \n",
    "\n",
    "I saw that Violent_Crime had a high Coefficient score in both datasets so I decided to keep it. Next I decided to add 'Aggravated_Assault', and bring the total to 5 variates. </b>"
   ]
  },
  {
   "cell_type": "code",
   "execution_count": 2004,
   "metadata": {},
   "outputs": [
    {
     "data": {
      "text/plain": [
       "((174, 5), (174,))"
      ]
     },
     "execution_count": 2004,
     "metadata": {},
     "output_type": "execute_result"
    }
   ],
   "source": [
    "#adding 'Aggravated_Assault' for 5 total\n",
    "#Calling everything in this model _6\n",
    "#set X6 and y6\n",
    "X6 = data[['Population','Violent_Crime','Murder','Robbery','Aggravated_Assault']]\n",
    "y6 = data['Property']\n",
    "\n",
    "#train test split\n",
    "\n",
    "X6_train, X6_test, y6_train, y6_test = train_test_split(X6, y6, test_size=0.5, random_state=0)\n",
    "\n",
    "#shape\n",
    "X6_train.shape, y6_train.shape\n",
    "\n",
    "X6_test.shape, y6_test.shape"
   ]
  },
  {
   "cell_type": "code",
   "execution_count": 2005,
   "metadata": {},
   "outputs": [
    {
     "data": {
      "text/plain": [
       "LinearRegression(copy_X=True, fit_intercept=True, n_jobs=None,\n",
       "         normalize=False)"
      ]
     },
     "execution_count": 2005,
     "metadata": {},
     "output_type": "execute_result"
    }
   ],
   "source": [
    "\n",
    "# Write out the model formula.\n",
    "# Your dependent variable on the right, independent variables on the left\n",
    "# Use a ~ to represent an '=' from the functional form\n",
    "regr6 = linear_model.LinearRegression()\n",
    "\n",
    "rfit6 = regr6.fit(X6_train, y6_train)\n",
    "rfit6\n"
   ]
  },
  {
   "cell_type": "code",
   "execution_count": null,
   "metadata": {},
   "outputs": [],
   "source": [
    "# Inspect the results.\n",
    "print('\\nCoefficients: \\n', regr6.coef_)\n",
    "print('\\nIntercept: \\n', regr6.intercept_)\n",
    "print('\\nR-squared:')\n",
    "print(regr6.score(X6,y6))"
   ]
  },
  {
   "cell_type": "code",
   "execution_count": 2007,
   "metadata": {
    "scrolled": true
   },
   "outputs": [
    {
     "data": {
      "text/plain": [
       "0.7850669913743296"
      ]
     },
     "execution_count": 2007,
     "metadata": {},
     "output_type": "execute_result"
    }
   ],
   "source": [
    "#test it\n",
    "accuracy6 = regr6.score(X6_test, y6_test)\n",
    "accuracy6"
   ]
  },
  {
   "cell_type": "code",
   "execution_count": 2008,
   "metadata": {},
   "outputs": [
    {
     "name": "stdout",
     "output_type": "stream",
     "text": [
      "Accuracy of logistic regression classifier on test set: 0.79\n"
     ]
    }
   ],
   "source": [
    "#y6_pred\n",
    "\n",
    "y6_pred=rfit6.predict(X6_test)\n",
    "print('Accuracy of logistic regression classifier on test set: {:.2f}'.format(rfit6.score(X6_test, y6_test)))"
   ]
  },
  {
   "cell_type": "code",
   "execution_count": 2009,
   "metadata": {},
   "outputs": [
    {
     "name": "stdout",
     "output_type": "stream",
     "text": [
      "The Explained Variance Score of the NY dataset is: 0.79\n",
      "The Mean Absolute Error of the NY dataset is: 156.2\n",
      "The Mean Squared Error of the NY dataset is: 110888.25\n",
      "The Median Absolute Score of the NY dataset is: 69.44\n",
      "The R2 Score of the NY dataset is: 0.79\n"
     ]
    }
   ],
   "source": [
    "\n",
    "\n",
    "print(\"The Explained Variance Score of the NY dataset is:\", round(explained_variance_score(y6_test, y6_pred, multioutput='uniform_average'), 2 ))\n",
    "print(\"The Mean Absolute Error of the NY dataset is:\", round(mean_absolute_error(y6_test, y6_pred,  sample_weight=None, multioutput='uniform_average'), 2 ))\n",
    "print(\"The Mean Squared Error of the NY dataset is:\", round(mean_squared_error(y6_test, y6_pred), 2 ))\n",
    "print(\"The Median Absolute Score of the NY dataset is:\", round(median_absolute_error(y6_test, y6_pred), 2))\n",
    "print(\"The R2 Score of the NY dataset is:\", round(r2_score(y6_test, y6_pred), 2))"
   ]
  },
  {
   "cell_type": "code",
   "execution_count": 2010,
   "metadata": {},
   "outputs": [
    {
     "data": {
      "text/html": [
       "<div>\n",
       "<style scoped>\n",
       "    .dataframe tbody tr th:only-of-type {\n",
       "        vertical-align: middle;\n",
       "    }\n",
       "\n",
       "    .dataframe tbody tr th {\n",
       "        vertical-align: top;\n",
       "    }\n",
       "\n",
       "    .dataframe thead th {\n",
       "        text-align: right;\n",
       "    }\n",
       "</style>\n",
       "<table border=\"1\" class=\"dataframe\">\n",
       "  <thead>\n",
       "    <tr style=\"text-align: right;\">\n",
       "      <th></th>\n",
       "      <th>Actual</th>\n",
       "      <th>Predicted</th>\n",
       "    </tr>\n",
       "  </thead>\n",
       "  <tbody>\n",
       "    <tr>\n",
       "      <th>6</th>\n",
       "      <td>4090</td>\n",
       "      <td>1893.617946</td>\n",
       "    </tr>\n",
       "    <tr>\n",
       "      <th>52</th>\n",
       "      <td>1040</td>\n",
       "      <td>1416.863365</td>\n",
       "    </tr>\n",
       "    <tr>\n",
       "      <th>269</th>\n",
       "      <td>29</td>\n",
       "      <td>38.556714</td>\n",
       "    </tr>\n",
       "    <tr>\n",
       "      <th>45</th>\n",
       "      <td>1140</td>\n",
       "      <td>1655.688670</td>\n",
       "    </tr>\n",
       "    <tr>\n",
       "      <th>294</th>\n",
       "      <td>73</td>\n",
       "      <td>54.582269</td>\n",
       "    </tr>\n",
       "    <tr>\n",
       "      <th>189</th>\n",
       "      <td>23</td>\n",
       "      <td>117.146167</td>\n",
       "    </tr>\n",
       "    <tr>\n",
       "      <th>191</th>\n",
       "      <td>47</td>\n",
       "      <td>115.344694</td>\n",
       "    </tr>\n",
       "    <tr>\n",
       "      <th>116</th>\n",
       "      <td>158</td>\n",
       "      <td>194.646620</td>\n",
       "    </tr>\n",
       "    <tr>\n",
       "      <th>90</th>\n",
       "      <td>77</td>\n",
       "      <td>251.456158</td>\n",
       "    </tr>\n",
       "    <tr>\n",
       "      <th>249</th>\n",
       "      <td>78</td>\n",
       "      <td>135.992961</td>\n",
       "    </tr>\n",
       "  </tbody>\n",
       "</table>\n",
       "</div>"
      ],
      "text/plain": [
       "     Actual    Predicted\n",
       "6      4090  1893.617946\n",
       "52     1040  1416.863365\n",
       "269      29    38.556714\n",
       "45     1140  1655.688670\n",
       "294      73    54.582269\n",
       "189      23   117.146167\n",
       "191      47   115.344694\n",
       "116     158   194.646620\n",
       "90       77   251.456158\n",
       "249      78   135.992961"
      ]
     },
     "execution_count": 2010,
     "metadata": {},
     "output_type": "execute_result"
    }
   ],
   "source": [
    "df6 = pd.DataFrame({'Actual': y6_test, 'Predicted': y6_pred})  \n",
    "df6.head(10)"
   ]
  },
  {
   "cell_type": "markdown",
   "metadata": {},
   "source": [
    "Out of curiousity I wanted to check the data with all values that didn't contain a null value."
   ]
  },
  {
   "cell_type": "code",
   "execution_count": 2012,
   "metadata": {},
   "outputs": [
    {
     "data": {
      "text/plain": [
       "<bound method Series.sum of City                     0\n",
       "Population               0\n",
       "Violent_Crime            0\n",
       "Murder                   0\n",
       "Rape1                  348\n",
       "Rape2                    0\n",
       "Robbery                  0\n",
       "Aggravated_Assault       0\n",
       "Property                 0\n",
       "Burglary                 0\n",
       "Larceny_Theft            0\n",
       "Motor_Vehicle_Theft      0\n",
       "Arson3                 161\n",
       "MurderCat                0\n",
       "RobberyCat               0\n",
       "dtype: int64>"
      ]
     },
     "execution_count": 2012,
     "metadata": {},
     "output_type": "execute_result"
    }
   ],
   "source": [
    "#null count\n",
    "data.isnull().sum().sum"
   ]
  },
  {
   "cell_type": "code",
   "execution_count": 2013,
   "metadata": {},
   "outputs": [
    {
     "data": {
      "text/plain": [
       "((174, 9), (174,))"
      ]
     },
     "execution_count": 2013,
     "metadata": {},
     "output_type": "execute_result"
    }
   ],
   "source": [
    "#will do a set with all but Rape1 and Arson3 (ignoring murdercat and robberycat)\n",
    "X7 = data[['Population','Violent_Crime','Murder','Rape2','Robbery','Aggravated_Assault','Burglary','Larceny_Theft','Motor_Vehicle_Theft']]\n",
    "y7 = data['Property']\n",
    "\n",
    "#train test split\n",
    "\n",
    "X7_train, X7_test, y7_train, y7_test = train_test_split(X7, y7, test_size=0.5, random_state=0)\n",
    "\n",
    "#shape\n",
    "X7_train.shape, y7_train.shape\n",
    "\n",
    "X7_test.shape, y7_test.shape"
   ]
  },
  {
   "cell_type": "code",
   "execution_count": 2014,
   "metadata": {},
   "outputs": [
    {
     "data": {
      "text/plain": [
       "LinearRegression(copy_X=True, fit_intercept=True, n_jobs=None,\n",
       "         normalize=False)"
      ]
     },
     "execution_count": 2014,
     "metadata": {},
     "output_type": "execute_result"
    }
   ],
   "source": [
    "#linear regression\n",
    "regr7 = linear_model.LinearRegression()\n",
    "\n",
    "rfit7 = regr7.fit(X7_train, y7_train)\n",
    "rfit7"
   ]
  },
  {
   "cell_type": "code",
   "execution_count": 2015,
   "metadata": {},
   "outputs": [
    {
     "name": "stdout",
     "output_type": "stream",
     "text": [
      "\n",
      "Coefficients: \n",
      " [-4.53431792e-18  1.88737914e-14  1.22840974e-13 -7.42340217e-14\n",
      " -7.28583860e-15 -2.25375274e-14  1.00000000e+00  1.00000000e+00\n",
      "  1.00000000e+00]\n",
      "\n",
      "Intercept: \n",
      " 2.8421709430404007e-13\n",
      "\n",
      "R-squared:\n",
      "1.0\n"
     ]
    }
   ],
   "source": [
    "# Inspect the results.\n",
    "print('\\nCoefficients: \\n', regr7.coef_)\n",
    "print('\\nIntercept: \\n', regr7.intercept_)\n",
    "print('\\nR-squared:')\n",
    "print(regr7.score(X7,y7))"
   ]
  },
  {
   "cell_type": "code",
   "execution_count": 2016,
   "metadata": {},
   "outputs": [
    {
     "data": {
      "text/plain": [
       "1.0"
      ]
     },
     "execution_count": 2016,
     "metadata": {},
     "output_type": "execute_result"
    }
   ],
   "source": [
    "#test it\n",
    "accuracy7 = regr7.score(X7_test, y7_test)\n",
    "accuracy7\n"
   ]
  },
  {
   "cell_type": "code",
   "execution_count": 2017,
   "metadata": {},
   "outputs": [
    {
     "name": "stdout",
     "output_type": "stream",
     "text": [
      "Accuracy of logistic regression classifier on test set: 1.00\n"
     ]
    }
   ],
   "source": [
    "#y7_pred\n",
    "\n",
    "y7_pred=rfit7.predict(X7_test)\n",
    "print('Accuracy of logistic regression classifier on test set: {:.2f}'.format(rfit7.score(X7_test, y7_test)))"
   ]
  },
  {
   "cell_type": "code",
   "execution_count": 2018,
   "metadata": {},
   "outputs": [
    {
     "name": "stdout",
     "output_type": "stream",
     "text": [
      "The Explained Variance Score of the NY dataset is: 1.0\n",
      "The Mean Absolute Error of the NY dataset is: 0.0\n",
      "The Mean Squared Error of the NY dataset is: 0.0\n",
      "The Median Absolute Score of the NY dataset is: 0.0\n",
      "The R2 Score of the NY dataset is: 1.0\n"
     ]
    }
   ],
   "source": [
    "\n",
    "print(\"The Explained Variance Score of the NY dataset is:\", round(explained_variance_score(y7_test, y7_pred, multioutput='uniform_average'), 2 ))\n",
    "print(\"The Mean Absolute Error of the NY dataset is:\", round(mean_absolute_error(y7_test, y7_pred,  sample_weight=None, multioutput='uniform_average'), 2 ))\n",
    "print(\"The Mean Squared Error of the NY dataset is:\", round(mean_squared_error(y7_test, y7_pred), 2 ))\n",
    "print(\"The Median Absolute Score of the NY dataset is:\", round(median_absolute_error(y7_test, y7_pred), 2))\n",
    "print(\"The R2 Score of the NY dataset is:\", round(r2_score(y7_test, y7_pred), 2))"
   ]
  },
  {
   "cell_type": "code",
   "execution_count": 2019,
   "metadata": {},
   "outputs": [
    {
     "data": {
      "text/html": [
       "<div>\n",
       "<style scoped>\n",
       "    .dataframe tbody tr th:only-of-type {\n",
       "        vertical-align: middle;\n",
       "    }\n",
       "\n",
       "    .dataframe tbody tr th {\n",
       "        vertical-align: top;\n",
       "    }\n",
       "\n",
       "    .dataframe thead th {\n",
       "        text-align: right;\n",
       "    }\n",
       "</style>\n",
       "<table border=\"1\" class=\"dataframe\">\n",
       "  <thead>\n",
       "    <tr style=\"text-align: right;\">\n",
       "      <th></th>\n",
       "      <th>Actual</th>\n",
       "      <th>Predicted</th>\n",
       "    </tr>\n",
       "  </thead>\n",
       "  <tbody>\n",
       "    <tr>\n",
       "      <th>6</th>\n",
       "      <td>4090</td>\n",
       "      <td>4090.0</td>\n",
       "    </tr>\n",
       "    <tr>\n",
       "      <th>52</th>\n",
       "      <td>1040</td>\n",
       "      <td>1040.0</td>\n",
       "    </tr>\n",
       "    <tr>\n",
       "      <th>269</th>\n",
       "      <td>29</td>\n",
       "      <td>29.0</td>\n",
       "    </tr>\n",
       "    <tr>\n",
       "      <th>45</th>\n",
       "      <td>1140</td>\n",
       "      <td>1140.0</td>\n",
       "    </tr>\n",
       "    <tr>\n",
       "      <th>294</th>\n",
       "      <td>73</td>\n",
       "      <td>73.0</td>\n",
       "    </tr>\n",
       "    <tr>\n",
       "      <th>189</th>\n",
       "      <td>23</td>\n",
       "      <td>23.0</td>\n",
       "    </tr>\n",
       "    <tr>\n",
       "      <th>191</th>\n",
       "      <td>47</td>\n",
       "      <td>47.0</td>\n",
       "    </tr>\n",
       "    <tr>\n",
       "      <th>116</th>\n",
       "      <td>158</td>\n",
       "      <td>158.0</td>\n",
       "    </tr>\n",
       "    <tr>\n",
       "      <th>90</th>\n",
       "      <td>77</td>\n",
       "      <td>77.0</td>\n",
       "    </tr>\n",
       "    <tr>\n",
       "      <th>249</th>\n",
       "      <td>78</td>\n",
       "      <td>78.0</td>\n",
       "    </tr>\n",
       "  </tbody>\n",
       "</table>\n",
       "</div>"
      ],
      "text/plain": [
       "     Actual  Predicted\n",
       "6      4090     4090.0\n",
       "52     1040     1040.0\n",
       "269      29       29.0\n",
       "45     1140     1140.0\n",
       "294      73       73.0\n",
       "189      23       23.0\n",
       "191      47       47.0\n",
       "116     158      158.0\n",
       "90       77       77.0\n",
       "249      78       78.0"
      ]
     },
     "execution_count": 2019,
     "metadata": {},
     "output_type": "execute_result"
    }
   ],
   "source": [
    "df7 = pd.DataFrame({'Actual': y7_test, 'Predicted': y7_pred})  \n",
    "df7.head(10)"
   ]
  },
  {
   "cell_type": "code",
   "execution_count": null,
   "metadata": {},
   "outputs": [],
   "source": []
  }
 ],
 "metadata": {
  "kernelspec": {
   "display_name": "Python 3",
   "language": "python",
   "name": "python3"
  },
  "language_info": {
   "codemirror_mode": {
    "name": "ipython",
    "version": 3
   },
   "file_extension": ".py",
   "mimetype": "text/x-python",
   "name": "python",
   "nbconvert_exporter": "python",
   "pygments_lexer": "ipython3",
   "version": "3.7.1"
  }
 },
 "nbformat": 4,
 "nbformat_minor": 2
}
