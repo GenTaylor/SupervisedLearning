{
 "cells": [
  {
   "cell_type": "markdown",
   "metadata": {},
   "source": [
    "# Challenge: Validating a linear regression"
   ]
  },
  {
   "cell_type": "markdown",
   "metadata": {},
   "source": [
    "Your goal is to achieve a model with a consistent R2 and only statistically significant parameters across multiple samples."
   ]
  },
  {
   "cell_type": "markdown",
   "metadata": {},
   "source": [
    "We'll use the property crime model you've been working on with, based on the FBI:UCR data. Since your model formulation to date has used the entire New York State 2013 dataset, you'll need to validate it using some of the other crime datasets available at the FBI:UCR website."
   ]
  },
  {
   "cell_type": "markdown",
   "metadata": {},
   "source": [
    "Based on the results of your validation test, create a revised model, and then test both old and new models on a new holdout or set of folds.\n",
    "\n",
    "Include your model(s) and a brief writeup of the reasoning behind the validation method you chose and the changes you made to submit and review with your mentor."
   ]
  },
  {
   "cell_type": "code",
   "execution_count": 1136,
   "metadata": {},
   "outputs": [],
   "source": [
    "#importing modules and potential modules\n",
    "%matplotlib inline\n",
    "import numpy as np\n",
    "import pandas as pd\n",
    "import scipy\n",
    "import sklearn\n",
    "import matplotlib.pyplot as plt\n",
    "import seaborn as sns\n",
    "import random\n",
    "import nltk\n",
    "import math\n",
    "import warnings\n",
    "from IPython.display import display\n",
    "from sklearn.model_selection import train_test_split\n",
    "from sklearn import linear_model\n",
    "import statsmodels.formula.api as smf\n",
    "from statsmodels.sandbox.regression.predstd import wls_prediction_std\n",
    "from sklearn.model_selection import cross_val_score\n",
    "from sklearn import metrics  \n",
    "from scipy import stats\n",
    "# Suppress annoying harmless error.\n",
    "warnings.filterwarnings(\n",
    "    action=\"ignore\",\n",
    "    module=\"scipy\",\n",
    "    message=\"^internal gelsd\")"
   ]
  },
  {
   "cell_type": "code",
   "execution_count": 1137,
   "metadata": {},
   "outputs": [],
   "source": [
    "#importing the NY crime dataset\n",
    "data = pd.read_csv('https://raw.githubusercontent.com/GenTaylor/Unit2-SupervisedLearning/master/NYCcrimedataframemlr.csv')"
   ]
  },
  {
   "cell_type": "code",
   "execution_count": 1138,
   "metadata": {},
   "outputs": [
    {
     "data": {
      "text/plain": [
       "Index(['City', 'Population', 'Violent_Crime', 'Murder', 'Rape1', 'Rape2',\n",
       "       'Robbery', 'Aggravated_Assault', 'Property', 'Burglary',\n",
       "       'Larceny_Theft', 'Motor_Vehicle_Theft', 'Arson3'],\n",
       "      dtype='object')"
      ]
     },
     "execution_count": 1138,
     "metadata": {},
     "output_type": "execute_result"
    }
   ],
   "source": [
    "#changing column names\n",
    "data_cols= ['City', 'Population', 'Violent_Crime', 'Murder', 'Rape1', 'Rape2', \n",
    "            'Robbery', 'Aggravated_Assault', 'Property', 'Burglary', \n",
    "            'Larceny_Theft', 'Motor_Vehicle_Theft', 'Arson3']\n",
    "data.columns = data_cols\n",
    "data.columns"
   ]
  },
  {
   "cell_type": "code",
   "execution_count": 1139,
   "metadata": {},
   "outputs": [
    {
     "data": {
      "text/plain": [
       "City                    object\n",
       "Population               int64\n",
       "Violent_Crime            int64\n",
       "Murder                   int64\n",
       "Rape1                  float64\n",
       "Rape2                    int64\n",
       "Robbery                  int64\n",
       "Aggravated_Assault       int64\n",
       "Property                 int64\n",
       "Burglary                 int64\n",
       "Larceny_Theft            int64\n",
       "Motor_Vehicle_Theft      int64\n",
       "Arson3                 float64\n",
       "dtype: object"
      ]
     },
     "execution_count": 1139,
     "metadata": {},
     "output_type": "execute_result"
    }
   ],
   "source": [
    "data.dtypes"
   ]
  },
  {
   "cell_type": "code",
   "execution_count": 1140,
   "metadata": {},
   "outputs": [],
   "source": [
    "#winsorizing data to \"fix\" anomalous values\n",
    "data.Population = scipy.stats.mstats.winsorize(data.Population, limits = 0.01)\n",
    "data.Violent_Crime = scipy.stats.mstats.winsorize(data.Violent_Crime, limits = 0.01)\n",
    "data.Murder = scipy.stats.mstats.winsorize(data.Murder, limits = 0.01)\n",
    "data.Rape1 = scipy.stats.mstats.winsorize(data.Rape1, limits = 0.01)\n",
    "data.Rape2 = scipy.stats.mstats.winsorize(data.Rape2, limits = 0.01)\n",
    "data.Robbery = scipy.stats.mstats.winsorize(data.Robbery, limits = 0.01)\n",
    "data.Aggravated_Assault = scipy.stats.mstats.winsorize(data.Aggravated_Assault, limits = 0.01)\n",
    "data.Property = scipy.stats.mstats.winsorize(data.Property, limits = 0.01)\n",
    "data.Burglary = scipy.stats.mstats.winsorize(data.Burglary, limits = 0.01)\n",
    "data.Larceny_Theft = scipy.stats.mstats.winsorize(data.Larceny_Theft, limits = 0.01)\n",
    "data.Motor_Vehicle_Theft = scipy.stats.mstats.winsorize(data.Motor_Vehicle_Theft, limits = 0.01)\n",
    "data.Arson3 = scipy.stats.mstats.winsorize(data.Arson3, limits = 0.01)"
   ]
  },
  {
   "cell_type": "code",
   "execution_count": 1141,
   "metadata": {},
   "outputs": [
    {
     "name": "stdout",
     "output_type": "stream",
     "text": [
      "        City  Population  Violent_Crime  Murder  Rape1  Rape2  Robbery  \\\n",
      "0   New York      199134           1192      21    NaN     75      400   \n",
      "1    Buffalo      199134           1192      21    NaN     75      400   \n",
      "2  Rochester      199134           1192      21    NaN     75      400   \n",
      "\n",
      "   Aggravated_Assault  Property  Burglary  Larceny_Theft  Motor_Vehicle_Theft  \\\n",
      "0                 696      6473      1781           4298                  394   \n",
      "1                 696      6473      1781           4298                  394   \n",
      "2                 696      6473      1781           4298                  394   \n",
      "\n",
      "   Arson3  \n",
      "0     NaN  \n",
      "1     NaN  \n",
      "2   132.0  \n"
     ]
    }
   ],
   "source": [
    "data.sort_values('Population', inplace=True, ascending=False)\n",
    "print(data.head(n=3))"
   ]
  },
  {
   "cell_type": "code",
   "execution_count": 1142,
   "metadata": {},
   "outputs": [],
   "source": [
    "\n",
    "#set X and Y\n",
    "X = data[['Population','Murder','Robbery']]\n",
    "Y = data['Property']"
   ]
  },
  {
   "cell_type": "code",
   "execution_count": 1143,
   "metadata": {},
   "outputs": [
    {
     "data": {
      "text/plain": [
       "((174, 3), (174,))"
      ]
     },
     "execution_count": 1143,
     "metadata": {},
     "output_type": "execute_result"
    }
   ],
   "source": [
    "#train test split\n",
    "\n",
    "X_train, X_test, y_train, y_test = train_test_split(X, Y, test_size=0.5, random_state=0)\n",
    "\n",
    "#shape\n",
    "X_train.shape, y_train.shape\n",
    "\n",
    "X_test.shape, y_test.shape\n"
   ]
  },
  {
   "cell_type": "code",
   "execution_count": 1144,
   "metadata": {},
   "outputs": [
    {
     "data": {
      "text/plain": [
       "LinearRegression(copy_X=True, fit_intercept=True, n_jobs=None,\n",
       "         normalize=False)"
      ]
     },
     "execution_count": 1144,
     "metadata": {},
     "output_type": "execute_result"
    }
   ],
   "source": [
    "#regression?\n",
    "\n",
    "# Write out the model formula.\n",
    "# Your dependent variable on the right, independent variables on the left\n",
    "# Use a ~ to represent an '=' from the functional form\n",
    "regr = linear_model.LinearRegression()\n",
    "\n",
    "rfit = regr.fit(X_train, y_train)\n",
    "rfit"
   ]
  },
  {
   "cell_type": "code",
   "execution_count": 1145,
   "metadata": {},
   "outputs": [
    {
     "name": "stdout",
     "output_type": "stream",
     "text": [
      "\n",
      "Coefficients: \n",
      " [ 1.58918239e-02  2.01231521e+02 -1.82430872e+00]\n",
      "\n",
      "Intercept: \n",
      " 44.47387385248015\n",
      "\n",
      "R-squared:\n",
      "0.8832975478217796\n"
     ]
    }
   ],
   "source": [
    "# Inspect the results.\n",
    "print('\\nCoefficients: \\n', regr.coef_)\n",
    "print('\\nIntercept: \\n', regr.intercept_)\n",
    "print('\\nR-squared:')\n",
    "print(regr.score(X, Y))"
   ]
  },
  {
   "cell_type": "code",
   "execution_count": 1146,
   "metadata": {},
   "outputs": [
    {
     "data": {
      "text/plain": [
       "0.8144104514642367"
      ]
     },
     "execution_count": 1146,
     "metadata": {},
     "output_type": "execute_result"
    }
   ],
   "source": [
    "#test it\n",
    "accuracy = regr.score(X_test, y_test)\n",
    "accuracy"
   ]
  },
  {
   "cell_type": "code",
   "execution_count": 1147,
   "metadata": {},
   "outputs": [
    {
     "name": "stdout",
     "output_type": "stream",
     "text": [
      "Accuracy of logistic regression classifier on test set: 0.81\n"
     ]
    }
   ],
   "source": [
    "#y_pred\n",
    "\n",
    "y_pred=rfit.predict(X_test)\n",
    "print('Accuracy of logistic regression classifier on test set: {:.2f}'.format(rfit.score(X_test, y_test)))"
   ]
  },
  {
   "cell_type": "code",
   "execution_count": 1148,
   "metadata": {},
   "outputs": [
    {
     "data": {
      "text/plain": [
       "0.8147753489634106"
      ]
     },
     "execution_count": 1148,
     "metadata": {},
     "output_type": "execute_result"
    }
   ],
   "source": [
    "#explained variance score\n",
    "from sklearn.metrics import explained_variance_score\n",
    "explained_variance_score(y_test, y_pred, multioutput='uniform_average')"
   ]
  },
  {
   "cell_type": "code",
   "execution_count": 1149,
   "metadata": {},
   "outputs": [
    {
     "data": {
      "text/plain": [
       "164.02400659943194"
      ]
     },
     "execution_count": 1149,
     "metadata": {},
     "output_type": "execute_result"
    }
   ],
   "source": [
    "#Mean Absolute Error\n",
    "\n",
    "from sklearn.metrics import mean_absolute_error\n",
    "mean_absolute_error(y_test, y_pred,  sample_weight=None, multioutput='uniform_average')"
   ]
  },
  {
   "cell_type": "code",
   "execution_count": 1150,
   "metadata": {},
   "outputs": [
    {
     "data": {
      "text/plain": [
       "95749.3672671282"
      ]
     },
     "execution_count": 1150,
     "metadata": {},
     "output_type": "execute_result"
    }
   ],
   "source": [
    "#Mean Squared Error\n",
    "from sklearn.metrics import mean_squared_error\n",
    "mean_squared_error(y_test, y_pred)"
   ]
  },
  {
   "cell_type": "code",
   "execution_count": 1151,
   "metadata": {},
   "outputs": [
    {
     "data": {
      "text/plain": [
       "74.27122262808322"
      ]
     },
     "execution_count": 1151,
     "metadata": {},
     "output_type": "execute_result"
    }
   ],
   "source": [
    "#Median Absolute Error\n",
    "from sklearn.metrics import median_absolute_error\n",
    "median_absolute_error(y_test, y_pred)"
   ]
  },
  {
   "cell_type": "code",
   "execution_count": 1152,
   "metadata": {},
   "outputs": [
    {
     "data": {
      "text/plain": [
       "0.8144104514642367"
      ]
     },
     "execution_count": 1152,
     "metadata": {},
     "output_type": "execute_result"
    }
   ],
   "source": [
    "#R2 Score\n",
    "from sklearn.metrics import r2_score\n",
    "r2_score(y_test, y_pred)"
   ]
  },
  {
   "cell_type": "code",
   "execution_count": 1153,
   "metadata": {},
   "outputs": [],
   "source": [
    "#print commands for all scores??? ***Later"
   ]
  },
  {
   "cell_type": "code",
   "execution_count": 1154,
   "metadata": {},
   "outputs": [],
   "source": [
    "#importing the GA dataset to compare\n",
    "#note: same data cleaning will be done, followed by the reg, etc. \n",
    "\n",
    "data2 = pd.read_csv('https://raw.githubusercontent.com/GenTaylor/Unit2-SupervisedLearning/master/GACcrimedataframemlr.csv')"
   ]
  },
  {
   "cell_type": "code",
   "execution_count": 1155,
   "metadata": {},
   "outputs": [
    {
     "data": {
      "text/plain": [
       "Index(['City', 'Population', 'Violent_Crime', 'Murder', 'Rape1', 'Rape2',\n",
       "       'Robbery', 'Aggravated_Assault', 'Property', 'Burglary',\n",
       "       'Larceny_Theft', 'Motor_Vehicle_Theft', 'Arson3'],\n",
       "      dtype='object')"
      ]
     },
     "execution_count": 1155,
     "metadata": {},
     "output_type": "execute_result"
    }
   ],
   "source": [
    "#changing column names\n",
    "data2_cols= ['City', 'Population', 'Violent_Crime', 'Murder', 'Rape1', 'Rape2', \n",
    "            'Robbery', 'Aggravated_Assault', 'Property', 'Burglary', \n",
    "            'Larceny_Theft', 'Motor_Vehicle_Theft', 'Arson3']\n",
    "data2.columns = data2_cols\n",
    "data2.columns"
   ]
  },
  {
   "cell_type": "code",
   "execution_count": 1156,
   "metadata": {},
   "outputs": [],
   "source": [
    "#winsorize\n",
    "data2.Population = scipy.stats.mstats.winsorize(data2.Population, limits = 0.01)\n",
    "data2.Violent_Crime = scipy.stats.mstats.winsorize(data2.Violent_Crime, limits = 0.01)\n",
    "data2.Murder = scipy.stats.mstats.winsorize(data2.Murder, limits = 0.01)\n",
    "data2.Rape1 = scipy.stats.mstats.winsorize(data2.Rape1, limits = 0.01)\n",
    "data2.Rape2 = scipy.stats.mstats.winsorize(data2.Rape2, limits = 0.01)\n",
    "data2.Robbery = scipy.stats.mstats.winsorize(data2.Robbery, limits = 0.01)\n",
    "data2.Aggravated_Assault = scipy.stats.mstats.winsorize(data2.Aggravated_Assault, limits = 0.01)\n",
    "data2.Property = scipy.stats.mstats.winsorize(data2.Property, limits = 0.01)\n",
    "data2.Burglary = scipy.stats.mstats.winsorize(data2.Burglary, limits = 0.01)\n",
    "data2.Larceny_Theft = scipy.stats.mstats.winsorize(data2.Larceny_Theft, limits = 0.01)\n",
    "data2.Motor_Vehicle_Theft = scipy.stats.mstats.winsorize(data2.Motor_Vehicle_Theft, limits = 0.01)\n",
    "data2.Arson3 = scipy.stats.mstats.winsorize(data2.Arson3, limits = 0.01)\n"
   ]
  },
  {
   "cell_type": "code",
   "execution_count": 1157,
   "metadata": {},
   "outputs": [],
   "source": [
    "#Robbery and Murder are currently continuous variables. \n",
    "#For this model, please use these variables to create categorical \n",
    "#features where values greater than 0 are coded 1, \n",
    "#and values equal to 0 are coded 0.\n",
    "\n",
    "#categorical feature\n",
    "onecat = 1"
   ]
  },
  {
   "cell_type": "code",
   "execution_count": null,
   "metadata": {},
   "outputs": [],
   "source": [
    "#Robbery\n",
    "data2['Robbery'] = np.where(data2['Robbery'] < onecat, 0, 1)\n",
    "\n",
    "#Murder\n",
    "data2['Murder'] = np.where(data2['Murder'] < onecat, 0, 1)"
   ]
  },
  {
   "cell_type": "code",
   "execution_count": 1158,
   "metadata": {},
   "outputs": [],
   "source": [
    "\n",
    "#set X2 and Y2\n",
    "X2 = data2[['Population','Murder','Robbery']]\n",
    "Y2 = data2['Property']"
   ]
  },
  {
   "cell_type": "code",
   "execution_count": 1159,
   "metadata": {},
   "outputs": [
    {
     "data": {
      "text/plain": [
       "((127, 3), (127,))"
      ]
     },
     "execution_count": 1159,
     "metadata": {},
     "output_type": "execute_result"
    }
   ],
   "source": [
    "#train test split\n",
    "\n",
    "X2_train, X2_test, y2_train, y2_test = train_test_split(X2, Y2, test_size=0.5, random_state=0)\n",
    "\n",
    "#shape\n",
    "X2_train.shape, y2_train.shape\n",
    "\n",
    "X2_test.shape, y2_test.shape\n"
   ]
  },
  {
   "cell_type": "code",
   "execution_count": 1160,
   "metadata": {},
   "outputs": [
    {
     "data": {
      "text/plain": [
       "LinearRegression(copy_X=True, fit_intercept=True, n_jobs=None,\n",
       "         normalize=False)"
      ]
     },
     "execution_count": 1160,
     "metadata": {},
     "output_type": "execute_result"
    }
   ],
   "source": [
    "#regression?\n",
    "\n",
    "# Write out the model formula.\n",
    "# Your dependent variable on the right, independent variables on the left\n",
    "# Use a ~ to represent an '=' from the functional form\n",
    "regr2 = linear_model.LinearRegression()\n",
    "\n",
    "rfit2 = regr2.fit(X2_train, y2_train)\n",
    "rfit2"
   ]
  },
  {
   "cell_type": "code",
   "execution_count": 1161,
   "metadata": {},
   "outputs": [
    {
     "name": "stdout",
     "output_type": "stream",
     "text": [
      "\n",
      "Coefficients: \n",
      " [ 1.55050575e-02 -3.81625480e+01  1.49365071e+01]\n",
      "\n",
      "Intercept: \n",
      " 102.91707523369007\n",
      "\n",
      "R-squared:\n",
      "0.6302126897537156\n"
     ]
    }
   ],
   "source": [
    "# Inspect the results.\n",
    "print('\\nCoefficients: \\n', regr2.coef_)\n",
    "print('\\nIntercept: \\n', regr2.intercept_)\n",
    "print('\\nR-squared:')\n",
    "print(regr2.score(X,Y))"
   ]
  },
  {
   "cell_type": "code",
   "execution_count": 1162,
   "metadata": {},
   "outputs": [
    {
     "data": {
      "text/plain": [
       "0.9502826276063441"
      ]
     },
     "execution_count": 1162,
     "metadata": {},
     "output_type": "execute_result"
    }
   ],
   "source": [
    "#test it\n",
    "accuracy2 = regr2.score(X2_test, y2_test)\n",
    "accuracy2"
   ]
  },
  {
   "cell_type": "code",
   "execution_count": 1163,
   "metadata": {},
   "outputs": [
    {
     "name": "stdout",
     "output_type": "stream",
     "text": [
      "Accuracy of logistic regression classifier on test set: 0.95\n"
     ]
    }
   ],
   "source": [
    "#y2_pred\n",
    "\n",
    "y2_pred=rfit2.predict(X2_test)\n",
    "print('Accuracy of logistic regression classifier on test set: {:.2f}'.format(rfit2.score(X2_test, y2_test)))"
   ]
  },
  {
   "cell_type": "code",
   "execution_count": 1164,
   "metadata": {},
   "outputs": [
    {
     "data": {
      "text/plain": [
       "0.9503514452752404"
      ]
     },
     "execution_count": 1164,
     "metadata": {},
     "output_type": "execute_result"
    }
   ],
   "source": [
    "#explained variance score\n",
    "from sklearn.metrics import explained_variance_score\n",
    "explained_variance_score(y2_test, y2_pred, multioutput='uniform_average')"
   ]
  },
  {
   "cell_type": "code",
   "execution_count": 1165,
   "metadata": {},
   "outputs": [
    {
     "data": {
      "text/plain": [
       "164.41408473069006"
      ]
     },
     "execution_count": 1165,
     "metadata": {},
     "output_type": "execute_result"
    }
   ],
   "source": [
    "#Mean Absolute Error\n",
    "\n",
    "from sklearn.metrics import mean_absolute_error\n",
    "mean_absolute_error(y2_test, y2_pred,  sample_weight=None, multioutput='uniform_average')"
   ]
  },
  {
   "cell_type": "code",
   "execution_count": 1166,
   "metadata": {},
   "outputs": [
    {
     "data": {
      "text/plain": [
       "94562.38423724392"
      ]
     },
     "execution_count": 1166,
     "metadata": {},
     "output_type": "execute_result"
    }
   ],
   "source": [
    "#Mean Squared Error\n",
    "from sklearn.metrics import mean_squared_error\n",
    "mean_squared_error(y2_test, y2_pred)"
   ]
  },
  {
   "cell_type": "code",
   "execution_count": 1167,
   "metadata": {},
   "outputs": [
    {
     "data": {
      "text/plain": [
       "106.07243063272134"
      ]
     },
     "execution_count": 1167,
     "metadata": {},
     "output_type": "execute_result"
    }
   ],
   "source": [
    "#Median Absolute Error\n",
    "from sklearn.metrics import median_absolute_error\n",
    "median_absolute_error(y2_test, y2_pred)"
   ]
  },
  {
   "cell_type": "code",
   "execution_count": 1168,
   "metadata": {},
   "outputs": [
    {
     "data": {
      "text/plain": [
       "0.9502826276063441"
      ]
     },
     "execution_count": 1168,
     "metadata": {},
     "output_type": "execute_result"
    }
   ],
   "source": [
    "#R2 Score\n",
    "from sklearn.metrics import r2_score\n",
    "r2_score(y2_test, y2_pred)\n"
   ]
  },
  {
   "cell_type": "markdown",
   "metadata": {},
   "source": [
    "## Summary"
   ]
  },
  {
   "cell_type": "markdown",
   "metadata": {},
   "source": [
    "### New York Dataset"
   ]
  },
  {
   "cell_type": "code",
   "execution_count": 1169,
   "metadata": {},
   "outputs": [
    {
     "name": "stdout",
     "output_type": "stream",
     "text": [
      "The Explained Variance Score of the NY dataset is: 0.81\n",
      "The Mean Absolute Error of the NY dataset is: 164.02\n",
      "The Mean Squared Error of the NY dataset is: 95749.37\n",
      "The Median Absolute Score of the NY dataset is: 74.27\n",
      "The R2 Score of the NY dataset is: 0.81\n"
     ]
    }
   ],
   "source": [
    "print(\"The Explained Variance Score of the NY dataset is:\", round(explained_variance_score(y_test, y_pred, multioutput='uniform_average'), 2))\n",
    "print(\"The Mean Absolute Error of the NY dataset is:\", round(mean_absolute_error(y_test, y_pred,  sample_weight=None, multioutput='uniform_average'), 2))\n",
    "print(\"The Mean Squared Error of the NY dataset is:\", round(mean_squared_error(y_test, y_pred), 2))\n",
    "print(\"The Median Absolute Score of the NY dataset is:\", round(median_absolute_error(y_test, y_pred), 2))\n",
    "print(\"The R2 Score of the NY dataset is:\", round(r2_score(y_test, y_pred), 2))\n"
   ]
  },
  {
   "cell_type": "markdown",
   "metadata": {},
   "source": [
    "### Georgia Dataset"
   ]
  },
  {
   "cell_type": "code",
   "execution_count": 1170,
   "metadata": {},
   "outputs": [
    {
     "name": "stdout",
     "output_type": "stream",
     "text": [
      "The Explained Variance Score of the GA dataset is: 0.95\n",
      "The Mean Absolute Error of the GA dataset is: 164.41\n",
      "The Mean Squared Error of the GA dataset is: 94562.38\n",
      "The Median Absolute Score of the GA dataset is: 106.07\n",
      "The R2 Score of the GA dataset is: 0.95\n"
     ]
    }
   ],
   "source": [
    "print(\"The Explained Variance Score of the GA dataset is:\", round(explained_variance_score(y2_test, y2_pred, multioutput='uniform_average'), 2 ))\n",
    "print(\"The Mean Absolute Error of the GA dataset is:\", round(mean_absolute_error(y2_test, y2_pred,  sample_weight=None, multioutput='uniform_average'), 2 ))\n",
    "print(\"The Mean Squared Error of the GA dataset is:\", round(mean_squared_error(y2_test, y2_pred), 2 ))\n",
    "print(\"The Median Absolute Score of the GA dataset is:\", round(median_absolute_error(y2_test, y2_pred), 2))\n",
    "print(\"The R2 Score of the GA dataset is:\", round(r2_score(y2_test, y2_pred), 2))\n"
   ]
  },
  {
   "cell_type": "code",
   "execution_count": 1171,
   "metadata": {},
   "outputs": [
    {
     "data": {
      "text/html": [
       "<div>\n",
       "<style scoped>\n",
       "    .dataframe tbody tr th:only-of-type {\n",
       "        vertical-align: middle;\n",
       "    }\n",
       "\n",
       "    .dataframe tbody tr th {\n",
       "        vertical-align: top;\n",
       "    }\n",
       "\n",
       "    .dataframe thead th {\n",
       "        text-align: right;\n",
       "    }\n",
       "</style>\n",
       "<table border=\"1\" class=\"dataframe\">\n",
       "  <thead>\n",
       "    <tr style=\"text-align: right;\">\n",
       "      <th></th>\n",
       "      <th>Actual</th>\n",
       "      <th>Predicted</th>\n",
       "    </tr>\n",
       "  </thead>\n",
       "  <tbody>\n",
       "    <tr>\n",
       "      <th>6</th>\n",
       "      <td>4090</td>\n",
       "      <td>2796.907464</td>\n",
       "    </tr>\n",
       "    <tr>\n",
       "      <th>52</th>\n",
       "      <td>1040</td>\n",
       "      <td>1231.030472</td>\n",
       "    </tr>\n",
       "    <tr>\n",
       "      <th>269</th>\n",
       "      <td>29</td>\n",
       "      <td>86.793801</td>\n",
       "    </tr>\n",
       "    <tr>\n",
       "      <th>45</th>\n",
       "      <td>1140</td>\n",
       "      <td>460.537370</td>\n",
       "    </tr>\n",
       "    <tr>\n",
       "      <th>294</th>\n",
       "      <td>73</td>\n",
       "      <td>78.100973</td>\n",
       "    </tr>\n",
       "    <tr>\n",
       "      <th>189</th>\n",
       "      <td>23</td>\n",
       "      <td>148.247484</td>\n",
       "    </tr>\n",
       "    <tr>\n",
       "      <th>191</th>\n",
       "      <td>47</td>\n",
       "      <td>146.022628</td>\n",
       "    </tr>\n",
       "    <tr>\n",
       "      <th>116</th>\n",
       "      <td>158</td>\n",
       "      <td>235.671658</td>\n",
       "    </tr>\n",
       "    <tr>\n",
       "      <th>90</th>\n",
       "      <td>77</td>\n",
       "      <td>328.365416</td>\n",
       "    </tr>\n",
       "    <tr>\n",
       "      <th>249</th>\n",
       "      <td>78</td>\n",
       "      <td>99.348342</td>\n",
       "    </tr>\n",
       "  </tbody>\n",
       "</table>\n",
       "</div>"
      ],
      "text/plain": [
       "     Actual    Predicted\n",
       "6      4090  2796.907464\n",
       "52     1040  1231.030472\n",
       "269      29    86.793801\n",
       "45     1140   460.537370\n",
       "294      73    78.100973\n",
       "189      23   148.247484\n",
       "191      47   146.022628\n",
       "116     158   235.671658\n",
       "90       77   328.365416\n",
       "249      78    99.348342"
      ]
     },
     "execution_count": 1171,
     "metadata": {},
     "output_type": "execute_result"
    }
   ],
   "source": [
    "df = pd.DataFrame({'Actual': y_test, 'Predicted': y_pred})  \n",
    "df.head(10)"
   ]
  },
  {
   "cell_type": "code",
   "execution_count": 1172,
   "metadata": {},
   "outputs": [
    {
     "data": {
      "text/html": [
       "<div>\n",
       "<style scoped>\n",
       "    .dataframe tbody tr th:only-of-type {\n",
       "        vertical-align: middle;\n",
       "    }\n",
       "\n",
       "    .dataframe tbody tr th {\n",
       "        vertical-align: top;\n",
       "    }\n",
       "\n",
       "    .dataframe thead th {\n",
       "        text-align: right;\n",
       "    }\n",
       "</style>\n",
       "<table border=\"1\" class=\"dataframe\">\n",
       "  <thead>\n",
       "    <tr style=\"text-align: right;\">\n",
       "      <th></th>\n",
       "      <th>Actual</th>\n",
       "      <th>Predicted</th>\n",
       "    </tr>\n",
       "  </thead>\n",
       "  <tbody>\n",
       "    <tr>\n",
       "      <th>158</th>\n",
       "      <td>24</td>\n",
       "      <td>118.964810</td>\n",
       "    </tr>\n",
       "    <tr>\n",
       "      <th>83</th>\n",
       "      <td>450</td>\n",
       "      <td>319.444919</td>\n",
       "    </tr>\n",
       "    <tr>\n",
       "      <th>170</th>\n",
       "      <td>1082</td>\n",
       "      <td>1017.172472</td>\n",
       "    </tr>\n",
       "    <tr>\n",
       "      <th>101</th>\n",
       "      <td>695</td>\n",
       "      <td>280.150156</td>\n",
       "    </tr>\n",
       "    <tr>\n",
       "      <th>150</th>\n",
       "      <td>6800</td>\n",
       "      <td>4280.028983</td>\n",
       "    </tr>\n",
       "    <tr>\n",
       "      <th>199</th>\n",
       "      <td>708</td>\n",
       "      <td>344.687058</td>\n",
       "    </tr>\n",
       "    <tr>\n",
       "      <th>118</th>\n",
       "      <td>38</td>\n",
       "      <td>146.501792</td>\n",
       "    </tr>\n",
       "    <tr>\n",
       "      <th>227</th>\n",
       "      <td>548</td>\n",
       "      <td>290.937420</td>\n",
       "    </tr>\n",
       "    <tr>\n",
       "      <th>63</th>\n",
       "      <td>4</td>\n",
       "      <td>111.057230</td>\n",
       "    </tr>\n",
       "    <tr>\n",
       "      <th>135</th>\n",
       "      <td>503</td>\n",
       "      <td>692.610368</td>\n",
       "    </tr>\n",
       "  </tbody>\n",
       "</table>\n",
       "</div>"
      ],
      "text/plain": [
       "     Actual    Predicted\n",
       "158      24   118.964810\n",
       "83      450   319.444919\n",
       "170    1082  1017.172472\n",
       "101     695   280.150156\n",
       "150    6800  4280.028983\n",
       "199     708   344.687058\n",
       "118      38   146.501792\n",
       "227     548   290.937420\n",
       "63        4   111.057230\n",
       "135     503   692.610368"
      ]
     },
     "execution_count": 1172,
     "metadata": {},
     "output_type": "execute_result"
    }
   ],
   "source": [
    "df2 = pd.DataFrame({'Actual': y2_test, 'Predicted': y2_pred})  \n",
    "df2.head(10)"
   ]
  },
  {
   "cell_type": "code",
   "execution_count": null,
   "metadata": {},
   "outputs": [],
   "source": []
  },
  {
   "cell_type": "code",
   "execution_count": null,
   "metadata": {},
   "outputs": [],
   "source": []
  },
  {
   "cell_type": "code",
   "execution_count": null,
   "metadata": {},
   "outputs": [],
   "source": []
  }
 ],
 "metadata": {
  "kernelspec": {
   "display_name": "Python 3",
   "language": "python",
   "name": "python3"
  },
  "language_info": {
   "codemirror_mode": {
    "name": "ipython",
    "version": 3
   },
   "file_extension": ".py",
   "mimetype": "text/x-python",
   "name": "python",
   "nbconvert_exporter": "python",
   "pygments_lexer": "ipython3",
   "version": "3.7.1"
  }
 },
 "nbformat": 4,
 "nbformat_minor": 2
}
